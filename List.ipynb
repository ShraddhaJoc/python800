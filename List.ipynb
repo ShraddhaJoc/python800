{
 "cells": [
  {
   "cell_type": "code",
   "execution_count": 1,
   "id": "8e242e92",
   "metadata": {},
   "outputs": [],
   "source": [
    "fruits = ['apple','banana', 'mango','orange','pear' ]"
   ]
  },
  {
   "cell_type": "code",
   "execution_count": 2,
   "id": "7787da6a",
   "metadata": {},
   "outputs": [],
   "source": [
    "#python list are mutable"
   ]
  },
  {
   "cell_type": "code",
   "execution_count": 3,
   "id": "90e72a6c",
   "metadata": {},
   "outputs": [],
   "source": [
    "fruits[1] =\"Papaya\""
   ]
  },
  {
   "cell_type": "code",
   "execution_count": 4,
   "id": "dc63b09a",
   "metadata": {},
   "outputs": [
    {
     "data": {
      "text/plain": [
       "['apple', 'Papaya', 'mango', 'orange', 'pear']"
      ]
     },
     "execution_count": 4,
     "metadata": {},
     "output_type": "execute_result"
    }
   ],
   "source": [
    "fruits"
   ]
  },
  {
   "cell_type": "code",
   "execution_count": 5,
   "id": "2a84c1a1",
   "metadata": {},
   "outputs": [],
   "source": [
    "fruits[2:4]=['kiwi', 'Avacado']"
   ]
  },
  {
   "cell_type": "code",
   "execution_count": 6,
   "id": "03c98bf8",
   "metadata": {},
   "outputs": [
    {
     "data": {
      "text/plain": [
       "['apple', 'Papaya', 'kiwi', 'Avacado', 'pear']"
      ]
     },
     "execution_count": 6,
     "metadata": {},
     "output_type": "execute_result"
    }
   ],
   "source": [
    "fruits"
   ]
  },
  {
   "cell_type": "markdown",
   "id": "e9e04f2e",
   "metadata": {},
   "source": [
    "# .insert() method in python list"
   ]
  },
  {
   "cell_type": "code",
   "execution_count": 12,
   "id": "e656a058",
   "metadata": {},
   "outputs": [
    {
     "data": {
      "text/plain": [
       "'banana'"
      ]
     },
     "execution_count": 12,
     "metadata": {},
     "output_type": "execute_result"
    }
   ],
   "source": [
    "fruits = ['apple','banana', 'mango','orange','pear' ]\n",
    "fruits[1]"
   ]
  },
  {
   "cell_type": "code",
   "execution_count": 13,
   "id": "cc862cf7",
   "metadata": {},
   "outputs": [],
   "source": [
    "fruits.insert(1,\"kiwi\")"
   ]
  },
  {
   "cell_type": "code",
   "execution_count": 14,
   "id": "d7a77434",
   "metadata": {},
   "outputs": [
    {
     "data": {
      "text/plain": [
       "['apple', 'kiwi', 'banana', 'mango', 'orange', 'pear']"
      ]
     },
     "execution_count": 14,
     "metadata": {},
     "output_type": "execute_result"
    }
   ],
   "source": [
    "fruits"
   ]
  },
  {
   "cell_type": "code",
   "execution_count": 15,
   "id": "e6b63ca6",
   "metadata": {},
   "outputs": [
    {
     "data": {
      "text/plain": [
       "'kiwi'"
      ]
     },
     "execution_count": 15,
     "metadata": {},
     "output_type": "execute_result"
    }
   ],
   "source": [
    "fruits[1]"
   ]
  },
  {
   "cell_type": "markdown",
   "id": "9e5373ca",
   "metadata": {},
   "source": [
    "# .append() method "
   ]
  },
  {
   "cell_type": "code",
   "execution_count": 16,
   "id": "10070d87",
   "metadata": {},
   "outputs": [],
   "source": [
    "car =[]"
   ]
  },
  {
   "cell_type": "code",
   "execution_count": 17,
   "id": "bfe443fe",
   "metadata": {},
   "outputs": [],
   "source": [
    "car.append(\"Tesla\")"
   ]
  },
  {
   "cell_type": "code",
   "execution_count": 18,
   "id": "0cf665b8",
   "metadata": {},
   "outputs": [
    {
     "data": {
      "text/plain": [
       "['Tesla']"
      ]
     },
     "execution_count": 18,
     "metadata": {},
     "output_type": "execute_result"
    }
   ],
   "source": [
    "car"
   ]
  },
  {
   "cell_type": "code",
   "execution_count": 19,
   "id": "77c044d4",
   "metadata": {},
   "outputs": [],
   "source": [
    "car.append(\"BMW\")"
   ]
  },
  {
   "cell_type": "code",
   "execution_count": 20,
   "id": "50c09898",
   "metadata": {},
   "outputs": [
    {
     "data": {
      "text/plain": [
       "['Tesla', 'BMW']"
      ]
     },
     "execution_count": 20,
     "metadata": {},
     "output_type": "execute_result"
    }
   ],
   "source": [
    "car"
   ]
  },
  {
   "cell_type": "code",
   "execution_count": 21,
   "id": "749da7e5",
   "metadata": {},
   "outputs": [
    {
     "data": {
      "text/plain": [
       "[4, 5, 88]"
      ]
     },
     "execution_count": 21,
     "metadata": {},
     "output_type": "execute_result"
    }
   ],
   "source": [
    "num = [4,5]\n",
    "num.append(88)\n",
    "num"
   ]
  },
  {
   "cell_type": "code",
   "execution_count": 22,
   "id": "3fd1577f",
   "metadata": {},
   "outputs": [],
   "source": [
    "num.append([44,55])"
   ]
  },
  {
   "cell_type": "code",
   "execution_count": 23,
   "id": "65ac8bb7",
   "metadata": {},
   "outputs": [
    {
     "data": {
      "text/plain": [
       "[4, 5, 88, [44, 55]]"
      ]
     },
     "execution_count": 23,
     "metadata": {},
     "output_type": "execute_result"
    }
   ],
   "source": [
    "num"
   ]
  },
  {
   "cell_type": "code",
   "execution_count": 24,
   "id": "1bc03498",
   "metadata": {},
   "outputs": [
    {
     "data": {
      "text/plain": [
       "[44, 55]"
      ]
     },
     "execution_count": 24,
     "metadata": {},
     "output_type": "execute_result"
    }
   ],
   "source": [
    "num[3]"
   ]
  },
  {
   "cell_type": "code",
   "execution_count": 25,
   "id": "279a7247",
   "metadata": {},
   "outputs": [
    {
     "data": {
      "text/plain": [
       "44"
      ]
     },
     "execution_count": 25,
     "metadata": {},
     "output_type": "execute_result"
    }
   ],
   "source": [
    "num[3][0]"
   ]
  },
  {
   "cell_type": "markdown",
   "id": "8997edf1",
   "metadata": {},
   "source": [
    "# List of list "
   ]
  },
  {
   "cell_type": "code",
   "execution_count": 34,
   "id": "93f23457",
   "metadata": {},
   "outputs": [],
   "source": [
    "num = [[2,3],[1,6,7,2],[0],[1,2,3,4,5]]"
   ]
  },
  {
   "cell_type": "markdown",
   "id": "95cf7b77",
   "metadata": {},
   "source": [
    "# extend() method"
   ]
  },
  {
   "cell_type": "code",
   "execution_count": 36,
   "id": "37890546",
   "metadata": {},
   "outputs": [],
   "source": [
    "x = [1,3,5,7]\n",
    "y = [2,4,6,11]\n"
   ]
  },
  {
   "cell_type": "code",
   "execution_count": 37,
   "id": "2f3aa159",
   "metadata": {},
   "outputs": [],
   "source": [
    "x.extend(y)"
   ]
  },
  {
   "cell_type": "code",
   "execution_count": 38,
   "id": "065611a0",
   "metadata": {},
   "outputs": [
    {
     "data": {
      "text/plain": [
       "[1, 3, 5, 7, 2, 4, 6, 11]"
      ]
     },
     "execution_count": 38,
     "metadata": {},
     "output_type": "execute_result"
    }
   ],
   "source": [
    "x"
   ]
  },
  {
   "cell_type": "code",
   "execution_count": 39,
   "id": "1d39ded6",
   "metadata": {},
   "outputs": [
    {
     "data": {
      "text/plain": [
       "[2, 4, 6, 11]"
      ]
     },
     "execution_count": 39,
     "metadata": {},
     "output_type": "execute_result"
    }
   ],
   "source": [
    "y"
   ]
  },
  {
   "cell_type": "code",
   "execution_count": 40,
   "id": "36de2e5d",
   "metadata": {},
   "outputs": [],
   "source": [
    "x = [1,3,5,7]\n",
    "y = [2,4,6,11]\n",
    "y.extend(x)"
   ]
  },
  {
   "cell_type": "code",
   "execution_count": 41,
   "id": "3bb95363",
   "metadata": {},
   "outputs": [
    {
     "data": {
      "text/plain": [
       "[1, 3, 5, 7]"
      ]
     },
     "execution_count": 41,
     "metadata": {},
     "output_type": "execute_result"
    }
   ],
   "source": [
    "x"
   ]
  },
  {
   "cell_type": "code",
   "execution_count": 42,
   "id": "9261a936",
   "metadata": {},
   "outputs": [
    {
     "data": {
      "text/plain": [
       "[2, 4, 6, 11, 1, 3, 5, 7]"
      ]
     },
     "execution_count": 42,
     "metadata": {},
     "output_type": "execute_result"
    }
   ],
   "source": [
    "y"
   ]
  },
  {
   "cell_type": "markdown",
   "id": "f4836b8b",
   "metadata": {},
   "source": [
    "# remove() method"
   ]
  },
  {
   "cell_type": "code",
   "execution_count": 43,
   "id": "d7842522",
   "metadata": {},
   "outputs": [],
   "source": [
    "car =[\"Tesla\",\"BMW\",'Tesla','Mercedes']"
   ]
  },
  {
   "cell_type": "code",
   "execution_count": 44,
   "id": "eb5122a4",
   "metadata": {},
   "outputs": [],
   "source": [
    "car.remove(\"BMW\") # remove first occurence of the item (agadi jun xa tyo del garxa)"
   ]
  },
  {
   "cell_type": "code",
   "execution_count": 45,
   "id": "060da5ab",
   "metadata": {},
   "outputs": [
    {
     "data": {
      "text/plain": [
       "['Tesla', 'Tesla', 'Mercedes']"
      ]
     },
     "execution_count": 45,
     "metadata": {},
     "output_type": "execute_result"
    }
   ],
   "source": [
    "car"
   ]
  },
  {
   "cell_type": "code",
   "execution_count": 46,
   "id": "a2c7bc67",
   "metadata": {},
   "outputs": [],
   "source": [
    "car.remove(\"Tesla\")"
   ]
  },
  {
   "cell_type": "code",
   "execution_count": 47,
   "id": "678662f1",
   "metadata": {},
   "outputs": [
    {
     "data": {
      "text/plain": [
       "['Tesla', 'Mercedes']"
      ]
     },
     "execution_count": 47,
     "metadata": {},
     "output_type": "execute_result"
    }
   ],
   "source": [
    "car"
   ]
  },
  {
   "cell_type": "markdown",
   "id": "867a7852",
   "metadata": {},
   "source": [
    "# .pop() method"
   ]
  },
  {
   "cell_type": "code",
   "execution_count": 52,
   "id": "a65e0ef0",
   "metadata": {},
   "outputs": [],
   "source": [
    "car =[\"Tesla\",\"BMW\",'Tesla','Mercedes','BMW']"
   ]
  },
  {
   "cell_type": "code",
   "execution_count": 53,
   "id": "7bfc5b50",
   "metadata": {},
   "outputs": [
    {
     "data": {
      "text/plain": [
       "'BMW'"
      ]
     },
     "execution_count": 53,
     "metadata": {},
     "output_type": "execute_result"
    }
   ],
   "source": [
    "car.pop() "
   ]
  },
  {
   "cell_type": "code",
   "execution_count": 54,
   "id": "bb645434",
   "metadata": {},
   "outputs": [
    {
     "data": {
      "text/plain": [
       "['Tesla', 'BMW', 'Tesla', 'Mercedes']"
      ]
     },
     "execution_count": 54,
     "metadata": {},
     "output_type": "execute_result"
    }
   ],
   "source": [
    "car"
   ]
  },
  {
   "cell_type": "code",
   "execution_count": 55,
   "id": "b7b0b67d",
   "metadata": {},
   "outputs": [],
   "source": [
    "car =[\"Tesla\",\"BMW\",'Tesla','Mercedes','BMW']"
   ]
  },
  {
   "cell_type": "code",
   "execution_count": 57,
   "id": "288a0e71",
   "metadata": {},
   "outputs": [
    {
     "data": {
      "text/plain": [
       "'BMW'"
      ]
     },
     "execution_count": 57,
     "metadata": {},
     "output_type": "execute_result"
    }
   ],
   "source": [
    "car.pop(1)"
   ]
  },
  {
   "cell_type": "code",
   "execution_count": 58,
   "id": "7d8b31e3",
   "metadata": {},
   "outputs": [
    {
     "data": {
      "text/plain": [
       "['Tesla', 'Tesla', 'Mercedes', 'BMW']"
      ]
     },
     "execution_count": 58,
     "metadata": {},
     "output_type": "execute_result"
    }
   ],
   "source": [
    "car"
   ]
  },
  {
   "cell_type": "markdown",
   "id": "b9c913c1",
   "metadata": {},
   "source": [
    "# python list as stack and queue\n",
    "\n",
    " * stack: Last in first out \n",
    "      * operation in stack : push and pop, In python push is done by append() and pop() is done by pop() method \n",
    " * Queue : first in first out \n",
    "      * operation enqueue and dequeue : In python enqueue append() and dequeuw pop() "
   ]
  },
  {
   "cell_type": "markdown",
   "id": "11e08ab0",
   "metadata": {},
   "source": [
    "# sorting of list -- sort() method"
   ]
  },
  {
   "cell_type": "code",
   "execution_count": 59,
   "id": "5cb22520",
   "metadata": {},
   "outputs": [],
   "source": [
    "x= [99, -9, 5 , 22,1,6,7]"
   ]
  },
  {
   "cell_type": "code",
   "execution_count": 60,
   "id": "00970d83",
   "metadata": {},
   "outputs": [],
   "source": [
    "x.sort()"
   ]
  },
  {
   "cell_type": "code",
   "execution_count": 61,
   "id": "e9328069",
   "metadata": {},
   "outputs": [
    {
     "data": {
      "text/plain": [
       "[-9, 1, 5, 6, 7, 22, 99]"
      ]
     },
     "execution_count": 61,
     "metadata": {},
     "output_type": "execute_result"
    }
   ],
   "source": [
    "x"
   ]
  },
  {
   "cell_type": "code",
   "execution_count": 62,
   "id": "42e110a2",
   "metadata": {},
   "outputs": [
    {
     "data": {
      "text/plain": [
       "[99, 22, 7, 6, 5, 1, -9]"
      ]
     },
     "execution_count": 62,
     "metadata": {},
     "output_type": "execute_result"
    }
   ],
   "source": [
    "x= [99, -9, 5 , 22,1,6,7]\n",
    "x.sort(reverse = True) # descending\n",
    "x"
   ]
  },
  {
   "cell_type": "markdown",
   "id": "5ecdc26d",
   "metadata": {},
   "source": [
    "# built in python method"
   ]
  },
  {
   "cell_type": "code",
   "execution_count": 63,
   "id": "6d5f8aad",
   "metadata": {},
   "outputs": [
    {
     "data": {
      "text/plain": [
       "[-9, 1, 5, 6, 7, 22, 99]"
      ]
     },
     "execution_count": 63,
     "metadata": {},
     "output_type": "execute_result"
    }
   ],
   "source": [
    "x= [99, -9, 5 , 22,1,6,7]\n",
    "sorted(x)"
   ]
  },
  {
   "cell_type": "code",
   "execution_count": 64,
   "id": "01ffbe7b",
   "metadata": {},
   "outputs": [
    {
     "data": {
      "text/plain": [
       "[99, 22, 7, 6, 5, 1, -9]"
      ]
     },
     "execution_count": 64,
     "metadata": {},
     "output_type": "execute_result"
    }
   ],
   "source": [
    "sorted(x,reverse = True)"
   ]
  },
  {
   "cell_type": "code",
   "execution_count": 65,
   "id": "e89909c1",
   "metadata": {},
   "outputs": [
    {
     "data": {
      "text/plain": [
       "['BMW', 'Mercedes', 'Tesla', 'Tesla']"
      ]
     },
     "execution_count": 65,
     "metadata": {},
     "output_type": "execute_result"
    }
   ],
   "source": [
    "car =[\"Tesla\",\"BMW\",'Tesla','Mercedes']\n",
    "car.sort()\n",
    "car"
   ]
  },
  {
   "cell_type": "code",
   "execution_count": null,
   "id": "e61c2a83",
   "metadata": {},
   "outputs": [],
   "source": []
  }
 ],
 "metadata": {
  "kernelspec": {
   "display_name": "Python 3 (ipykernel)",
   "language": "python",
   "name": "python3"
  },
  "language_info": {
   "codemirror_mode": {
    "name": "ipython",
    "version": 3
   },
   "file_extension": ".py",
   "mimetype": "text/x-python",
   "name": "python",
   "nbconvert_exporter": "python",
   "pygments_lexer": "ipython3",
   "version": "3.8.10"
  }
 },
 "nbformat": 4,
 "nbformat_minor": 5
}
