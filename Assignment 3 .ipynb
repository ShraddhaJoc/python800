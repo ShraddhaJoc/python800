{
 "cells": [
  {
   "cell_type": "markdown",
   "id": "960ff4a1",
   "metadata": {},
   "source": [
    "# Write a program to check whether the last digit of a number (entered by user) is divisible by 3 or not "
   ]
  },
  {
   "cell_type": "code",
   "execution_count": null,
   "id": "fdff3067",
   "metadata": {},
   "outputs": [],
   "source": [
    "num = int(input(\" enter a number:\"))\n",
    "\n",
    "num1 = num%10\n",
    "\n",
    "if num1%3 ==0:\n",
    "    print()\n"
   ]
  }
 ],
 "metadata": {
  "kernelspec": {
   "display_name": "Python 3 (ipykernel)",
   "language": "python",
   "name": "python3"
  },
  "language_info": {
   "codemirror_mode": {
    "name": "ipython",
    "version": 3
   },
   "file_extension": ".py",
   "mimetype": "text/x-python",
   "name": "python",
   "nbconvert_exporter": "python",
   "pygments_lexer": "ipython3",
   "version": "3.8.10"
  }
 },
 "nbformat": 4,
 "nbformat_minor": 5
}
