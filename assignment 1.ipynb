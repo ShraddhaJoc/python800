{
 "cells": [
  {
   "cell_type": "markdown",
   "id": "668d552a",
   "metadata": {},
   "source": [
    "# WAP & SWAP Between Variables "
   ]
  },
  {
   "cell_type": "code",
   "execution_count": 1,
   "id": "f3e883cd",
   "metadata": {},
   "outputs": [],
   "source": [
    "num1 = 2.5\n",
    "num2 = 0.36"
   ]
  },
  {
   "cell_type": "code",
   "execution_count": 1,
   "id": "fcbb1a67",
   "metadata": {},
   "outputs": [],
   "source": [
    "num1 = 2.5\n",
    "num2 = 0.36\n"
   ]
  },
  {
   "cell_type": "code",
   "execution_count": 3,
   "id": "92521c91",
   "metadata": {},
   "outputs": [],
   "source": [
    "tmp = num1\n",
    "num1 = num2"
   ]
  },
  {
   "cell_type": "code",
   "execution_count": 4,
   "id": "9ded4f47",
   "metadata": {},
   "outputs": [],
   "source": [
    "num2 = tmp"
   ]
  },
  {
   "cell_type": "code",
   "execution_count": 5,
   "id": "595a23fe",
   "metadata": {},
   "outputs": [
    {
     "data": {
      "text/plain": [
       "0.36"
      ]
     },
     "execution_count": 5,
     "metadata": {},
     "output_type": "execute_result"
    }
   ],
   "source": [
    "num1 "
   ]
  },
  {
   "cell_type": "code",
   "execution_count": 6,
   "id": "1b53147a",
   "metadata": {},
   "outputs": [
    {
     "data": {
      "text/plain": [
       "2.5"
      ]
     },
     "execution_count": 6,
     "metadata": {},
     "output_type": "execute_result"
    }
   ],
   "source": [
    "num2"
   ]
  },
  {
   "cell_type": "code",
   "execution_count": 24,
   "id": "f8612d48",
   "metadata": {},
   "outputs": [
    {
     "name": "stdout",
     "output_type": "stream",
     "text": [
      "2562\n"
     ]
    }
   ],
   "source": [
    "seconds = (42*60) + 42\n",
    "print(seconds)"
   ]
  },
  {
   "cell_type": "code",
   "execution_count": 8,
   "id": "ab972e7a",
   "metadata": {},
   "outputs": [],
   "source": [
    "km = 10"
   ]
  },
  {
   "cell_type": "code",
   "execution_count": 10,
   "id": "284645c4",
   "metadata": {},
   "outputs": [],
   "source": [
    "in_miles = km/1.609"
   ]
  },
  {
   "cell_type": "code",
   "execution_count": 11,
   "id": "91421778",
   "metadata": {},
   "outputs": [
    {
     "data": {
      "text/plain": [
       "6.215040397762586"
      ]
     },
     "execution_count": 11,
     "metadata": {},
     "output_type": "execute_result"
    }
   ],
   "source": [
    "in_miles"
   ]
  },
  {
   "cell_type": "code",
   "execution_count": 12,
   "id": "e162ab1d",
   "metadata": {},
   "outputs": [],
   "source": [
    "in_min = 42 + 42/60"
   ]
  },
  {
   "cell_type": "code",
   "execution_count": 20,
   "id": "00caacc9",
   "metadata": {},
   "outputs": [],
   "source": [
    "s = in_miles/ in_min"
   ]
  },
  {
   "cell_type": "code",
   "execution_count": 21,
   "id": "8c059fcf",
   "metadata": {},
   "outputs": [
    {
     "data": {
      "text/plain": [
       "0.1455512973714891"
      ]
     },
     "execution_count": 21,
     "metadata": {},
     "output_type": "execute_result"
    }
   ],
   "source": [
    "s"
   ]
  },
  {
   "cell_type": "code",
   "execution_count": 25,
   "id": "86dec189",
   "metadata": {},
   "outputs": [],
   "source": [
    "speed = in_miles/seconds"
   ]
  },
  {
   "cell_type": "code",
   "execution_count": 26,
   "id": "254d12b8",
   "metadata": {},
   "outputs": [
    {
     "data": {
      "text/plain": [
       "0.0024258549561914852"
      ]
     },
     "execution_count": 26,
     "metadata": {},
     "output_type": "execute_result"
    }
   ],
   "source": [
    "speed"
   ]
  },
  {
   "cell_type": "code",
   "execution_count": null,
   "id": "79aa691e",
   "metadata": {},
   "outputs": [],
   "source": []
  }
 ],
 "metadata": {
  "kernelspec": {
   "display_name": "Python 3 (ipykernel)",
   "language": "python",
   "name": "python3"
  },
  "language_info": {
   "codemirror_mode": {
    "name": "ipython",
    "version": 3
   },
   "file_extension": ".py",
   "mimetype": "text/x-python",
   "name": "python",
   "nbconvert_exporter": "python",
   "pygments_lexer": "ipython3",
   "version": "3.8.10"
  }
 },
 "nbformat": 4,
 "nbformat_minor": 5
}
