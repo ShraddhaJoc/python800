{
 "cells": [
  {
   "cell_type": "code",
   "execution_count": 1,
   "id": "f21b7498",
   "metadata": {},
   "outputs": [],
   "source": [
    "x = None "
   ]
  },
  {
   "cell_type": "code",
   "execution_count": 2,
   "id": "408d91f5",
   "metadata": {},
   "outputs": [
    {
     "data": {
      "text/plain": [
       "NoneType"
      ]
     },
     "execution_count": 2,
     "metadata": {},
     "output_type": "execute_result"
    }
   ],
   "source": [
    "type(x)"
   ]
  },
  {
   "cell_type": "code",
   "execution_count": 6,
   "id": "aec4841d",
   "metadata": {},
   "outputs": [
    {
     "data": {
      "text/plain": [
       "False"
      ]
     },
     "execution_count": 6,
     "metadata": {},
     "output_type": "execute_result"
    }
   ],
   "source": [
    "None ==' '"
   ]
  },
  {
   "cell_type": "code",
   "execution_count": 3,
   "id": "fcdbefc8",
   "metadata": {
    "collapsed": true
   },
   "outputs": [
    {
     "data": {
      "text/plain": [
       "False"
      ]
     },
     "execution_count": 3,
     "metadata": {},
     "output_type": "execute_result"
    }
   ],
   "source": [
    "None == 0"
   ]
  },
  {
   "cell_type": "code",
   "execution_count": 4,
   "id": "93c13570",
   "metadata": {},
   "outputs": [
    {
     "data": {
      "text/plain": [
       "False"
      ]
     },
     "execution_count": 4,
     "metadata": {},
     "output_type": "execute_result"
    }
   ],
   "source": [
    "None == False"
   ]
  },
  {
   "cell_type": "markdown",
   "id": "66a1c098",
   "metadata": {},
   "source": [
    "# only None can be None "
   ]
  },
  {
   "cell_type": "code",
   "execution_count": 7,
   "id": "b973a13f",
   "metadata": {},
   "outputs": [
    {
     "data": {
      "text/plain": [
       "True"
      ]
     },
     "execution_count": 7,
     "metadata": {},
     "output_type": "execute_result"
    }
   ],
   "source": [
    "None is None"
   ]
  },
  {
   "cell_type": "code",
   "execution_count": 8,
   "id": "1a981a41",
   "metadata": {},
   "outputs": [
    {
     "data": {
      "text/plain": [
       "True"
      ]
     },
     "execution_count": 8,
     "metadata": {},
     "output_type": "execute_result"
    }
   ],
   "source": [
    "x = None\n",
    "x is None # identity operator"
   ]
  },
  {
   "cell_type": "code",
   "execution_count": 9,
   "id": "dba5caba",
   "metadata": {},
   "outputs": [
    {
     "data": {
      "text/plain": [
       "True"
      ]
     },
     "execution_count": 9,
     "metadata": {},
     "output_type": "execute_result"
    }
   ],
   "source": [
    "None == None # don't use this"
   ]
  },
  {
   "cell_type": "code",
   "execution_count": 10,
   "id": "22401446",
   "metadata": {},
   "outputs": [
    {
     "name": "stdout",
     "output_type": "stream",
     "text": [
      "x is None\n"
     ]
    }
   ],
   "source": [
    "x = None\n",
    "if x == None: # Donot use == to compare NONE \n",
    "    print('x is None')"
   ]
  },
  {
   "cell_type": "code",
   "execution_count": 11,
   "id": "b4f3e277",
   "metadata": {},
   "outputs": [
    {
     "name": "stdout",
     "output_type": "stream",
     "text": [
      "x is None\n"
     ]
    }
   ],
   "source": [
    "x = None\n",
    "if x is None: # use this identity operator\n",
    "    print(\"x is None\")"
   ]
  },
  {
   "cell_type": "code",
   "execution_count": null,
   "id": "5e5f7250",
   "metadata": {},
   "outputs": [],
   "source": []
  }
 ],
 "metadata": {
  "kernelspec": {
   "display_name": "Python 3 (ipykernel)",
   "language": "python",
   "name": "python3"
  },
  "language_info": {
   "codemirror_mode": {
    "name": "ipython",
    "version": 3
   },
   "file_extension": ".py",
   "mimetype": "text/x-python",
   "name": "python",
   "nbconvert_exporter": "python",
   "pygments_lexer": "ipython3",
   "version": "3.8.10"
  }
 },
 "nbformat": 4,
 "nbformat_minor": 5
}
