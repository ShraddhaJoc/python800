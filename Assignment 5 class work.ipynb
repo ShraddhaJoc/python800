{
 "cells": [
  {
   "cell_type": "code",
   "execution_count": 22,
   "id": "9f081dd8",
   "metadata": {},
   "outputs": [],
   "source": [
    "txt = \"I Like Orange Apple Banana and Kiwi\""
   ]
  },
  {
   "cell_type": "code",
   "execution_count": 23,
   "id": "f8d67a92",
   "metadata": {},
   "outputs": [],
   "source": [
    "txt = txt.lower()"
   ]
  },
  {
   "cell_type": "code",
   "execution_count": 24,
   "id": "781496cd",
   "metadata": {},
   "outputs": [
    {
     "data": {
      "text/plain": [
       "'i like orange apple banana and kiwi'"
      ]
     },
     "execution_count": 24,
     "metadata": {},
     "output_type": "execute_result"
    }
   ],
   "source": [
    "txt"
   ]
  },
  {
   "cell_type": "code",
   "execution_count": 25,
   "id": "e809b6eb",
   "metadata": {},
   "outputs": [],
   "source": [
    "txt = txt.replace('i like ' ,'')"
   ]
  },
  {
   "cell_type": "code",
   "execution_count": 26,
   "id": "44af6323",
   "metadata": {},
   "outputs": [
    {
     "data": {
      "text/plain": [
       "'orange apple banana and kiwi'"
      ]
     },
     "execution_count": 26,
     "metadata": {},
     "output_type": "execute_result"
    }
   ],
   "source": [
    "txt"
   ]
  },
  {
   "cell_type": "code",
   "execution_count": 27,
   "id": "5c711338",
   "metadata": {},
   "outputs": [],
   "source": [
    "txt = txt.replace(' and ' ,\" \")\n",
    "\n"
   ]
  },
  {
   "cell_type": "code",
   "execution_count": 28,
   "id": "520b1a5c",
   "metadata": {},
   "outputs": [
    {
     "data": {
      "text/plain": [
       "'orange apple banana kiwi'"
      ]
     },
     "execution_count": 28,
     "metadata": {},
     "output_type": "execute_result"
    }
   ],
   "source": [
    "txt"
   ]
  },
  {
   "cell_type": "code",
   "execution_count": 29,
   "id": "3e2fd1ee",
   "metadata": {},
   "outputs": [
    {
     "data": {
      "text/plain": [
       "['orange', 'apple', 'banana', 'kiwi']"
      ]
     },
     "execution_count": 29,
     "metadata": {},
     "output_type": "execute_result"
    }
   ],
   "source": [
    "txt.split()"
   ]
  },
  {
   "cell_type": "code",
   "execution_count": 30,
   "id": "5f60c100",
   "metadata": {},
   "outputs": [
    {
     "data": {
      "text/plain": [
       "'orange apple banana kiwi'"
      ]
     },
     "execution_count": 30,
     "metadata": {},
     "output_type": "execute_result"
    }
   ],
   "source": [
    "txt"
   ]
  },
  {
   "cell_type": "code",
   "execution_count": null,
   "id": "91f70ba0",
   "metadata": {},
   "outputs": [],
   "source": []
  },
  {
   "cell_type": "code",
   "execution_count": null,
   "id": "be74710b",
   "metadata": {},
   "outputs": [],
   "source": []
  }
 ],
 "metadata": {
  "kernelspec": {
   "display_name": "Python 3 (ipykernel)",
   "language": "python",
   "name": "python3"
  },
  "language_info": {
   "codemirror_mode": {
    "name": "ipython",
    "version": 3
   },
   "file_extension": ".py",
   "mimetype": "text/x-python",
   "name": "python",
   "nbconvert_exporter": "python",
   "pygments_lexer": "ipython3",
   "version": "3.8.10"
  }
 },
 "nbformat": 4,
 "nbformat_minor": 5
}
