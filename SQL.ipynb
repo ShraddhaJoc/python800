{
 "cells": [
  {
   "cell_type": "markdown",
   "id": "946b0605",
   "metadata": {},
   "source": [
    "# CRUID in database\n",
    "* create\n",
    "* read\n",
    "* update \n",
    "* insert\n",
    "* delete"
   ]
  },
  {
   "cell_type": "markdown",
   "id": "38550691",
   "metadata": {},
   "source": [
    "# Connect and create to  a new database"
   ]
  },
  {
   "cell_type": "code",
   "execution_count": 1,
   "id": "e70a678c",
   "metadata": {},
   "outputs": [],
   "source": [
    "import sqlite3"
   ]
  },
  {
   "cell_type": "code",
   "execution_count": 2,
   "id": "6a086573",
   "metadata": {},
   "outputs": [],
   "source": [
    "con = sqlite3.connect('std.db')"
   ]
  },
  {
   "cell_type": "markdown",
   "id": "4a520911",
   "metadata": {},
   "source": [
    "# we need cursor to execute sql query"
   ]
  },
  {
   "cell_type": "code",
   "execution_count": 3,
   "id": "21f77a2a",
   "metadata": {},
   "outputs": [],
   "source": [
    "cur= con.cursor()"
   ]
  },
  {
   "cell_type": "markdown",
   "id": "089b2740",
   "metadata": {},
   "source": [
    "# creating table in SQL\n",
    "\n",
    "```sql\n",
    "\n",
    "create table table_name (roll_no int, name varchar(20), address varchar(50)\n",
    "\n",
    "\n",
    "\n",
    "```"
   ]
  },
  {
   "cell_type": "code",
   "execution_count": 6,
   "id": "1347bd0a",
   "metadata": {},
   "outputs": [],
   "source": [
    "create_table = '''\n",
    "Create table student(roll_no int not null,\n",
    "name varchar(20),\n",
    "address varchar(50))\n",
    "'''"
   ]
  },
  {
   "cell_type": "code",
   "execution_count": 7,
   "id": "6f10d71b",
   "metadata": {},
   "outputs": [
    {
     "data": {
      "text/plain": [
       "<sqlite3.Cursor at 0x1f229524180>"
      ]
     },
     "execution_count": 7,
     "metadata": {},
     "output_type": "execute_result"
    }
   ],
   "source": [
    "cur.execute(create_table)"
   ]
  },
  {
   "cell_type": "markdown",
   "id": "58cd9634",
   "metadata": {},
   "source": [
    "# Insert statement in sql\n",
    "\n",
    "```sql\n",
    "INSERT INTO TABLE(COL_1, COL_2....COL_N)\n",
    "VALUES\n",
    "(VAL_1, VAL_2 , ...., VAL_N)\n",
    "```"
   ]
  },
  {
   "cell_type": "code",
   "execution_count": 10,
   "id": "60e8c872",
   "metadata": {},
   "outputs": [],
   "source": [
    "insert_data ='''\n",
    "insert into student\n",
    "(roll_no,name,address)\n",
    "values\n",
    "(1,'shraddha','patan'),\n",
    "(2,\"prakash\", 'kathmandu'),\n",
    "(3,'ram','bhaktapur')\n",
    "'''"
   ]
  },
  {
   "cell_type": "code",
   "execution_count": 11,
   "id": "ddb6a1ae",
   "metadata": {},
   "outputs": [
    {
     "data": {
      "text/plain": [
       "<sqlite3.Cursor at 0x1f229524180>"
      ]
     },
     "execution_count": 11,
     "metadata": {},
     "output_type": "execute_result"
    }
   ],
   "source": [
    "cur.execute(insert_data)"
   ]
  },
  {
   "cell_type": "markdown",
   "id": "fab0b0dc",
   "metadata": {},
   "source": [
    "# Read in SQL/ Select statement in sql\n",
    "```sql\n",
    "\n",
    "select * from table_name\n",
    "\n",
    "```"
   ]
  },
  {
   "cell_type": "code",
   "execution_count": 12,
   "id": "58f29807",
   "metadata": {},
   "outputs": [],
   "source": [
    "read_query='''\n",
    "select * from student\n",
    "\n",
    "'''"
   ]
  },
  {
   "cell_type": "code",
   "execution_count": 13,
   "id": "198ee9d1",
   "metadata": {},
   "outputs": [
    {
     "data": {
      "text/plain": [
       "<sqlite3.Cursor at 0x1f229524180>"
      ]
     },
     "execution_count": 13,
     "metadata": {},
     "output_type": "execute_result"
    }
   ],
   "source": [
    "cur.execute(read_query)"
   ]
  },
  {
   "cell_type": "code",
   "execution_count": 14,
   "id": "74ae895c",
   "metadata": {},
   "outputs": [
    {
     "data": {
      "text/plain": [
       "[(1, 'shraddha', 'patan'),\n",
       " (2, 'prakash', 'kathmandu'),\n",
       " (3, 'ram', 'bhaktapur')]"
      ]
     },
     "execution_count": 14,
     "metadata": {},
     "output_type": "execute_result"
    }
   ],
   "source": [
    "cur.execute(read_query).fetchall()"
   ]
  },
  {
   "cell_type": "code",
   "execution_count": 15,
   "id": "44bed620",
   "metadata": {},
   "outputs": [],
   "source": [
    "query = '''\n",
    "select name from student\n",
    "where roll_no = 2 \n",
    "'''"
   ]
  },
  {
   "cell_type": "code",
   "execution_count": 16,
   "id": "4776cf7a",
   "metadata": {},
   "outputs": [
    {
     "data": {
      "text/plain": [
       "[('prakash',)]"
      ]
     },
     "execution_count": 16,
     "metadata": {},
     "output_type": "execute_result"
    }
   ],
   "source": [
    "cur.execute(query).fetchall()"
   ]
  },
  {
   "cell_type": "code",
   "execution_count": 23,
   "id": "5b76f0c9",
   "metadata": {},
   "outputs": [],
   "source": [
    "query = '''\n",
    "select name from student\n",
    "where address = \"patan\" \n",
    "'''"
   ]
  },
  {
   "cell_type": "code",
   "execution_count": 24,
   "id": "d0e2787b",
   "metadata": {},
   "outputs": [
    {
     "data": {
      "text/plain": [
       "[('shraddha',)]"
      ]
     },
     "execution_count": 24,
     "metadata": {},
     "output_type": "execute_result"
    }
   ],
   "source": [
    "cur.execute(query).fetchall()"
   ]
  },
  {
   "cell_type": "markdown",
   "id": "c97783d2",
   "metadata": {},
   "source": [
    "# find the name of people who lives in patan "
   ]
  },
  {
   "cell_type": "code",
   "execution_count": 29,
   "id": "fe696dd7",
   "metadata": {},
   "outputs": [
    {
     "data": {
      "text/plain": [
       "[('shraddha', 1)]"
      ]
     },
     "execution_count": 29,
     "metadata": {},
     "output_type": "execute_result"
    }
   ],
   "source": [
    "cur.execute('select name,roll_no from student where address =\"patan\"').fetchall()"
   ]
  },
  {
   "cell_type": "markdown",
   "id": "ed08c1fd",
   "metadata": {},
   "source": [
    "# Update in SQL\n",
    "\n",
    "```sql\n",
    "\n",
    "update table_name\n",
    "set col_name = val\n",
    "where\n",
    "condition1\n",
    "\n",
    "```\n"
   ]
  },
  {
   "cell_type": "code",
   "execution_count": 30,
   "id": "d65618fc",
   "metadata": {},
   "outputs": [],
   "source": [
    "query = \"\"\"\n",
    "update student\n",
    "set name ='Shraddha Joshi'\n",
    "where\n",
    "roll_no = 1\n",
    "\"\"\"\n",
    "\n",
    "\n"
   ]
  },
  {
   "cell_type": "code",
   "execution_count": 31,
   "id": "4ed38b18",
   "metadata": {},
   "outputs": [
    {
     "data": {
      "text/plain": [
       "<sqlite3.Cursor at 0x1f229524180>"
      ]
     },
     "execution_count": 31,
     "metadata": {},
     "output_type": "execute_result"
    }
   ],
   "source": [
    "cur.execute(query)"
   ]
  },
  {
   "cell_type": "code",
   "execution_count": 32,
   "id": "af7d165a",
   "metadata": {},
   "outputs": [
    {
     "data": {
      "text/plain": [
       "[(1, 'Shraddha Joshi', 'patan'),\n",
       " (2, 'prakash', 'kathmandu'),\n",
       " (3, 'ram', 'bhaktapur')]"
      ]
     },
     "execution_count": 32,
     "metadata": {},
     "output_type": "execute_result"
    }
   ],
   "source": [
    "cur.execute(\"select * from student\").fetchall()"
   ]
  },
  {
   "cell_type": "markdown",
   "id": "b398a48c",
   "metadata": {},
   "source": [
    "# delete in SQL \n"
   ]
  },
  {
   "cell_type": "code",
   "execution_count": 33,
   "id": "d32b316e",
   "metadata": {},
   "outputs": [
    {
     "data": {
      "text/plain": [
       "<sqlite3.Cursor at 0x1f229524180>"
      ]
     },
     "execution_count": 33,
     "metadata": {},
     "output_type": "execute_result"
    }
   ],
   "source": [
    "cur.execute(\"delete from student where roll_no = 1\")"
   ]
  },
  {
   "cell_type": "code",
   "execution_count": 34,
   "id": "518260d1",
   "metadata": {},
   "outputs": [
    {
     "data": {
      "text/plain": [
       "[(2, 'prakash', 'kathmandu'), (3, 'ram', 'bhaktapur')]"
      ]
     },
     "execution_count": 34,
     "metadata": {},
     "output_type": "execute_result"
    }
   ],
   "source": [
    "cur.execute(\"select * from student\").fetchall()"
   ]
  },
  {
   "cell_type": "code",
   "execution_count": null,
   "id": "10f9f8e7",
   "metadata": {},
   "outputs": [],
   "source": []
  }
 ],
 "metadata": {
  "kernelspec": {
   "display_name": "Python 3 (ipykernel)",
   "language": "python",
   "name": "python3"
  },
  "language_info": {
   "codemirror_mode": {
    "name": "ipython",
    "version": 3
   },
   "file_extension": ".py",
   "mimetype": "text/x-python",
   "name": "python",
   "nbconvert_exporter": "python",
   "pygments_lexer": "ipython3",
   "version": "3.8.10"
  }
 },
 "nbformat": 4,
 "nbformat_minor": 5
}
