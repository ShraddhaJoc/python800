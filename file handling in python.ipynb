{
 "cells": [
  {
   "cell_type": "markdown",
   "id": "f0c775eb",
   "metadata": {},
   "source": [
    "# open and read file "
   ]
  },
  {
   "cell_type": "code",
   "execution_count": 11,
   "id": "19fbe9af",
   "metadata": {},
   "outputs": [],
   "source": [
    "f = open('read.txt','r')"
   ]
  },
  {
   "cell_type": "code",
   "execution_count": 12,
   "id": "2efd9498",
   "metadata": {},
   "outputs": [
    {
     "data": {
      "text/plain": [
       "<_io.TextIOWrapper name='read.txt' mode='r' encoding='cp1252'>"
      ]
     },
     "execution_count": 12,
     "metadata": {},
     "output_type": "execute_result"
    }
   ],
   "source": [
    "f"
   ]
  },
  {
   "cell_type": "code",
   "execution_count": 13,
   "id": "dfa62798",
   "metadata": {},
   "outputs": [],
   "source": [
    "text = f.read()"
   ]
  },
  {
   "cell_type": "code",
   "execution_count": 14,
   "id": "856b144c",
   "metadata": {},
   "outputs": [
    {
     "data": {
      "text/plain": [
       "'Einblick reimagines the modern data science workflow in a collaborative data science canvas, rather than a linear notebook. Working in a canvas environment offers many advantages including live collaboration, an expansive visual interface, and a progressive computation engine. In this article, weâ€™ll highlight one of the key ways weâ€™re saving data scientists timeâ€“our operators. \\n\\nWeâ€™ll go through a couple of our core operators, why Python is such a crucial part of our software solution, and how we augmented our offerings with a user operator interface. The latter allows users to customize and use their own operators, which can be used in any Einblick canvas, and shared with other Einblick users.'"
      ]
     },
     "execution_count": 14,
     "metadata": {},
     "output_type": "execute_result"
    }
   ],
   "source": [
    "text"
   ]
  },
  {
   "cell_type": "code",
   "execution_count": 15,
   "id": "9bab15f1",
   "metadata": {},
   "outputs": [],
   "source": [
    "f.close()"
   ]
  },
  {
   "cell_type": "code",
   "execution_count": 16,
   "id": "a5562f63",
   "metadata": {},
   "outputs": [],
   "source": [
    "with open('read.txt','r') as f:     # with use garyo bhane close hunca . if close garena bhane memmory khanxa\n",
    "    text = f.read()"
   ]
  },
  {
   "cell_type": "code",
   "execution_count": 17,
   "id": "8fdaffd6",
   "metadata": {},
   "outputs": [
    {
     "data": {
      "text/plain": [
       "'Einblick reimagines the modern data science workflow in a collaborative data science canvas, rather than a linear notebook. Working in a canvas environment offers many advantages including live collaboration, an expansive visual interface, and a progressive computation engine. In this article, weâ€™ll highlight one of the key ways weâ€™re saving data scientists timeâ€“our operators. \\n\\nWeâ€™ll go through a couple of our core operators, why Python is such a crucial part of our software solution, and how we augmented our offerings with a user operator interface. The latter allows users to customize and use their own operators, which can be used in any Einblick canvas, and shared with other Einblick users.'"
      ]
     },
     "execution_count": 17,
     "metadata": {},
     "output_type": "execute_result"
    }
   ],
   "source": [
    "text"
   ]
  },
  {
   "cell_type": "code",
   "execution_count": 18,
   "id": "bdf1e333",
   "metadata": {},
   "outputs": [],
   "source": [
    "with open('read.txt','r') as f:\n",
    "    text = f.readlines()"
   ]
  },
  {
   "cell_type": "code",
   "execution_count": 19,
   "id": "07870fb6",
   "metadata": {},
   "outputs": [
    {
     "data": {
      "text/plain": [
       "['Einblick reimagines the modern data science workflow in a collaborative data science canvas, rather than a linear notebook. Working in a canvas environment offers many advantages including live collaboration, an expansive visual interface, and a progressive computation engine. In this article, weâ€™ll highlight one of the key ways weâ€™re saving data scientists timeâ€“our operators. \\n',\n",
       " '\\n',\n",
       " 'Weâ€™ll go through a couple of our core operators, why Python is such a crucial part of our software solution, and how we augmented our offerings with a user operator interface. The latter allows users to customize and use their own operators, which can be used in any Einblick canvas, and shared with other Einblick users.']"
      ]
     },
     "execution_count": 19,
     "metadata": {},
     "output_type": "execute_result"
    }
   ],
   "source": [
    "text"
   ]
  },
  {
   "cell_type": "code",
   "execution_count": 20,
   "id": "d01f8226",
   "metadata": {},
   "outputs": [],
   "source": [
    "with open('read.txt','r') as f:     # with use garyo bhane close hunca . if close garena bhane memmory khanxa\n",
    "    text = f.readline()"
   ]
  },
  {
   "cell_type": "code",
   "execution_count": 21,
   "id": "dc59e5bd",
   "metadata": {},
   "outputs": [
    {
     "data": {
      "text/plain": [
       "'Einblick reimagines the modern data science workflow in a collaborative data science canvas, rather than a linear notebook. Working in a canvas environment offers many advantages including live collaboration, an expansive visual interface, and a progressive computation engine. In this article, weâ€™ll highlight one of the key ways weâ€™re saving data scientists timeâ€“our operators. \\n'"
      ]
     },
     "execution_count": 21,
     "metadata": {},
     "output_type": "execute_result"
    }
   ],
   "source": [
    "text"
   ]
  },
  {
   "cell_type": "markdown",
   "id": "3905d963",
   "metadata": {},
   "source": [
    "# Write mode"
   ]
  },
  {
   "cell_type": "code",
   "execution_count": 22,
   "id": "42fe60e9",
   "metadata": {},
   "outputs": [],
   "source": [
    "with open('nabhakokitab.txt','w')as f:    # write file \n",
    "    f.write('yo nabhako kitab lekheko ho hai')"
   ]
  },
  {
   "cell_type": "code",
   "execution_count": 23,
   "id": "59325e66",
   "metadata": {},
   "outputs": [
    {
     "data": {
      "text/plain": [
       "'yo nabhako kitab lekheko ho hai'"
      ]
     },
     "execution_count": 23,
     "metadata": {},
     "output_type": "execute_result"
    }
   ],
   "source": [
    "with open('nabhakokitab.txt','r')as f: # read file\n",
    "    text = f.read()\n",
    "text"
   ]
  },
  {
   "cell_type": "code",
   "execution_count": 26,
   "id": "2a93d61a",
   "metadata": {},
   "outputs": [],
   "source": [
    "with open('nabhakokitab.txt','w')as f:\n",
    "    f.write('nabhakokitab chai phila exist garxa tara write mode le naya file banauxa purano hatxa')"
   ]
  },
  {
   "cell_type": "code",
   "execution_count": 27,
   "id": "f028c796",
   "metadata": {},
   "outputs": [
    {
     "data": {
      "text/plain": [
       "'nabhakokitab chai phila exist garxa tara write mode le naya file banauxa purano hatxa'"
      ]
     },
     "execution_count": 27,
     "metadata": {},
     "output_type": "execute_result"
    }
   ],
   "source": [
    "with open('nabhakokitab.txt','r')as f: \n",
    "    text = f.read()\n",
    "text "
   ]
  },
  {
   "cell_type": "markdown",
   "id": "b47af4ed",
   "metadata": {},
   "source": [
    "# append mode\n",
    "* if file exist appends on EQL on file.\n",
    "* if file doesnot it creats it and writes on file"
   ]
  },
  {
   "cell_type": "code",
   "execution_count": 31,
   "id": "f0c012e9",
   "metadata": {},
   "outputs": [],
   "source": [
    "with open('newfile.txt','a') as f:\n",
    "    f.write('append mode creates a file if it doesnot exist')"
   ]
  },
  {
   "cell_type": "code",
   "execution_count": 33,
   "id": "b6ee0366",
   "metadata": {},
   "outputs": [
    {
     "name": "stdout",
     "output_type": "stream",
     "text": [
      "append mode creates a file if it doesnot exist\n"
     ]
    }
   ],
   "source": [
    "with open('newfile.txt','r') as f:\n",
    "    print(f.read())"
   ]
  },
  {
   "cell_type": "code",
   "execution_count": 37,
   "id": "4099fe3a",
   "metadata": {},
   "outputs": [],
   "source": [
    "with open('newfile.txt','a') as f:\n",
    "    f.write('newfile.txt already exists append mode appends data on EQL')"
   ]
  },
  {
   "cell_type": "code",
   "execution_count": 38,
   "id": "95515470",
   "metadata": {},
   "outputs": [
    {
     "name": "stdout",
     "output_type": "stream",
     "text": [
      "append mode creates a file if it doesnot existnewfile.txt already exists append mode newfile.txt already exists append mode appends data on EQL\n"
     ]
    }
   ],
   "source": [
    "with open('newfile.txt','r') as f:\n",
    "    print(f.read())"
   ]
  },
  {
   "cell_type": "markdown",
   "id": "ee343b70",
   "metadata": {},
   "source": [
    "# file handling and exception handling "
   ]
  },
  {
   "cell_type": "code",
   "execution_count": 39,
   "id": "901ad10d",
   "metadata": {},
   "outputs": [
    {
     "ename": "FileNotFoundError",
     "evalue": "[Errno 2] No such file or directory: 'python800.txt'",
     "output_type": "error",
     "traceback": [
      "\u001b[1;31m---------------------------------------------------------------------------\u001b[0m",
      "\u001b[1;31mFileNotFoundError\u001b[0m                         Traceback (most recent call last)",
      "Cell \u001b[1;32mIn[39], line 1\u001b[0m\n\u001b[1;32m----> 1\u001b[0m \u001b[38;5;28;01mwith\u001b[39;00m \u001b[38;5;28;43mopen\u001b[39;49m\u001b[43m(\u001b[49m\u001b[38;5;124;43m'\u001b[39;49m\u001b[38;5;124;43mpython800.txt\u001b[39;49m\u001b[38;5;124;43m'\u001b[39;49m\u001b[43m,\u001b[49m\u001b[38;5;124;43m'\u001b[39;49m\u001b[38;5;124;43mr\u001b[39;49m\u001b[38;5;124;43m'\u001b[39;49m\u001b[43m)\u001b[49m \u001b[38;5;28;01mas\u001b[39;00m f:\n\u001b[0;32m      2\u001b[0m     text \u001b[38;5;241m=\u001b[39m f\u001b[38;5;241m.\u001b[39mread()\n",
      "File \u001b[1;32mc:\\users\\shraddha\\appdata\\local\\programs\\python\\python38\\lib\\site-packages\\IPython\\core\\interactiveshell.py:282\u001b[0m, in \u001b[0;36m_modified_open\u001b[1;34m(file, *args, **kwargs)\u001b[0m\n\u001b[0;32m    275\u001b[0m \u001b[38;5;28;01mif\u001b[39;00m file \u001b[38;5;129;01min\u001b[39;00m {\u001b[38;5;241m0\u001b[39m, \u001b[38;5;241m1\u001b[39m, \u001b[38;5;241m2\u001b[39m}:\n\u001b[0;32m    276\u001b[0m     \u001b[38;5;28;01mraise\u001b[39;00m \u001b[38;5;167;01mValueError\u001b[39;00m(\n\u001b[0;32m    277\u001b[0m         \u001b[38;5;124mf\u001b[39m\u001b[38;5;124m\"\u001b[39m\u001b[38;5;124mIPython won\u001b[39m\u001b[38;5;124m'\u001b[39m\u001b[38;5;124mt let you open fd=\u001b[39m\u001b[38;5;132;01m{\u001b[39;00mfile\u001b[38;5;132;01m}\u001b[39;00m\u001b[38;5;124m by default \u001b[39m\u001b[38;5;124m\"\u001b[39m\n\u001b[0;32m    278\u001b[0m         \u001b[38;5;124m\"\u001b[39m\u001b[38;5;124mas it is likely to crash IPython. If you know what you are doing, \u001b[39m\u001b[38;5;124m\"\u001b[39m\n\u001b[0;32m    279\u001b[0m         \u001b[38;5;124m\"\u001b[39m\u001b[38;5;124myou can use builtins\u001b[39m\u001b[38;5;124m'\u001b[39m\u001b[38;5;124m open.\u001b[39m\u001b[38;5;124m\"\u001b[39m\n\u001b[0;32m    280\u001b[0m     )\n\u001b[1;32m--> 282\u001b[0m \u001b[38;5;28;01mreturn\u001b[39;00m \u001b[43mio_open\u001b[49m\u001b[43m(\u001b[49m\u001b[43mfile\u001b[49m\u001b[43m,\u001b[49m\u001b[43m \u001b[49m\u001b[38;5;241;43m*\u001b[39;49m\u001b[43margs\u001b[49m\u001b[43m,\u001b[49m\u001b[43m \u001b[49m\u001b[38;5;241;43m*\u001b[39;49m\u001b[38;5;241;43m*\u001b[39;49m\u001b[43mkwargs\u001b[49m\u001b[43m)\u001b[49m\n",
      "\u001b[1;31mFileNotFoundError\u001b[0m: [Errno 2] No such file or directory: 'python800.txt'"
     ]
    }
   ],
   "source": [
    "with open('python800.txt','r') as f:\n",
    "    text = f.read()"
   ]
  },
  {
   "cell_type": "code",
   "execution_count": 43,
   "id": "1da1d2d9",
   "metadata": {},
   "outputs": [
    {
     "name": "stdout",
     "output_type": "stream",
     "text": [
      "[Errno 2] No such file or directory: 'python800.txt'\n",
      "creating new file python800.txt\n",
      "this statement is executed no matter what\n",
      "it is used to close a file or flush a memory\n"
     ]
    }
   ],
   "source": [
    "try:\n",
    "    with open('python800.txt','r') as f:\n",
    "        text = f.read()\n",
    "    print('File read succesful')\n",
    "except FileNotFoundError as e:\n",
    "    print(str(e))\n",
    "    print('creating new file python800.txt')\n",
    "    with open('python800.txt','w') as f:\n",
    "        f.write('This file didnot exist we created it ')\n",
    "    \n",
    "\n",
    "finally:\n",
    "    print('this statement is executed no matter what')\n",
    "    print('it is used to close a file or flush a memory')\n",
    "    "
   ]
  },
  {
   "cell_type": "markdown",
   "id": "2cf2daa0",
   "metadata": {},
   "source": [
    "# how to delete file in python "
   ]
  },
  {
   "cell_type": "code",
   "execution_count": 44,
   "id": "44072316",
   "metadata": {},
   "outputs": [],
   "source": [
    "import os"
   ]
  },
  {
   "cell_type": "code",
   "execution_count": 46,
   "id": "754146c5",
   "metadata": {},
   "outputs": [
    {
     "data": {
      "text/plain": [
       "True"
      ]
     },
     "execution_count": 46,
     "metadata": {},
     "output_type": "execute_result"
    }
   ],
   "source": [
    "os.path.exists('python800.txt')"
   ]
  },
  {
   "cell_type": "code",
   "execution_count": 47,
   "id": "3edb1747",
   "metadata": {},
   "outputs": [
    {
     "name": "stdout",
     "output_type": "stream",
     "text": [
      "file exist\n",
      "file removed\n"
     ]
    }
   ],
   "source": [
    "if os.path.exists('python800.txt'):\n",
    "    print('file exist')\n",
    "    os.remove('python800.txt')\n",
    "    print('file removed')"
   ]
  },
  {
   "cell_type": "code",
   "execution_count": null,
   "id": "2ade9235",
   "metadata": {},
   "outputs": [],
   "source": []
  }
 ],
 "metadata": {
  "kernelspec": {
   "display_name": "Python 3 (ipykernel)",
   "language": "python",
   "name": "python3"
  },
  "language_info": {
   "codemirror_mode": {
    "name": "ipython",
    "version": 3
   },
   "file_extension": ".py",
   "mimetype": "text/x-python",
   "name": "python",
   "nbconvert_exporter": "python",
   "pygments_lexer": "ipython3",
   "version": "3.8.10"
  }
 },
 "nbformat": 4,
 "nbformat_minor": 5
}
