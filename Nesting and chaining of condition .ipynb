{
 "cells": [
  {
   "cell_type": "code",
   "execution_count": 1,
   "id": "880f7710",
   "metadata": {},
   "outputs": [
    {
     "name": "stdout",
     "output_type": "stream",
     "text": [
      "Zero\n",
      "Positive\n"
     ]
    }
   ],
   "source": [
    "num = 0\n",
    "\n",
    "if num ==0:\n",
    "    print(\"Zero\")\n",
    "    \n",
    "    \n",
    "if num < 0:\n",
    "    print(\"negative\")\n",
    "    \n",
    "    \n",
    "if num >= 0:\n",
    "    print(\"Positive\")"
   ]
  },
  {
   "cell_type": "markdown",
   "id": "fa770810",
   "metadata": {},
   "source": [
    "# Nesting of conditions"
   ]
  },
  {
   "cell_type": "code",
   "execution_count": 2,
   "id": "6454db5d",
   "metadata": {},
   "outputs": [
    {
     "name": "stdout",
     "output_type": "stream",
     "text": [
      "Zero\n"
     ]
    }
   ],
   "source": [
    "num = 0\n",
    "\n",
    "if num < 0:\n",
    "    print(\"negative\")\n",
    "    \n",
    "else:\n",
    "    if num == 0:\n",
    "        print(\"Zero\")\n",
    "    else:\n",
    "        print(\"Positive\")\n",
    "        \n",
    "        \n",
    "     "
   ]
  },
  {
   "cell_type": "markdown",
   "id": "3cc40c17",
   "metadata": {},
   "source": [
    "# Chaining of conditionals: if...elif...else"
   ]
  },
  {
   "cell_type": "code",
   "execution_count": 3,
   "id": "8e649792",
   "metadata": {},
   "outputs": [
    {
     "name": "stdout",
     "output_type": "stream",
     "text": [
      "positive\n"
     ]
    }
   ],
   "source": [
    "num = 5\n",
    "\n",
    "if num < 0:\n",
    "    print(\"negative\")\n",
    "    \n",
    "elif num == 0:\n",
    "    print(\"Zero\")\n",
    "    \n",
    "else:\n",
    "    print(\"positive\")\n"
   ]
  },
  {
   "cell_type": "code",
   "execution_count": 4,
   "id": "26a581de",
   "metadata": {},
   "outputs": [
    {
     "name": "stdout",
     "output_type": "stream",
     "text": [
      "positive\n"
     ]
    }
   ],
   "source": [
    "num = 5\n",
    "\n",
    "if num < 0:\n",
    "    print(\"negative\")\n",
    "    \n",
    "elif num == 0:\n",
    "    print(\"Zero\")\n",
    "    \n",
    "elif num > 0:\n",
    "    print(\"positive\")"
   ]
  },
  {
   "cell_type": "markdown",
   "id": "6bc0f67c",
   "metadata": {},
   "source": [
    "# BMI calculator"
   ]
  },
  {
   "cell_type": "markdown",
   "id": "ce63d7bb",
   "metadata": {},
   "source": [
    "<ing src= \"https://www.google.com/url?sa=i&url=https%3A%2F%2Fwww.cdc.gov%2Fhealthyweight%2Fassessing%2Fbmi%2Fadult_bmi%2Findex.html&psig=AOvVaw2HwcFjrxHKcAMi8DMk3zx3&ust=1671160335671000&source=images&cd=vfe&ved=0CBAQjRxqFwoTCJiJ1sbT-vsCFQAAAAAdAAAAABAE\">"
   ]
  },
  {
   "cell_type": "code",
   "execution_count": 6,
   "id": "ea70d8c5",
   "metadata": {},
   "outputs": [
    {
     "name": "stdout",
     "output_type": "stream",
     "text": [
      "Enter your weight72\n",
      "Enter your height in centimeter:176\n",
      "Normal Weight\n"
     ]
    }
   ],
   "source": [
    "weight = int(input(\"Enter your weight\"))\n",
    "\n",
    "height = float(input(\"Enter your height in centimeter:\"))\n",
    "\n",
    "\n",
    "\n",
    "height_m = 176/100\n",
    "\n",
    "\n",
    "BMI = weight/(height_m ** 2)\n",
    "\n",
    "if BMI < 18.5:\n",
    "    print(\"Under Weight\")\n",
    "    \n",
    "elif BMI >= 18.5 and BMI <= 29.9:\n",
    "    print(\"Normal Weight\")\n",
    "    \n",
    "elif BMI >= 25 and BMI <= 29.9:\n",
    "    print(\"Over Weight\")\n",
    "    \n",
    "elif  BMI == 30 and BMI > 30:\n",
    "    print(\"Obese\")"
   ]
  },
  {
   "cell_type": "markdown",
   "id": "63c28a6c",
   "metadata": {},
   "source": [
    "# Logical operators in python\n",
    "* and\n",
    "* or\n",
    "* not\n"
   ]
  },
  {
   "cell_type": "code",
   "execution_count": 7,
   "id": "40a97f49",
   "metadata": {},
   "outputs": [
    {
     "data": {
      "text/plain": [
       "False"
      ]
     },
     "execution_count": 7,
     "metadata": {},
     "output_type": "execute_result"
    }
   ],
   "source": [
    "not True"
   ]
  },
  {
   "cell_type": "code",
   "execution_count": 8,
   "id": "e8e0c198",
   "metadata": {},
   "outputs": [
    {
     "data": {
      "text/plain": [
       "True"
      ]
     },
     "execution_count": 8,
     "metadata": {},
     "output_type": "execute_result"
    }
   ],
   "source": [
    "not False"
   ]
  },
  {
   "cell_type": "code",
   "execution_count": null,
   "id": "fe616efc",
   "metadata": {},
   "outputs": [],
   "source": []
  }
 ],
 "metadata": {
  "kernelspec": {
   "display_name": "Python 3 (ipykernel)",
   "language": "python",
   "name": "python3"
  },
  "language_info": {
   "codemirror_mode": {
    "name": "ipython",
    "version": 3
   },
   "file_extension": ".py",
   "mimetype": "text/x-python",
   "name": "python",
   "nbconvert_exporter": "python",
   "pygments_lexer": "ipython3",
   "version": "3.8.10"
  }
 },
 "nbformat": 4,
 "nbformat_minor": 5
}
