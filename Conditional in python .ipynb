{
 "cells": [
  {
   "cell_type": "markdown",
   "id": "843929b6",
   "metadata": {},
   "source": [
    "# I want to find if the user input is odd or even "
   ]
  },
  {
   "cell_type": "code",
   "execution_count": 3,
   "id": "584a42a0",
   "metadata": {},
   "outputs": [
    {
     "name": "stdout",
     "output_type": "stream",
     "text": [
      " Enter a positive number: 99\n"
     ]
    }
   ],
   "source": [
    "a = int(input(\" Enter a positive number: \"))"
   ]
  },
  {
   "cell_type": "code",
   "execution_count": 4,
   "id": "fa4f89ef",
   "metadata": {},
   "outputs": [
    {
     "name": "stdout",
     "output_type": "stream",
     "text": [
      " Enter a positive number: 5\n"
     ]
    }
   ],
   "source": [
    "a = int(input(\" Enter a positive number: \"))"
   ]
  },
  {
   "cell_type": "code",
   "execution_count": 6,
   "id": "0aeaa90b",
   "metadata": {},
   "outputs": [
    {
     "data": {
      "text/plain": [
       "True"
      ]
     },
     "execution_count": 6,
     "metadata": {},
     "output_type": "execute_result"
    }
   ],
   "source": [
    "a % 2 == 1"
   ]
  },
  {
   "cell_type": "code",
   "execution_count": 7,
   "id": "8fbcf901",
   "metadata": {},
   "outputs": [
    {
     "name": "stdout",
     "output_type": "stream",
     "text": [
      "the number is odd\n"
     ]
    }
   ],
   "source": [
    "if a % 2 == 1: \n",
    "    print(\"the number is odd\")\n",
    "else:\n",
    "    print(\"the number is even\")\n",
    "    "
   ]
  },
  {
   "cell_type": "code",
   "execution_count": 8,
   "id": "d69719da",
   "metadata": {},
   "outputs": [
    {
     "name": "stdout",
     "output_type": "stream",
     "text": [
      " Enter a positive number: 9\n",
      "the number is odd\n"
     ]
    }
   ],
   "source": [
    "if a % 2 == 1: \n",
    "    print(\"the number is odd\")\n",
    "else:\n",
    "    print(\"the number is even\")"
   ]
  },
  {
   "cell_type": "code",
   "execution_count": 11,
   "id": "635fac9b",
   "metadata": {},
   "outputs": [
    {
     "name": "stdout",
     "output_type": "stream",
     "text": [
      " Enter a positive number: -1\n",
      "the number is negative\n"
     ]
    }
   ],
   "source": [
    "a = int(input(\" Enter a positive number: \"))\n",
    "if a > 0: \n",
    "    print(\"the number is positive\")\n",
    "else:\n",
    "    print(\"the number is negative\")\n",
    "    "
   ]
  },
  {
   "cell_type": "code",
   "execution_count": 12,
   "id": "b5e1bc3d",
   "metadata": {},
   "outputs": [
    {
     "ename": "IndentationError",
     "evalue": "expected an indented block (424032105.py, line 2)",
     "output_type": "error",
     "traceback": [
      "\u001b[1;36m  Cell \u001b[1;32mIn[12], line 2\u001b[1;36m\u001b[0m\n\u001b[1;33m    print(\"equal\")\u001b[0m\n\u001b[1;37m    ^\u001b[0m\n\u001b[1;31mIndentationError\u001b[0m\u001b[1;31m:\u001b[0m expected an indented block\n"
     ]
    }
   ],
   "source": [
    "if 10 == 10:\n",
    "    print(\"equal\")  # print ko agadi space huna parxa "
   ]
  },
  {
   "cell_type": "code",
   "execution_count": null,
   "id": "7ef557b0",
   "metadata": {},
   "outputs": [],
   "source": []
  }
 ],
 "metadata": {
  "kernelspec": {
   "display_name": "Python 3 (ipykernel)",
   "language": "python",
   "name": "python3"
  },
  "language_info": {
   "codemirror_mode": {
    "name": "ipython",
    "version": 3
   },
   "file_extension": ".py",
   "mimetype": "text/x-python",
   "name": "python",
   "nbconvert_exporter": "python",
   "pygments_lexer": "ipython3",
   "version": "3.8.10"
  }
 },
 "nbformat": 4,
 "nbformat_minor": 5
}
