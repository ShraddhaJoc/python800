{
 "cells": [
  {
   "cell_type": "markdown",
   "id": "961338b1",
   "metadata": {},
   "source": [
    "#  Scope of variables in python functions: global and local \n"
   ]
  },
  {
   "cell_type": "code",
   "execution_count": 7,
   "id": "c3161db1",
   "metadata": {},
   "outputs": [],
   "source": [
    "x = 'awesome'\n",
    "\n",
    "def display():\n",
    "    x = 'fantastic'\n",
    "    z = 'Python'\n",
    "    print(f'{z} is {x}')"
   ]
  },
  {
   "cell_type": "code",
   "execution_count": 8,
   "id": "8f43cf5d",
   "metadata": {},
   "outputs": [
    {
     "data": {
      "text/plain": [
       "'awesome'"
      ]
     },
     "execution_count": 8,
     "metadata": {},
     "output_type": "execute_result"
    }
   ],
   "source": [
    "x"
   ]
  },
  {
   "cell_type": "code",
   "execution_count": 9,
   "id": "f36a5608",
   "metadata": {},
   "outputs": [
    {
     "ename": "NameError",
     "evalue": "name 'z' is not defined",
     "output_type": "error",
     "traceback": [
      "\u001b[1;31m---------------------------------------------------------------------------\u001b[0m",
      "\u001b[1;31mNameError\u001b[0m                                 Traceback (most recent call last)",
      "Cell \u001b[1;32mIn[9], line 1\u001b[0m\n\u001b[1;32m----> 1\u001b[0m \u001b[43mz\u001b[49m\n",
      "\u001b[1;31mNameError\u001b[0m: name 'z' is not defined"
     ]
    }
   ],
   "source": [
    "z"
   ]
  },
  {
   "cell_type": "code",
   "execution_count": 10,
   "id": "af33980e",
   "metadata": {},
   "outputs": [],
   "source": [
    "x = 'awesome'\n",
    "\n",
    "def display():\n",
    "    x = 'fantastic'\n",
    "    z = 'Python'\n",
    "    print(f'{z} is {x}')"
   ]
  },
  {
   "cell_type": "code",
   "execution_count": 11,
   "id": "adefe10a",
   "metadata": {},
   "outputs": [
    {
     "name": "stdout",
     "output_type": "stream",
     "text": [
      "Python is fantastic\n"
     ]
    }
   ],
   "source": [
    "display()"
   ]
  },
  {
   "cell_type": "code",
   "execution_count": 21,
   "id": "17225a11",
   "metadata": {},
   "outputs": [],
   "source": [
    "x = 'awesome'\n",
    "\n",
    "def display():\n",
    "    global x\n",
    "    global z\n",
    "    x = 'fantastic'\n",
    "    z = 'Python'\n",
    "    print(f'{z} is {x}')"
   ]
  },
  {
   "cell_type": "code",
   "execution_count": 22,
   "id": "37643ddb",
   "metadata": {},
   "outputs": [
    {
     "name": "stdout",
     "output_type": "stream",
     "text": [
      "Python is fantastic\n"
     ]
    }
   ],
   "source": [
    "display()"
   ]
  },
  {
   "cell_type": "code",
   "execution_count": 23,
   "id": "9de36db6",
   "metadata": {},
   "outputs": [
    {
     "data": {
      "text/plain": [
       "'fantastic'"
      ]
     },
     "execution_count": 23,
     "metadata": {},
     "output_type": "execute_result"
    }
   ],
   "source": [
    "x"
   ]
  },
  {
   "cell_type": "code",
   "execution_count": 24,
   "id": "fbba68db",
   "metadata": {},
   "outputs": [
    {
     "data": {
      "text/plain": [
       "'Python'"
      ]
     },
     "execution_count": 24,
     "metadata": {},
     "output_type": "execute_result"
    }
   ],
   "source": [
    "z"
   ]
  },
  {
   "cell_type": "code",
   "execution_count": null,
   "id": "e7b50ce7",
   "metadata": {},
   "outputs": [],
   "source": []
  }
 ],
 "metadata": {
  "kernelspec": {
   "display_name": "Python 3 (ipykernel)",
   "language": "python",
   "name": "python3"
  },
  "language_info": {
   "codemirror_mode": {
    "name": "ipython",
    "version": 3
   },
   "file_extension": ".py",
   "mimetype": "text/x-python",
   "name": "python",
   "nbconvert_exporter": "python",
   "pygments_lexer": "ipython3",
   "version": "3.8.10"
  }
 },
 "nbformat": 4,
 "nbformat_minor": 5
}
