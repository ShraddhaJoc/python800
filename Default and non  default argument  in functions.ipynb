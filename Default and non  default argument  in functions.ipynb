{
 "cells": [
  {
   "cell_type": "code",
   "execution_count": 5,
   "id": "8ac13a2c",
   "metadata": {},
   "outputs": [],
   "source": [
    "def greet(name, msg):\n",
    "    print(f'Hello, {name} {msg}')\n",
    "    "
   ]
  },
  {
   "cell_type": "code",
   "execution_count": 6,
   "id": "cfa83578",
   "metadata": {},
   "outputs": [
    {
     "name": "stdout",
     "output_type": "stream",
     "text": [
      "Hello, Shraddha Good morning\n"
     ]
    }
   ],
   "source": [
    "greet('Shraddha','Good morning')"
   ]
  },
  {
   "cell_type": "code",
   "execution_count": 7,
   "id": "c7fc8953",
   "metadata": {},
   "outputs": [
    {
     "name": "stdout",
     "output_type": "stream",
     "text": [
      "Hello, Ram Good morning\n"
     ]
    }
   ],
   "source": [
    "greet('Ram', 'Good morning')"
   ]
  },
  {
   "cell_type": "code",
   "execution_count": 8,
   "id": "b8c7592a",
   "metadata": {},
   "outputs": [
    {
     "name": "stdout",
     "output_type": "stream",
     "text": [
      "Hello, Shyam Good morning\n"
     ]
    }
   ],
   "source": [
    "greet('Shyam', 'Good morning')"
   ]
  },
  {
   "cell_type": "markdown",
   "id": "c7b1f623",
   "metadata": {},
   "source": [
    "# default argument"
   ]
  },
  {
   "cell_type": "code",
   "execution_count": 9,
   "id": "25304af5",
   "metadata": {},
   "outputs": [],
   "source": [
    "def greet(name, msg = 'Goodmorning'):  # msg is default argument\n",
    "    print(f'Hello, {name} {msg}')"
   ]
  },
  {
   "cell_type": "code",
   "execution_count": 10,
   "id": "3d78f7a6",
   "metadata": {},
   "outputs": [
    {
     "name": "stdout",
     "output_type": "stream",
     "text": [
      "Hello, Shraddha Goodmorning\n"
     ]
    }
   ],
   "source": [
    "greet('Shraddha')"
   ]
  },
  {
   "cell_type": "code",
   "execution_count": 12,
   "id": "b50d28e8",
   "metadata": {},
   "outputs": [
    {
     "name": "stdout",
     "output_type": "stream",
     "text": [
      "Hello, Shyam Good afternoon\n"
     ]
    }
   ],
   "source": [
    "# Good afternoon overwrites default argument msg value\n",
    "\n",
    "greet('Shyam','Good afternoon')  "
   ]
  },
  {
   "cell_type": "code",
   "execution_count": 13,
   "id": "c8ae4e72",
   "metadata": {},
   "outputs": [
    {
     "name": "stdout",
     "output_type": "stream",
     "text": [
      "Hello, hari Goodmrg\n"
     ]
    }
   ],
   "source": [
    "greet(msg ='Goodmrg', name = 'hari')"
   ]
  },
  {
   "cell_type": "code",
   "execution_count": 15,
   "id": "28639285",
   "metadata": {},
   "outputs": [
    {
     "name": "stdout",
     "output_type": "stream",
     "text": [
      "Hello, goodevening hari\n"
     ]
    }
   ],
   "source": [
    "greet('goodevening', 'hari')  # name = goodevening, msg = hari "
   ]
  },
  {
   "cell_type": "markdown",
   "id": "0eef5f34",
   "metadata": {},
   "source": [
    "# default vs non default argument"
   ]
  },
  {
   "cell_type": "code",
   "execution_count": 16,
   "id": "4eea6d57",
   "metadata": {},
   "outputs": [
    {
     "ename": "SyntaxError",
     "evalue": "non-default argument follows default argument (3044242916.py, line 1)",
     "output_type": "error",
     "traceback": [
      "\u001b[1;36m  Cell \u001b[1;32mIn[16], line 1\u001b[1;36m\u001b[0m\n\u001b[1;33m    def greet( msg = 'Goodmorning', name):\u001b[0m\n\u001b[1;37m               ^\u001b[0m\n\u001b[1;31mSyntaxError\u001b[0m\u001b[1;31m:\u001b[0m non-default argument follows default argument\n"
     ]
    }
   ],
   "source": [
    "def greet( msg = 'Goodmorning', name):  # msg is default argument and name is non default argument \n",
    "    print(f'Hello, {name} {msg}')"
   ]
  },
  {
   "cell_type": "code",
   "execution_count": 17,
   "id": "69919442",
   "metadata": {},
   "outputs": [],
   "source": [
    " # pahila sab default haru lekhe paxi matra non default halna pauxa "
   ]
  },
  {
   "cell_type": "code",
   "execution_count": null,
   "id": "3128136d",
   "metadata": {},
   "outputs": [],
   "source": []
  }
 ],
 "metadata": {
  "kernelspec": {
   "display_name": "Python 3 (ipykernel)",
   "language": "python",
   "name": "python3"
  },
  "language_info": {
   "codemirror_mode": {
    "name": "ipython",
    "version": 3
   },
   "file_extension": ".py",
   "mimetype": "text/x-python",
   "name": "python",
   "nbconvert_exporter": "python",
   "pygments_lexer": "ipython3",
   "version": "3.8.10"
  }
 },
 "nbformat": 4,
 "nbformat_minor": 5
}
