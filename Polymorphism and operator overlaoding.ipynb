{
 "cells": [
  {
   "cell_type": "markdown",
   "id": "a7fe92a3",
   "metadata": {},
   "source": [
    "# operator overlaoding and "
   ]
  },
  {
   "cell_type": "code",
   "execution_count": 1,
   "id": "47395b02",
   "metadata": {},
   "outputs": [
    {
     "data": {
      "text/plain": [
       "5"
      ]
     },
     "execution_count": 1,
     "metadata": {},
     "output_type": "execute_result"
    }
   ],
   "source": [
    "2 + 3"
   ]
  },
  {
   "cell_type": "code",
   "execution_count": 2,
   "id": "3de2d20f",
   "metadata": {},
   "outputs": [
    {
     "data": {
      "text/plain": [
       "'hi'"
      ]
     },
     "execution_count": 2,
     "metadata": {},
     "output_type": "execute_result"
    }
   ],
   "source": [
    "'h' +'i'"
   ]
  },
  {
   "cell_type": "markdown",
   "id": "c750f64a",
   "metadata": {},
   "source": [
    "# user defined operator overlaoding"
   ]
  },
  {
   "cell_type": "code",
   "execution_count": 3,
   "id": "1e615cf7",
   "metadata": {},
   "outputs": [],
   "source": [
    "class Account:\n",
    "    def __init__(self,name,bal):\n",
    "        self.name = name\n",
    "        self.bal = bal\n",
    "        "
   ]
  },
  {
   "cell_type": "code",
   "execution_count": 4,
   "id": "4b935b19",
   "metadata": {},
   "outputs": [],
   "source": [
    "ac1 = Account('Ram',456800)\n",
    "ac2 = Account('Shyam',53256)\n"
   ]
  },
  {
   "cell_type": "code",
   "execution_count": 5,
   "id": "99b67feb",
   "metadata": {},
   "outputs": [
    {
     "ename": "TypeError",
     "evalue": "unsupported operand type(s) for +: 'Account' and 'Account'",
     "output_type": "error",
     "traceback": [
      "\u001b[1;31m---------------------------------------------------------------------------\u001b[0m",
      "\u001b[1;31mTypeError\u001b[0m                                 Traceback (most recent call last)",
      "Cell \u001b[1;32mIn[5], line 1\u001b[0m\n\u001b[1;32m----> 1\u001b[0m \u001b[43mac1\u001b[49m\u001b[43m \u001b[49m\u001b[38;5;241;43m+\u001b[39;49m\u001b[43m \u001b[49m\u001b[43mac2\u001b[49m\n",
      "\u001b[1;31mTypeError\u001b[0m: unsupported operand type(s) for +: 'Account' and 'Account'"
     ]
    }
   ],
   "source": [
    "ac1 + ac2  "
   ]
  },
  {
   "cell_type": "markdown",
   "id": "04634105",
   "metadata": {},
   "source": [
    "'+' doesnot know jow to add 2 account object since account is user defined class. However, we want to add balance of two Account object. Therefore, we need to overload '+' operator . This can happen using dundlers for add the dundlers is __add__()"
   ]
  },
  {
   "cell_type": "code",
   "execution_count": 7,
   "id": "2401a3c8",
   "metadata": {},
   "outputs": [],
   "source": [
    "class Account:\n",
    "    def __init__(self,name,bal):\n",
    "        self.name = name\n",
    "        self.bal = bal\n",
    "    \n",
    "    def __add__(self,otherobj):\n",
    "        return self.bal + otherobj.bal\n",
    "        \n",
    "        "
   ]
  },
  {
   "cell_type": "code",
   "execution_count": 8,
   "id": "f36921f9",
   "metadata": {},
   "outputs": [],
   "source": [
    "ac1 = Account('Ram',456800)\n",
    "ac2 = Account('Shyam',53256)"
   ]
  },
  {
   "cell_type": "code",
   "execution_count": 9,
   "id": "055894de",
   "metadata": {},
   "outputs": [
    {
     "data": {
      "text/plain": [
       "510056"
      ]
     },
     "execution_count": 9,
     "metadata": {},
     "output_type": "execute_result"
    }
   ],
   "source": [
    "ac1 + ac2"
   ]
  },
  {
   "cell_type": "markdown",
   "id": "a4a0cdef",
   "metadata": {},
   "source": [
    "# polymorphism can occur in inheritance by overriding the pparent class method or function on child class"
   ]
  },
  {
   "cell_type": "code",
   "execution_count": 14,
   "id": "31fbac09",
   "metadata": {},
   "outputs": [],
   "source": [
    "class A:\n",
    "    def display(self):\n",
    "        print(\"This is A's display\")\n",
    "        \n",
    "class B(A):\n",
    "    def _init__(self):\n",
    "        super().__init__()\n",
    "        \n",
    "    def display(self):\n",
    "        print(\"This is B's display\")\n",
    "        "
   ]
  },
  {
   "cell_type": "code",
   "execution_count": 15,
   "id": "95728cb0",
   "metadata": {},
   "outputs": [],
   "source": [
    "obj = B()"
   ]
  },
  {
   "cell_type": "code",
   "execution_count": 16,
   "id": "43870577",
   "metadata": {},
   "outputs": [
    {
     "name": "stdout",
     "output_type": "stream",
     "text": [
      "This is B's display\n"
     ]
    }
   ],
   "source": [
    "obj.display()"
   ]
  },
  {
   "cell_type": "code",
   "execution_count": null,
   "id": "9158b2f0",
   "metadata": {},
   "outputs": [],
   "source": []
  }
 ],
 "metadata": {
  "kernelspec": {
   "display_name": "Python 3 (ipykernel)",
   "language": "python",
   "name": "python3"
  },
  "language_info": {
   "codemirror_mode": {
    "name": "ipython",
    "version": 3
   },
   "file_extension": ".py",
   "mimetype": "text/x-python",
   "name": "python",
   "nbconvert_exporter": "python",
   "pygments_lexer": "ipython3",
   "version": "3.8.10"
  }
 },
 "nbformat": 4,
 "nbformat_minor": 5
}
