{
 "cells": [
  {
   "cell_type": "code",
   "execution_count": 1,
   "id": "e3d4fddf",
   "metadata": {},
   "outputs": [],
   "source": [
    "# creating empty class\n",
    "\n",
    "class Mammal:\n",
    "    pass\n"
   ]
  },
  {
   "cell_type": "code",
   "execution_count": 2,
   "id": "ba0453e3",
   "metadata": {},
   "outputs": [],
   "source": [
    "# create object from class / instance of class\n",
    "human = Mammal()"
   ]
  },
  {
   "cell_type": "code",
   "execution_count": 3,
   "id": "bfa0ec15",
   "metadata": {},
   "outputs": [
    {
     "data": {
      "text/plain": [
       "__main__.Mammal"
      ]
     },
     "execution_count": 3,
     "metadata": {},
     "output_type": "execute_result"
    }
   ],
   "source": [
    "type(human)"
   ]
  },
  {
   "cell_type": "code",
   "execution_count": 4,
   "id": "0a2ea42f",
   "metadata": {},
   "outputs": [],
   "source": [
    "#main is entry point in python program"
   ]
  },
  {
   "cell_type": "code",
   "execution_count": 5,
   "id": "7afac1a6",
   "metadata": {},
   "outputs": [
    {
     "name": "stdout",
     "output_type": "stream",
     "text": [
      "<class '__main__.Mammal'>\n"
     ]
    }
   ],
   "source": [
    "if __name__=='__main__':\n",
    "    human=Mammal()\n",
    "    print(type(human))"
   ]
  },
  {
   "cell_type": "code",
   "execution_count": 6,
   "id": "0e9394c6",
   "metadata": {},
   "outputs": [
    {
     "data": {
      "text/plain": [
       "'__main__'"
      ]
     },
     "execution_count": 6,
     "metadata": {},
     "output_type": "execute_result"
    }
   ],
   "source": [
    "__name__# __name is dunders in python "
   ]
  },
  {
   "cell_type": "markdown",
   "id": "3b4cbba0",
   "metadata": {},
   "source": [
    "# Class attributes"
   ]
  },
  {
   "cell_type": "code",
   "execution_count": 7,
   "id": "c281e745",
   "metadata": {},
   "outputs": [],
   "source": [
    "class Mammal:\n",
    "    has_hair = True # class attribute is same for all object of a class "
   ]
  },
  {
   "cell_type": "code",
   "execution_count": 9,
   "id": "9d18d37f",
   "metadata": {},
   "outputs": [
    {
     "data": {
      "text/plain": [
       "True"
      ]
     },
     "execution_count": 9,
     "metadata": {},
     "output_type": "execute_result"
    }
   ],
   "source": [
    "human = Mammal()\n",
    "human .has_hair"
   ]
  },
  {
   "cell_type": "code",
   "execution_count": 10,
   "id": "ce77323a",
   "metadata": {},
   "outputs": [
    {
     "data": {
      "text/plain": [
       "True"
      ]
     },
     "execution_count": 10,
     "metadata": {},
     "output_type": "execute_result"
    }
   ],
   "source": [
    "cow = Mammal()\n",
    "cow.has_hair"
   ]
  },
  {
   "cell_type": "markdown",
   "id": "f29b864f",
   "metadata": {},
   "source": [
    "# Object attribute"
   ]
  },
  {
   "cell_type": "code",
   "execution_count": 11,
   "id": "51f9d509",
   "metadata": {},
   "outputs": [],
   "source": [
    "class Mammal:\n",
    "    has_hair = True  # class attribute\n",
    "    \n",
    "    def __init__(self, legs): # object attribute initializer\n",
    "        self.legs = legs # object attribute\n",
    "        "
   ]
  },
  {
   "cell_type": "code",
   "execution_count": 12,
   "id": "d41f4c2c",
   "metadata": {},
   "outputs": [],
   "source": [
    "human = Mammal(2)"
   ]
  },
  {
   "cell_type": "code",
   "execution_count": 13,
   "id": "dcd03f29",
   "metadata": {},
   "outputs": [
    {
     "data": {
      "text/plain": [
       "True"
      ]
     },
     "execution_count": 13,
     "metadata": {},
     "output_type": "execute_result"
    }
   ],
   "source": [
    "human.has_hair # class attribute is same for all object"
   ]
  },
  {
   "cell_type": "code",
   "execution_count": 14,
   "id": "58f424fd",
   "metadata": {},
   "outputs": [
    {
     "data": {
      "text/plain": [
       "2"
      ]
     },
     "execution_count": 14,
     "metadata": {},
     "output_type": "execute_result"
    }
   ],
   "source": [
    "human.legs  # object attribute is different for all objects "
   ]
  },
  {
   "cell_type": "code",
   "execution_count": 15,
   "id": "4060da52",
   "metadata": {},
   "outputs": [],
   "source": [
    "cow =Mammal(4)\n"
   ]
  },
  {
   "cell_type": "code",
   "execution_count": 16,
   "id": "e940062b",
   "metadata": {},
   "outputs": [
    {
     "data": {
      "text/plain": [
       "True"
      ]
     },
     "execution_count": 16,
     "metadata": {},
     "output_type": "execute_result"
    }
   ],
   "source": [
    "cow.has_hair   # class attribute is same for all object"
   ]
  },
  {
   "cell_type": "code",
   "execution_count": 17,
   "id": "cf736c46",
   "metadata": {},
   "outputs": [
    {
     "data": {
      "text/plain": [
       "4"
      ]
     },
     "execution_count": 17,
     "metadata": {},
     "output_type": "execute_result"
    }
   ],
   "source": [
    "cow.legs      # object attribute is different for all objects "
   ]
  },
  {
   "cell_type": "markdown",
   "id": "d8ab24fe",
   "metadata": {},
   "source": [
    "# What is Self"
   ]
  },
  {
   "cell_type": "code",
   "execution_count": 18,
   "id": "74f5456b",
   "metadata": {},
   "outputs": [],
   "source": [
    "class Mammal:\n",
    "    has_hair = True  \n",
    "    \n",
    "    def __init__(self, legs):\n",
    "        print(type(self))     # self is an object\n",
    "        self.legs = legs \n",
    "        "
   ]
  },
  {
   "cell_type": "code",
   "execution_count": 19,
   "id": "f9bf9eee",
   "metadata": {},
   "outputs": [
    {
     "name": "stdout",
     "output_type": "stream",
     "text": [
      "<class '__main__.Mammal'>\n"
     ]
    }
   ],
   "source": [
    "cow = Mammal(4)"
   ]
  },
  {
   "cell_type": "markdown",
   "id": "4917d0e5",
   "metadata": {},
   "source": [
    "# methods in user created class"
   ]
  },
  {
   "cell_type": "code",
   "execution_count": 20,
   "id": "fccd7321",
   "metadata": {},
   "outputs": [],
   "source": [
    "class Mammal:\n",
    "    has_hair = True  \n",
    "    \n",
    "    def __init__(self, legs):\n",
    "        \n",
    "        self.legs = legs\n",
    "    def display_legs(self):\n",
    "        print(self.legs)"
   ]
  },
  {
   "cell_type": "code",
   "execution_count": 22,
   "id": "e77625bb",
   "metadata": {},
   "outputs": [],
   "source": [
    "cow = Mammal(4)"
   ]
  },
  {
   "cell_type": "code",
   "execution_count": 23,
   "id": "40a331f1",
   "metadata": {},
   "outputs": [
    {
     "name": "stdout",
     "output_type": "stream",
     "text": [
      "4\n"
     ]
    }
   ],
   "source": [
    "cow.display_legs()"
   ]
  },
  {
   "cell_type": "code",
   "execution_count": 24,
   "id": "e54b3e59",
   "metadata": {},
   "outputs": [
    {
     "name": "stdout",
     "output_type": "stream",
     "text": [
      "2\n"
     ]
    }
   ],
   "source": [
    "human = Mammal(2)\n",
    "human.display_legs()"
   ]
  },
  {
   "cell_type": "code",
   "execution_count": null,
   "id": "373716d5",
   "metadata": {},
   "outputs": [],
   "source": []
  }
 ],
 "metadata": {
  "kernelspec": {
   "display_name": "Python 3 (ipykernel)",
   "language": "python",
   "name": "python3"
  },
  "language_info": {
   "codemirror_mode": {
    "name": "ipython",
    "version": 3
   },
   "file_extension": ".py",
   "mimetype": "text/x-python",
   "name": "python",
   "nbconvert_exporter": "python",
   "pygments_lexer": "ipython3",
   "version": "3.8.10"
  }
 },
 "nbformat": 4,
 "nbformat_minor": 5
}
