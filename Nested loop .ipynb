{
 "cells": [
  {
   "cell_type": "code",
   "execution_count": 3,
   "id": "24c7574e",
   "metadata": {},
   "outputs": [
    {
     "name": "stdout",
     "output_type": "stream",
     "text": [
      "-----\n",
      "i = 0\n",
      "-------\n",
      "j = 0\n",
      "j = 1\n",
      "j = 2\n",
      "-----\n",
      "i = 1\n",
      "-------\n",
      "j = 0\n",
      "j = 1\n",
      "j = 2\n",
      "-----\n",
      "i = 2\n",
      "-------\n",
      "j = 0\n",
      "j = 1\n",
      "j = 2\n",
      "-----\n",
      "i = 3\n",
      "-------\n",
      "j = 0\n",
      "j = 1\n",
      "j = 2\n",
      "-----\n",
      "i = 4\n",
      "-------\n",
      "j = 0\n",
      "j = 1\n",
      "j = 2\n"
     ]
    }
   ],
   "source": [
    "for i in range(5):\n",
    "    print('-----')\n",
    "    print(f'i = {i}')\n",
    "    print('-------')\n",
    "    \n",
    "    for j in range (3):\n",
    "        print(f'j = {j}')"
   ]
  },
  {
   "cell_type": "code",
   "execution_count": 4,
   "id": "d0863836",
   "metadata": {},
   "outputs": [],
   "source": [
    "num = [[3,5,6],[9,33,21,1],[2,7]]\n"
   ]
  },
  {
   "cell_type": "code",
   "execution_count": 10,
   "id": "bb021348",
   "metadata": {},
   "outputs": [
    {
     "name": "stdout",
     "output_type": "stream",
     "text": [
      "[3, 5, 6]\n",
      "[9, 33, 21, 1]\n",
      "[2, 7]\n"
     ]
    },
    {
     "data": {
      "text/plain": [
       "[4.666666666666667, 16.0, 4.5]"
      ]
     },
     "execution_count": 10,
     "metadata": {},
     "output_type": "execute_result"
    }
   ],
   "source": [
    "mean_values =[]\n",
    "for item in num:\n",
    "    print(item)\n",
    "    total = 0\n",
    "    for tokens in item:\n",
    "        total = total + tokens\n",
    "    mean = total/len(item)\n",
    "    mean_values.append(mean)\n",
    "mean_values\n",
    "        "
   ]
  },
  {
   "cell_type": "code",
   "execution_count": null,
   "id": "bfb52e1f",
   "metadata": {},
   "outputs": [],
   "source": []
  }
 ],
 "metadata": {
  "kernelspec": {
   "display_name": "Python 3 (ipykernel)",
   "language": "python",
   "name": "python3"
  },
  "language_info": {
   "codemirror_mode": {
    "name": "ipython",
    "version": 3
   },
   "file_extension": ".py",
   "mimetype": "text/x-python",
   "name": "python",
   "nbconvert_exporter": "python",
   "pygments_lexer": "ipython3",
   "version": "3.8.10"
  }
 },
 "nbformat": 4,
 "nbformat_minor": 5
}
