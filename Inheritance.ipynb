{
 "cells": [
  {
   "cell_type": "code",
   "execution_count": 1,
   "id": "06328713",
   "metadata": {},
   "outputs": [],
   "source": [
    "class Computer:\n",
    "    def __init__(self, gpu):\n",
    "        self.gpu = gpu\n",
    "        \n",
    "class Mobile:\n",
    "    def __init__(self,flash):\n",
    "        self.flash = flash\n",
    "        "
   ]
  },
  {
   "cell_type": "code",
   "execution_count": 2,
   "id": "5ee0e72a",
   "metadata": {},
   "outputs": [],
   "source": [
    "mob = Mobile(True)"
   ]
  },
  {
   "cell_type": "code",
   "execution_count": 3,
   "id": "09c1399a",
   "metadata": {},
   "outputs": [
    {
     "ename": "AttributeError",
     "evalue": "'Mobile' object has no attribute 'gpu'",
     "output_type": "error",
     "traceback": [
      "\u001b[1;31m---------------------------------------------------------------------------\u001b[0m",
      "\u001b[1;31mAttributeError\u001b[0m                            Traceback (most recent call last)",
      "Cell \u001b[1;32mIn[3], line 1\u001b[0m\n\u001b[1;32m----> 1\u001b[0m \u001b[43mmob\u001b[49m\u001b[38;5;241;43m.\u001b[39;49m\u001b[43mgpu\u001b[49m\n",
      "\u001b[1;31mAttributeError\u001b[0m: 'Mobile' object has no attribute 'gpu'"
     ]
    }
   ],
   "source": [
    "mob.gpu  # not allowed"
   ]
  },
  {
   "cell_type": "code",
   "execution_count": 4,
   "id": "63e2d101",
   "metadata": {},
   "outputs": [],
   "source": [
    "class Computer:\n",
    "    def __init__(self, gpu):\n",
    "        self.gpu = gpu\n",
    "        \n",
    "class Mobile(Computer):\n",
    "    def __init__(self,flash, gpu):\n",
    "        \n",
    "        self.flash = flash\n",
    "        super().__init__(gpu)\n",
    "        "
   ]
  },
  {
   "cell_type": "code",
   "execution_count": 6,
   "id": "d900c3c8",
   "metadata": {},
   "outputs": [],
   "source": [
    "mob = Mobile(True, 'adreno')"
   ]
  },
  {
   "cell_type": "code",
   "execution_count": 7,
   "id": "b7679ac0",
   "metadata": {},
   "outputs": [
    {
     "data": {
      "text/plain": [
       "'adreno'"
      ]
     },
     "execution_count": 7,
     "metadata": {},
     "output_type": "execute_result"
    }
   ],
   "source": [
    "mob.gpu"
   ]
  },
  {
   "cell_type": "markdown",
   "id": "40aacfec",
   "metadata": {},
   "source": [
    "# Multiple inheritance"
   ]
  },
  {
   "cell_type": "code",
   "execution_count": 11,
   "id": "e2374e6c",
   "metadata": {},
   "outputs": [],
   "source": [
    "class Father:\n",
    "    f_name = 'Ram'\n",
    "    def __init__(self):\n",
    "        pass\n",
    "class Mother:\n",
    "    m_name ='Sita'\n",
    "    def __init__(self):\n",
    "        pass\n",
    "class Child(Father, Mother):\n",
    "    def __init__(self,name):\n",
    "        self.name = name\n",
    "        Father.__init__(self)\n",
    "        Mother.__init__(self)\n",
    "        \n",
    "        \n",
    "      \n",
    "    "
   ]
  },
  {
   "cell_type": "code",
   "execution_count": 12,
   "id": "9f95d699",
   "metadata": {},
   "outputs": [],
   "source": [
    "c =Child('luv.Kush')"
   ]
  },
  {
   "cell_type": "code",
   "execution_count": 13,
   "id": "f7b64d43",
   "metadata": {},
   "outputs": [
    {
     "data": {
      "text/plain": [
       "'Ram'"
      ]
     },
     "execution_count": 13,
     "metadata": {},
     "output_type": "execute_result"
    }
   ],
   "source": [
    "c.f_name"
   ]
  },
  {
   "cell_type": "code",
   "execution_count": 14,
   "id": "d62d01eb",
   "metadata": {},
   "outputs": [
    {
     "data": {
      "text/plain": [
       "'Sita'"
      ]
     },
     "execution_count": 14,
     "metadata": {},
     "output_type": "execute_result"
    }
   ],
   "source": [
    "c.m_name"
   ]
  },
  {
   "cell_type": "code",
   "execution_count": 15,
   "id": "f8504c00",
   "metadata": {},
   "outputs": [
    {
     "data": {
      "text/plain": [
       "'luv.Kush'"
      ]
     },
     "execution_count": 15,
     "metadata": {},
     "output_type": "execute_result"
    }
   ],
   "source": [
    "c.name"
   ]
  },
  {
   "cell_type": "markdown",
   "id": "d02843fc",
   "metadata": {},
   "source": [
    "# Multi level inheritance"
   ]
  },
  {
   "cell_type": "code",
   "execution_count": 17,
   "id": "94bdd619",
   "metadata": {},
   "outputs": [],
   "source": [
    "class A:\n",
    "    g_name ='Dasarath'\n",
    "    def __init__(self):\n",
    "        pass\n",
    "class B(A):\n",
    "    f_name ='Ram'\n",
    "    def __init__(self):\n",
    "        A.__init__(self)\n",
    "\n",
    "class C(B):\n",
    "    name = 'Luv.Kush'\n",
    "    def __init__(self):\n",
    "        B.__init__(self)\n",
    "        \n",
    "\n",
    "        \n",
    "    "
   ]
  },
  {
   "cell_type": "code",
   "execution_count": 18,
   "id": "bf71158f",
   "metadata": {},
   "outputs": [],
   "source": [
    "child = C()"
   ]
  },
  {
   "cell_type": "code",
   "execution_count": 19,
   "id": "ff2b1160",
   "metadata": {},
   "outputs": [
    {
     "data": {
      "text/plain": [
       "'Dasarath'"
      ]
     },
     "execution_count": 19,
     "metadata": {},
     "output_type": "execute_result"
    }
   ],
   "source": [
    "child.g_name"
   ]
  },
  {
   "cell_type": "markdown",
   "id": "363937cd",
   "metadata": {},
   "source": [
    "# Are access specifiers used in python? --No but has concept of limiting behaviour of variables : private attribute are not inheritated"
   ]
  },
  {
   "cell_type": "code",
   "execution_count": 20,
   "id": "d933500a",
   "metadata": {},
   "outputs": [],
   "source": [
    "class Instructor:\n",
    "    name = 'Kshitiz' # public\n",
    "    _age = 25  # protected: agadi 1 ta underscore\n",
    "    __salary = 1000 # private: agadi 2 ta underscore"
   ]
  },
  {
   "cell_type": "code",
   "execution_count": 21,
   "id": "7d4104be",
   "metadata": {},
   "outputs": [],
   "source": [
    "ins = Instructor()"
   ]
  },
  {
   "cell_type": "code",
   "execution_count": 22,
   "id": "78458616",
   "metadata": {},
   "outputs": [
    {
     "data": {
      "text/plain": [
       "'Kshitiz'"
      ]
     },
     "execution_count": 22,
     "metadata": {},
     "output_type": "execute_result"
    }
   ],
   "source": [
    "ins.name"
   ]
  },
  {
   "cell_type": "code",
   "execution_count": 23,
   "id": "345fc860",
   "metadata": {},
   "outputs": [
    {
     "data": {
      "text/plain": [
       "25"
      ]
     },
     "execution_count": 23,
     "metadata": {},
     "output_type": "execute_result"
    }
   ],
   "source": [
    "ins._age"
   ]
  },
  {
   "cell_type": "code",
   "execution_count": 24,
   "id": "eb1786a0",
   "metadata": {},
   "outputs": [
    {
     "ename": "AttributeError",
     "evalue": "'Instructor' object has no attribute '__salary'",
     "output_type": "error",
     "traceback": [
      "\u001b[1;31m---------------------------------------------------------------------------\u001b[0m",
      "\u001b[1;31mAttributeError\u001b[0m                            Traceback (most recent call last)",
      "Cell \u001b[1;32mIn[24], line 1\u001b[0m\n\u001b[1;32m----> 1\u001b[0m \u001b[43mins\u001b[49m\u001b[38;5;241;43m.\u001b[39;49m\u001b[43m__salary\u001b[49m\n",
      "\u001b[1;31mAttributeError\u001b[0m: 'Instructor' object has no attribute '__salary'"
     ]
    }
   ],
   "source": [
    "ins.__salary # protected bhayeko le herna mildaina "
   ]
  },
  {
   "cell_type": "markdown",
   "id": "1c69bd0c",
   "metadata": {},
   "source": [
    "# Polymorphism"
   ]
  },
  {
   "cell_type": "code",
   "execution_count": 25,
   "id": "2e9976ad",
   "metadata": {},
   "outputs": [
    {
     "name": "stdout",
     "output_type": "stream",
     "text": [
      "3\n"
     ]
    }
   ],
   "source": [
    "a = 1\n",
    "b = 2\n",
    "print(a+b)"
   ]
  },
  {
   "cell_type": "code",
   "execution_count": null,
   "id": "fa334921",
   "metadata": {},
   "outputs": [],
   "source": []
  }
 ],
 "metadata": {
  "kernelspec": {
   "display_name": "Python 3 (ipykernel)",
   "language": "python",
   "name": "python3"
  },
  "language_info": {
   "codemirror_mode": {
    "name": "ipython",
    "version": 3
   },
   "file_extension": ".py",
   "mimetype": "text/x-python",
   "name": "python",
   "nbconvert_exporter": "python",
   "pygments_lexer": "ipython3",
   "version": "3.8.10"
  }
 },
 "nbformat": 4,
 "nbformat_minor": 5
}
