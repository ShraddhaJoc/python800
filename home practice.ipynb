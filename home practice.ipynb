{
 "cells": [
  {
   "cell_type": "code",
   "execution_count": null,
   "id": "0364cf02",
   "metadata": {},
   "outputs": [],
   "source": [
    "w = \"Welcome {} to {} Nepal\".format('my','country');\n",
    "    "
   ]
  },
  {
   "cell_type": "code",
   "execution_count": null,
   "id": "ff7b020d",
   "metadata": {},
   "outputs": [],
   "source": [
    "w"
   ]
  },
  {
   "cell_type": "code",
   "execution_count": null,
   "id": "0a90dd8b",
   "metadata": {},
   "outputs": [],
   "source": [
    "first_num = 60.5\n",
    "print('first_num before update = {}'.format(first_num))\n",
    "first_num = first_num + 1\n",
    "print ('first_num after update = {}'.format(first_num))"
   ]
  },
  {
   "cell_type": "code",
   "execution_count": null,
   "id": "49510396",
   "metadata": {},
   "outputs": [],
   "source": [
    "a ,b, c = 2,0.4, 2-3j"
   ]
  },
  {
   "cell_type": "code",
   "execution_count": null,
   "id": "24b7f63f",
   "metadata": {},
   "outputs": [],
   "source": [
    "a"
   ]
  },
  {
   "cell_type": "code",
   "execution_count": null,
   "id": "454372ad",
   "metadata": {},
   "outputs": [],
   "source": [
    "b"
   ]
  },
  {
   "cell_type": "code",
   "execution_count": null,
   "id": "9eb77196",
   "metadata": {},
   "outputs": [],
   "source": [
    "c"
   ]
  },
  {
   "cell_type": "code",
   "execution_count": null,
   "id": "3ae2a79c",
   "metadata": {},
   "outputs": [],
   "source": [
    "num1 = 3\n",
    "num2 = 5\n",
    "\n",
    " "
   ]
  },
  {
   "cell_type": "code",
   "execution_count": null,
   "id": "ded20a7c",
   "metadata": {},
   "outputs": [],
   "source": [
    "num1 , num2 = num2, num1"
   ]
  },
  {
   "cell_type": "code",
   "execution_count": null,
   "id": "b5782bf5",
   "metadata": {},
   "outputs": [],
   "source": [
    "num1"
   ]
  },
  {
   "cell_type": "code",
   "execution_count": null,
   "id": "27fec3ad",
   "metadata": {},
   "outputs": [],
   "source": [
    "num2"
   ]
  },
  {
   "cell_type": "code",
   "execution_count": null,
   "id": "e4ce02c6",
   "metadata": {},
   "outputs": [],
   "source": [
    "type(num1)"
   ]
  },
  {
   "cell_type": "code",
   "execution_count": null,
   "id": "111815f0",
   "metadata": {},
   "outputs": [],
   "source": [
    "num = int(input(\"enter a number: \"))\n",
    "\n",
    "if num%2 == 0:\n",
    "    \n",
    "    print(\"even\")\n",
    "    \n",
    "else:\n",
    "    \n",
    "    print(\"odd\")"
   ]
  },
  {
   "cell_type": "code",
   "execution_count": null,
   "id": "c40eafc0",
   "metadata": {},
   "outputs": [],
   "source": [
    "num = int(input('Enter a number:'))\n",
    "print(\"wecome {}\".format(num))"
   ]
  },
  {
   "cell_type": "code",
   "execution_count": null,
   "id": "b40c77cf",
   "metadata": {},
   "outputs": [],
   "source": [
    "a = input(\"enter your name:\")\n",
    "print(\"wecome {}\".format(a))\n",
    "\n"
   ]
  },
  {
   "cell_type": "code",
   "execution_count": null,
   "id": "a921c1a0",
   "metadata": {},
   "outputs": [],
   "source": [
    "input_num = int(input('enter a number:'))\n",
    "\n",
    "if input_num %2 == 0:\n",
    "    print('The number{} is even'.format(input_num))\n",
    "else:\n",
    "    print('The number {} is odd'.format(input_num))"
   ]
  },
  {
   "cell_type": "code",
   "execution_count": null,
   "id": "9e1129a0",
   "metadata": {},
   "outputs": [],
   "source": [
    "num1 = input(\"enter a number:\")\n",
    "num2 = input(\"enter a number:\")\n",
    "total = num1 + num2\n",
    "print(f'The sun is {total}')"
   ]
  },
  {
   "cell_type": "code",
   "execution_count": null,
   "id": "0ce4f057",
   "metadata": {},
   "outputs": [],
   "source": [
    "num =int(input(\"ener a number:\"))\n",
    "\n",
    "if num >=0:\n",
    "    print(\"positive\")\n",
    "else:\n",
    "    print(\"negstive\")"
   ]
  },
  {
   "cell_type": "code",
   "execution_count": null,
   "id": "9799bc62",
   "metadata": {},
   "outputs": [],
   "source": [
    "num = int(input(\"Enter a number:\"))\n",
    "\n",
    "if num%5 == 0:\n",
    "    print(\"Hello\")\n",
    "else:\n",
    "    print(\"Bye\")\n",
    "    "
   ]
  },
  {
   "cell_type": "markdown",
   "id": "5c6fb532",
   "metadata": {},
   "source": [
    "# Electricity bill\n"
   ]
  },
  {
   "cell_type": "code",
   "execution_count": null,
   "id": "6cd2fe74",
   "metadata": {},
   "outputs": [],
   "source": [
    "num = int(input(\"enter the unit:\"))\n",
    "if num == 100:\n",
    "    print(\"no charge\")\n",
    "elif num >100:\n",
    "    charge = num*5\n",
    "else num >200:\n",
    "    charge = num *10\n",
    "    \n",
    "         \n",
    "    \n",
    "    \n",
    "            \n",
    "            \n",
    "        "
   ]
  },
  {
   "cell_type": "code",
   "execution_count": null,
   "id": "a74b87f9",
   "metadata": {},
   "outputs": [],
   "source": [
    "charge"
   ]
  },
  {
   "cell_type": "code",
   "execution_count": null,
   "id": "1092b455",
   "metadata": {},
   "outputs": [],
   "source": [
    "num =int(input(\"enter a number:\"))\n",
    "\n",
    "if num <0:\n",
    "    print(\"negative\")\n",
    "\n",
    "elif num>0:\n",
    "    print(\"positive\")\n",
    "    if num % 2==0:\n",
    "        Print(\"even\")\n",
    "    else:\n",
    "        print(\"odd\")\n",
    "     "
   ]
  },
  {
   "cell_type": "code",
   "execution_count": null,
   "id": "aa8277db",
   "metadata": {},
   "outputs": [],
   "source": [
    "s = 'shraddha'"
   ]
  },
  {
   "cell_type": "code",
   "execution_count": null,
   "id": "207db2c1",
   "metadata": {},
   "outputs": [],
   "source": [
    "s[-1]"
   ]
  },
  {
   "cell_type": "code",
   "execution_count": null,
   "id": "62b34ae7",
   "metadata": {},
   "outputs": [],
   "source": [
    "s[1]"
   ]
  },
  {
   "cell_type": "code",
   "execution_count": null,
   "id": "cd7b1059",
   "metadata": {},
   "outputs": [],
   "source": [
    "range(0,len(s),1)"
   ]
  },
  {
   "cell_type": "code",
   "execution_count": null,
   "id": "95b2e9f6",
   "metadata": {},
   "outputs": [],
   "source": [
    "s = 'shraddha'\n",
    "for index in range(0,len(s),1):\n",
    "    letter = s[index]\n",
    "    print(f\"The index is {index}and the letteris {letter}\")"
   ]
  },
  {
   "cell_type": "code",
   "execution_count": null,
   "id": "b73a517b",
   "metadata": {},
   "outputs": [],
   "source": [
    "letter"
   ]
  },
  {
   "cell_type": "code",
   "execution_count": 2,
   "id": "083aaefa",
   "metadata": {},
   "outputs": [],
   "source": [
    "s = 'shraddha'\n",
    "for index in range(-1,-1 ,-1):\n",
    "    letter = s[index]\n",
    "    print(f\"The index is {index}and the letter is {letter}\")"
   ]
  },
  {
   "cell_type": "code",
   "execution_count": 14,
   "id": "12a69ca7",
   "metadata": {},
   "outputs": [
    {
     "name": "stdout",
     "output_type": "stream",
     "text": [
      "vowels =a\n",
      "vowels =e\n",
      "consonant = y\n",
      "vowels =i\n"
     ]
    }
   ],
   "source": [
    "s = \"aeyi\"\n",
    "\n",
    "for index in range(0, len(s),1):\n",
    "    Letter = s[index]\n",
    "    if Letter =='a' or Letter =='e' or Letter =='i' or Letter =='o' or Letter =='u':\n",
    "        print(f\"vowels ={Letter}\")\n",
    "    else:\n",
    "        print(f'consonant = {Letter}')"
   ]
  },
  {
   "cell_type": "code",
   "execution_count": 12,
   "id": "7fb6cde6",
   "metadata": {},
   "outputs": [
    {
     "name": "stdout",
     "output_type": "stream",
     "text": [
      "vowel = a\n",
      "Consonant = e\n",
      "Consonant = y\n",
      "vowel = i\n"
     ]
    }
   ],
   "source": [
    "text = \"aeyi\"\n",
    "for index in range(0,len(text), 1):\n",
    "    \n",
    "    letter = text[index]\n",
    "    if letter ==\"a\" or letter ==\"i\" or letter ==\"0\" or letter ==\"u\":\n",
    "        print(f\"vowel = {letter}\")\n",
    "    else:\n",
    "        print(f\"Consonant = {letter}\")"
   ]
  },
  {
   "cell_type": "code",
   "execution_count": 15,
   "id": "c1969f5d",
   "metadata": {},
   "outputs": [],
   "source": [
    "s =\"Shraddha Joshi\""
   ]
  },
  {
   "cell_type": "code",
   "execution_count": 16,
   "id": "6c6eacf2",
   "metadata": {},
   "outputs": [
    {
     "data": {
      "text/plain": [
       "'rad'"
      ]
     },
     "execution_count": 16,
     "metadata": {},
     "output_type": "execute_result"
    }
   ],
   "source": [
    "s[2:5]"
   ]
  },
  {
   "cell_type": "code",
   "execution_count": 19,
   "id": "b91d976f",
   "metadata": {},
   "outputs": [
    {
     "name": "stdout",
     "output_type": "stream",
     "text": [
      "2\n",
      "3\n"
     ]
    }
   ],
   "source": [
    "s = \"Hello\"\n",
    "\n",
    "vowel, consonant = 0,0\n",
    "s=s.lower()\n",
    "for index in range(len(s)):\n",
    "    letter = s[index]\n",
    "    if letter == \"a\":\n",
    "        vowel = vowel +1\n",
    "    elif letter ==\"e\":\n",
    "         vowel = vowel +1\n",
    "    elif letter ==\"i\":\n",
    "        vowel = vowel +1\n",
    "    elif letter ==\"o\":\n",
    "        vowel = vowel +1\n",
    "    elif letter ==\"u\":\n",
    "        vowel = vowel +1\n",
    "    else:\n",
    "        consonant = consonant + 1\n",
    "print(vowel)\n",
    "print(consonant)\n",
    "        "
   ]
  },
  {
   "cell_type": "code",
   "execution_count": 22,
   "id": "203d3ced",
   "metadata": {},
   "outputs": [
    {
     "name": "stdout",
     "output_type": "stream",
     "text": [
      "4\n",
      "16\n",
      "36\n",
      "64\n",
      "81\n"
     ]
    }
   ],
   "source": [
    "num = [2,4,6,8,9]\n",
    "for index in range(len(num)):\n",
    "    number = num[index]\n",
    "    square = number **2\n",
    "    print(square)\n",
    "    "
   ]
  },
  {
   "cell_type": "code",
   "execution_count": 21,
   "id": "161c38c0",
   "metadata": {},
   "outputs": [
    {
     "data": {
      "text/plain": [
       "81"
      ]
     },
     "execution_count": 21,
     "metadata": {},
     "output_type": "execute_result"
    }
   ],
   "source": [
    "square"
   ]
  },
  {
   "cell_type": "code",
   "execution_count": 29,
   "id": "222959dd",
   "metadata": {},
   "outputs": [],
   "source": [
    "num = [2,4,6,8,9]\n",
    "\n",
    "for item in num:\n",
    "    square.append(item **2)\n",
    "    square\n",
    "    \n",
    "    "
   ]
  },
  {
   "cell_type": "code",
   "execution_count": 31,
   "id": "2006998a",
   "metadata": {},
   "outputs": [
    {
     "data": {
      "text/plain": [
       "['apple', 'banana', 'mango']"
      ]
     },
     "execution_count": 31,
     "metadata": {},
     "output_type": "execute_result"
    }
   ],
   "source": [
    "fruit = ['APPLE','BANANA','MANGO']\n",
    "[item.lower() for item in fruit]\n",
    "\n",
    "         \n",
    "         "
   ]
  },
  {
   "cell_type": "code",
   "execution_count": 15,
   "id": "2e9953d5",
   "metadata": {},
   "outputs": [],
   "source": [
    "import sqlite3"
   ]
  },
  {
   "cell_type": "code",
   "execution_count": 16,
   "id": "242ab1be",
   "metadata": {},
   "outputs": [],
   "source": [
    "con = sqlite3.connect('std.db')"
   ]
  },
  {
   "cell_type": "code",
   "execution_count": 17,
   "id": "ba5aaab4",
   "metadata": {},
   "outputs": [],
   "source": [
    "cur= con.cursor()"
   ]
  },
  {
   "cell_type": "code",
   "execution_count": null,
   "id": "9181332c",
   "metadata": {},
   "outputs": [],
   "source": []
  }
 ],
 "metadata": {
  "kernelspec": {
   "display_name": "Python 3 (ipykernel)",
   "language": "python",
   "name": "python3"
  },
  "language_info": {
   "codemirror_mode": {
    "name": "ipython",
    "version": 3
   },
   "file_extension": ".py",
   "mimetype": "text/x-python",
   "name": "python",
   "nbconvert_exporter": "python",
   "pygments_lexer": "ipython3",
   "version": "3.8.10"
  }
 },
 "nbformat": 4,
 "nbformat_minor": 5
}
