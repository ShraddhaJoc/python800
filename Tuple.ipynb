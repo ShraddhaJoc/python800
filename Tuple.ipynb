{
 "cells": [
  {
   "cell_type": "markdown",
   "id": "61d6f0f9",
   "metadata": {},
   "source": [
    "# tuples items are ordered, unchangeble and allow duplicate value,index immutable\n"
   ]
  },
  {
   "cell_type": "code",
   "execution_count": 1,
   "id": "141f0050",
   "metadata": {},
   "outputs": [],
   "source": [
    "car = (\"audi\", \"Mercedes\", \"BMW\")"
   ]
  },
  {
   "cell_type": "code",
   "execution_count": 2,
   "id": "7ff235fd",
   "metadata": {},
   "outputs": [
    {
     "data": {
      "text/plain": [
       "tuple"
      ]
     },
     "execution_count": 2,
     "metadata": {},
     "output_type": "execute_result"
    }
   ],
   "source": [
    "type(car)"
   ]
  },
  {
   "cell_type": "code",
   "execution_count": 3,
   "id": "9c21ab6f",
   "metadata": {},
   "outputs": [
    {
     "data": {
      "text/plain": [
       "'Mercedes'"
      ]
     },
     "execution_count": 3,
     "metadata": {},
     "output_type": "execute_result"
    }
   ],
   "source": [
    "car[1]"
   ]
  },
  {
   "cell_type": "code",
   "execution_count": 4,
   "id": "4e39fdf5",
   "metadata": {},
   "outputs": [
    {
     "data": {
      "text/plain": [
       "'BMW'"
      ]
     },
     "execution_count": 4,
     "metadata": {},
     "output_type": "execute_result"
    }
   ],
   "source": [
    "car[-1]"
   ]
  },
  {
   "cell_type": "code",
   "execution_count": 6,
   "id": "a54a5c52",
   "metadata": {},
   "outputs": [
    {
     "ename": "TypeError",
     "evalue": "'tuple' object does not support item assignment",
     "output_type": "error",
     "traceback": [
      "\u001b[1;31m---------------------------------------------------------------------------\u001b[0m",
      "\u001b[1;31mTypeError\u001b[0m                                 Traceback (most recent call last)",
      "Cell \u001b[1;32mIn[6], line 1\u001b[0m\n\u001b[1;32m----> 1\u001b[0m \u001b[43mcar\u001b[49m\u001b[43m[\u001b[49m\u001b[38;5;241;43m0\u001b[39;49m\u001b[43m]\u001b[49m \u001b[38;5;241m=\u001b[39m \u001b[38;5;124m'\u001b[39m\u001b[38;5;124mTesla\u001b[39m\u001b[38;5;124m'\u001b[39m\u001b[38;5;66;03m# unchangeable or immutable\u001b[39;00m\n",
      "\u001b[1;31mTypeError\u001b[0m: 'tuple' object does not support item assignment"
     ]
    }
   ],
   "source": [
    "car[0] = 'Tesla'# unchangeable or immutable"
   ]
  },
  {
   "cell_type": "markdown",
   "id": "b2057955",
   "metadata": {},
   "source": [
    "# Tuple are unchangeable, meaning that we cannot change , add or remove items after the tuple has been created"
   ]
  },
  {
   "cell_type": "code",
   "execution_count": 7,
   "id": "d9603f88",
   "metadata": {},
   "outputs": [
    {
     "data": {
      "text/plain": [
       "('audi', 'Mercedes', 'BMW')"
      ]
     },
     "execution_count": 7,
     "metadata": {},
     "output_type": "execute_result"
    }
   ],
   "source": [
    "car"
   ]
  },
  {
   "cell_type": "code",
   "execution_count": 8,
   "id": "807a08b4",
   "metadata": {},
   "outputs": [
    {
     "ename": "AttributeError",
     "evalue": "'tuple' object has no attribute 'append'",
     "output_type": "error",
     "traceback": [
      "\u001b[1;31m---------------------------------------------------------------------------\u001b[0m",
      "\u001b[1;31mAttributeError\u001b[0m                            Traceback (most recent call last)",
      "Cell \u001b[1;32mIn[8], line 1\u001b[0m\n\u001b[1;32m----> 1\u001b[0m \u001b[43mcar\u001b[49m\u001b[38;5;241;43m.\u001b[39;49m\u001b[43mappend\u001b[49m(\u001b[38;5;124m'\u001b[39m\u001b[38;5;124mtesla\u001b[39m\u001b[38;5;124m'\u001b[39m)\n",
      "\u001b[1;31mAttributeError\u001b[0m: 'tuple' object has no attribute 'append'"
     ]
    }
   ],
   "source": [
    "car.append('tesla')"
   ]
  },
  {
   "cell_type": "markdown",
   "id": "8c836e2d",
   "metadata": {},
   "source": [
    "# We cannot change ,add or remove items after the tuple has been created but type conversion to list can make it happen"
   ]
  },
  {
   "cell_type": "code",
   "execution_count": 10,
   "id": "61907f03",
   "metadata": {},
   "outputs": [
    {
     "name": "stdout",
     "output_type": "stream",
     "text": [
      "After type casting the data type of car is <class 'list'>\n",
      "['audi', 'Mercedes', 'BMW']\n",
      "After type casting the data type of car is <class 'tuple'>\n",
      "('audi', 'Mercedes', 'BMW', 'Tesla')\n"
     ]
    }
   ],
   "source": [
    "car = (\"audi\", \"Mercedes\", \"BMW\")\n",
    "car = list(car)\n",
    "print(f'After type casting the data type of car is {type(car)}')\n",
    "print(car)\n",
    "\n",
    "car.append('Tesla')\n",
    "\n",
    "car = tuple(car)\n",
    "print(f'After type casting the data type of car is {type(car)}')\n",
    "print(car)\n"
   ]
  },
  {
   "cell_type": "markdown",
   "id": "400ee38b",
   "metadata": {},
   "source": [
    "Loop in tuple"
   ]
  },
  {
   "cell_type": "code",
   "execution_count": 13,
   "id": "394307ef",
   "metadata": {},
   "outputs": [
    {
     "name": "stdout",
     "output_type": "stream",
     "text": [
      "audi\n",
      "Mercedes\n",
      "BMW\n"
     ]
    }
   ],
   "source": [
    "car = (\"audi\", \"Mercedes\", \"BMW\")\n",
    "for index in range(len(car)):\n",
    "    data = car[index]\n",
    "    print(data)\n",
    "\n"
   ]
  },
  {
   "cell_type": "code",
   "execution_count": 14,
   "id": "1977327b",
   "metadata": {},
   "outputs": [
    {
     "name": "stdout",
     "output_type": "stream",
     "text": [
      "audi\n",
      "Mercedes\n",
      "BMW\n"
     ]
    }
   ],
   "source": [
    "for item in car:\n",
    "    print(item)"
   ]
  },
  {
   "cell_type": "code",
   "execution_count": 15,
   "id": "76b3e5c1",
   "metadata": {},
   "outputs": [
    {
     "name": "stdout",
     "output_type": "stream",
     "text": [
      "0 audi\n",
      "1 Mercedes\n",
      "2 BMW\n"
     ]
    }
   ],
   "source": [
    "car = (\"audi\", \"Mercedes\", \"BMW\")\n",
    "for index in range(len(car)):\n",
    "    data = car[index]\n",
    "    print(index, data)\n"
   ]
  },
  {
   "cell_type": "code",
   "execution_count": 16,
   "id": "e2156fe7",
   "metadata": {},
   "outputs": [
    {
     "name": "stdout",
     "output_type": "stream",
     "text": [
      "0 BMW\n",
      "1 BMW\n",
      "2 BMW\n"
     ]
    }
   ],
   "source": [
    "for index , item in enumerate(car):\n",
    "    print(index, data)\n",
    "    "
   ]
  },
  {
   "cell_type": "code",
   "execution_count": null,
   "id": "507333eb",
   "metadata": {},
   "outputs": [],
   "source": []
  }
 ],
 "metadata": {
  "kernelspec": {
   "display_name": "Python 3 (ipykernel)",
   "language": "python",
   "name": "python3"
  },
  "language_info": {
   "codemirror_mode": {
    "name": "ipython",
    "version": 3
   },
   "file_extension": ".py",
   "mimetype": "text/x-python",
   "name": "python",
   "nbconvert_exporter": "python",
   "pygments_lexer": "ipython3",
   "version": "3.8.10"
  }
 },
 "nbformat": 4,
 "nbformat_minor": 5
}
