{
 "cells": [
  {
   "cell_type": "markdown",
   "id": "8e6ff165",
   "metadata": {},
   "source": [
    "#  Return multiple values from function -- in tuple"
   ]
  },
  {
   "cell_type": "code",
   "execution_count": 1,
   "id": "6ad0c54e",
   "metadata": {},
   "outputs": [],
   "source": [
    "def arithmetic_operation(x,y):\n",
    "    total = x + y\n",
    "    diff = x- y\n",
    "    rem = x % y\n",
    "    quotient = x / y\n",
    "    return total, diff, rem , quotient"
   ]
  },
  {
   "cell_type": "code",
   "execution_count": 2,
   "id": "b8f58e31",
   "metadata": {},
   "outputs": [
    {
     "data": {
      "text/plain": [
       "(10, 6, 0, 4.0)"
      ]
     },
     "execution_count": 2,
     "metadata": {},
     "output_type": "execute_result"
    }
   ],
   "source": [
    "arithmetic_operation(x= 8,y=2)"
   ]
  },
  {
   "cell_type": "code",
   "execution_count": 8,
   "id": "19e7a666",
   "metadata": {},
   "outputs": [],
   "source": [
    "# unpacking of tuple\n",
    "total , diff, rem, quotient = arithmetic_operation(x= 8,y=2)"
   ]
  },
  {
   "cell_type": "code",
   "execution_count": 4,
   "id": "6f121a28",
   "metadata": {},
   "outputs": [
    {
     "data": {
      "text/plain": [
       "10"
      ]
     },
     "execution_count": 4,
     "metadata": {},
     "output_type": "execute_result"
    }
   ],
   "source": [
    "total"
   ]
  },
  {
   "cell_type": "code",
   "execution_count": 5,
   "id": "baa8866d",
   "metadata": {},
   "outputs": [
    {
     "data": {
      "text/plain": [
       "6"
      ]
     },
     "execution_count": 5,
     "metadata": {},
     "output_type": "execute_result"
    }
   ],
   "source": [
    "diff"
   ]
  },
  {
   "cell_type": "code",
   "execution_count": 6,
   "id": "339b73ac",
   "metadata": {},
   "outputs": [
    {
     "data": {
      "text/plain": [
       "0"
      ]
     },
     "execution_count": 6,
     "metadata": {},
     "output_type": "execute_result"
    }
   ],
   "source": [
    "rem"
   ]
  },
  {
   "cell_type": "code",
   "execution_count": 7,
   "id": "d72811f7",
   "metadata": {},
   "outputs": [
    {
     "data": {
      "text/plain": [
       "4.0"
      ]
     },
     "execution_count": 7,
     "metadata": {},
     "output_type": "execute_result"
    }
   ],
   "source": [
    "quotient"
   ]
  },
  {
   "cell_type": "code",
   "execution_count": 12,
   "id": "b2323b48",
   "metadata": {},
   "outputs": [],
   "source": [
    "a , b =(55, 6) # unpacking of tuple "
   ]
  },
  {
   "cell_type": "code",
   "execution_count": 13,
   "id": "708f46c1",
   "metadata": {},
   "outputs": [
    {
     "data": {
      "text/plain": [
       "55"
      ]
     },
     "execution_count": 13,
     "metadata": {},
     "output_type": "execute_result"
    }
   ],
   "source": [
    "a"
   ]
  },
  {
   "cell_type": "code",
   "execution_count": 14,
   "id": "8e47ea16",
   "metadata": {},
   "outputs": [
    {
     "data": {
      "text/plain": [
       "6"
      ]
     },
     "execution_count": 14,
     "metadata": {},
     "output_type": "execute_result"
    }
   ],
   "source": [
    "b"
   ]
  },
  {
   "cell_type": "code",
   "execution_count": null,
   "id": "404e4e80",
   "metadata": {},
   "outputs": [],
   "source": []
  }
 ],
 "metadata": {
  "kernelspec": {
   "display_name": "Python 3 (ipykernel)",
   "language": "python",
   "name": "python3"
  },
  "language_info": {
   "codemirror_mode": {
    "name": "ipython",
    "version": 3
   },
   "file_extension": ".py",
   "mimetype": "text/x-python",
   "name": "python",
   "nbconvert_exporter": "python",
   "pygments_lexer": "ipython3",
   "version": "3.8.10"
  }
 },
 "nbformat": 4,
 "nbformat_minor": 5
}
