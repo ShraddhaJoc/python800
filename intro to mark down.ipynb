{
 "cells": [
  {
   "cell_type": "code",
   "execution_count": 1,
   "id": "b0bf44db",
   "metadata": {},
   "outputs": [
    {
     "data": {
      "text/plain": [
       "8"
      ]
     },
     "execution_count": 1,
     "metadata": {},
     "output_type": "execute_result"
    }
   ],
   "source": [
    "5+3"
   ]
  },
  {
   "cell_type": "markdown",
   "id": "1f76ab6b",
   "metadata": {},
   "source": [
    "This is a text cell. We write text here"
   ]
  },
  {
   "cell_type": "markdown",
   "id": "4e8c70c4",
   "metadata": {},
   "source": [
    "**this is bold**"
   ]
  },
  {
   "cell_type": "markdown",
   "id": "3729b1f9",
   "metadata": {},
   "source": [
    "* this is bullet*"
   ]
  },
  {
   "cell_type": "markdown",
   "id": "818d69a2",
   "metadata": {},
   "source": [
    "*italics*"
   ]
  },
  {
   "cell_type": "code",
   "execution_count": null,
   "id": "c9d3c3ac",
   "metadata": {},
   "outputs": [],
   "source": []
  }
 ],
 "metadata": {
  "kernelspec": {
   "display_name": "Python 3 (ipykernel)",
   "language": "python",
   "name": "python3"
  },
  "language_info": {
   "codemirror_mode": {
    "name": "ipython",
    "version": 3
   },
   "file_extension": ".py",
   "mimetype": "text/x-python",
   "name": "python",
   "nbconvert_exporter": "python",
   "pygments_lexer": "ipython3",
   "version": "3.8.10"
  }
 },
 "nbformat": 4,
 "nbformat_minor": 5
}
