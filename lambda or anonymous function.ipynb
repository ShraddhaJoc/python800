{
 "cells": [
  {
   "cell_type": "markdown",
   "id": "41562a72",
   "metadata": {},
   "source": [
    "```python\n",
    "\n",
    "lambda arguments: Expression\n",
    "\n",
    "```\n",
    "   "
   ]
  },
  {
   "cell_type": "code",
   "execution_count": 3,
   "id": "cbbd4a8a",
   "metadata": {},
   "outputs": [],
   "source": [
    "sq = lambda x: x**2"
   ]
  },
  {
   "cell_type": "code",
   "execution_count": 4,
   "id": "a68be1d0",
   "metadata": {},
   "outputs": [
    {
     "data": {
      "text/plain": [
       "25"
      ]
     },
     "execution_count": 4,
     "metadata": {},
     "output_type": "execute_result"
    }
   ],
   "source": [
    "sq(5)"
   ]
  },
  {
   "cell_type": "markdown",
   "id": "fe3fb203",
   "metadata": {},
   "source": [
    "# filter() and map () use lambda function "
   ]
  },
  {
   "cell_type": "code",
   "execution_count": 8,
   "id": "b8bb8a3f",
   "metadata": {},
   "outputs": [
    {
     "data": {
      "text/plain": [
       "<filter at 0x242bfab2250>"
      ]
     },
     "execution_count": 8,
     "metadata": {},
     "output_type": "execute_result"
    }
   ],
   "source": [
    "filter(lambda x: x%2 == 0,[1,2,3,4,5,6]) "
   ]
  },
  {
   "cell_type": "code",
   "execution_count": 9,
   "id": "ee57dff4",
   "metadata": {},
   "outputs": [
    {
     "data": {
      "text/plain": [
       "[2, 4, 6]"
      ]
     },
     "execution_count": 9,
     "metadata": {},
     "output_type": "execute_result"
    }
   ],
   "source": [
    "list(filter(lambda x: x%2 == 0,[1,2,3,4,5,6]))"
   ]
  },
  {
   "cell_type": "code",
   "execution_count": 10,
   "id": "2294fcea",
   "metadata": {},
   "outputs": [
    {
     "data": {
      "text/plain": [
       "[1, 3, 5]"
      ]
     },
     "execution_count": 10,
     "metadata": {},
     "output_type": "execute_result"
    }
   ],
   "source": [
    "list(filter(lambda x: x%2 != 0,[1,2,3,4,5,6]))"
   ]
  },
  {
   "cell_type": "code",
   "execution_count": 11,
   "id": "3049bdc3",
   "metadata": {},
   "outputs": [],
   "source": [
    "corpus = ['He is a good boy.','He is a fooball player']"
   ]
  },
  {
   "cell_type": "code",
   "execution_count": 13,
   "id": "765a6e1e",
   "metadata": {},
   "outputs": [
    {
     "data": {
      "text/plain": [
       "<filter at 0x242bfa59bb0>"
      ]
     },
     "execution_count": 13,
     "metadata": {},
     "output_type": "execute_result"
    }
   ],
   "source": [
    "filter(lambda x: x.replace('He','She'),corpus)"
   ]
  },
  {
   "cell_type": "code",
   "execution_count": 15,
   "id": "d1ed9461",
   "metadata": {},
   "outputs": [
    {
     "data": {
      "text/plain": [
       "['She is a good boy.', 'She is a fooball player']"
      ]
     },
     "execution_count": 15,
     "metadata": {},
     "output_type": "execute_result"
    }
   ],
   "source": [
    "list(map (lambda x: x.replace('He','She'),corpus))"
   ]
  },
  {
   "cell_type": "code",
   "execution_count": null,
   "id": "a11024f7",
   "metadata": {},
   "outputs": [],
   "source": []
  }
 ],
 "metadata": {
  "kernelspec": {
   "display_name": "Python 3 (ipykernel)",
   "language": "python",
   "name": "python3"
  },
  "language_info": {
   "codemirror_mode": {
    "name": "ipython",
    "version": 3
   },
   "file_extension": ".py",
   "mimetype": "text/x-python",
   "name": "python",
   "nbconvert_exporter": "python",
   "pygments_lexer": "ipython3",
   "version": "3.8.10"
  }
 },
 "nbformat": 4,
 "nbformat_minor": 5
}
