{
 "cells": [
  {
   "cell_type": "markdown",
   "id": "dd79e5be",
   "metadata": {},
   "source": [
    "# WAP & SWAP Between Variables \n"
   ]
  },
  {
   "cell_type": "code",
   "execution_count": null,
   "id": "2209e7a5",
   "metadata": {},
   "outputs": [],
   "source": [
    "num1 = 2.5\n",
    "num2 = 0.36"
   ]
  },
  {
   "cell_type": "code",
   "execution_count": null,
   "id": "45883948",
   "metadata": {},
   "outputs": [],
   "source": [
    "tmp = num1"
   ]
  },
  {
   "cell_type": "code",
   "execution_count": null,
   "id": "9f121387",
   "metadata": {},
   "outputs": [],
   "source": [
    "num1 = num2\n",
    "num2 = tmp"
   ]
  },
  {
   "cell_type": "code",
   "execution_count": null,
   "id": "e58288ed",
   "metadata": {},
   "outputs": [],
   "source": [
    "num1"
   ]
  },
  {
   "cell_type": "code",
   "execution_count": null,
   "id": "de29a5c8",
   "metadata": {},
   "outputs": [],
   "source": [
    "num2"
   ]
  },
  {
   "cell_type": "code",
   "execution_count": 1,
   "id": "fe89a515",
   "metadata": {},
   "outputs": [],
   "source": [
    "num1 = 2.5\n",
    "num2 = 0.36"
   ]
  },
  {
   "cell_type": "code",
   "execution_count": 2,
   "id": "2b07b037",
   "metadata": {},
   "outputs": [],
   "source": [
    "num1 , num2 = num2 , num1 "
   ]
  },
  {
   "cell_type": "code",
   "execution_count": 3,
   "id": "08156bfd",
   "metadata": {},
   "outputs": [
    {
     "data": {
      "text/plain": [
       "0.36"
      ]
     },
     "execution_count": 3,
     "metadata": {},
     "output_type": "execute_result"
    }
   ],
   "source": [
    "num1"
   ]
  },
  {
   "cell_type": "code",
   "execution_count": 4,
   "id": "d401f3d6",
   "metadata": {},
   "outputs": [
    {
     "data": {
      "text/plain": [
       "2.5"
      ]
     },
     "execution_count": 4,
     "metadata": {},
     "output_type": "execute_result"
    }
   ],
   "source": [
    "num2 "
   ]
  },
  {
   "cell_type": "markdown",
   "id": "a1c8bcc6",
   "metadata": {},
   "source": [
    "# How many seconds are there in 42 minutes 42 seconds?"
   ]
  },
  {
   "cell_type": "code",
   "execution_count": 5,
   "id": "78bfa323",
   "metadata": {},
   "outputs": [],
   "source": [
    "sec = 42*60+42"
   ]
  },
  {
   "cell_type": "code",
   "execution_count": 6,
   "id": "cb5d2eb6",
   "metadata": {},
   "outputs": [
    {
     "data": {
      "text/plain": [
       "2562"
      ]
     },
     "execution_count": 6,
     "metadata": {},
     "output_type": "execute_result"
    }
   ],
   "source": [
    "sec"
   ]
  },
  {
   "cell_type": "markdown",
   "id": "7192bc84",
   "metadata": {},
   "source": [
    "# How many miles are there in 10 kilometers? hint: there are 1609 km in a mile"
   ]
  },
  {
   "cell_type": "code",
   "execution_count": 7,
   "id": "c54de2bb",
   "metadata": {},
   "outputs": [],
   "source": [
    "km = 10\n",
    "in_miles = km/1.609"
   ]
  },
  {
   "cell_type": "code",
   "execution_count": 8,
   "id": "94650d5e",
   "metadata": {},
   "outputs": [
    {
     "data": {
      "text/plain": [
       "6.215040397762586"
      ]
     },
     "execution_count": 8,
     "metadata": {},
     "output_type": "execute_result"
    }
   ],
   "source": [
    "in_miles"
   ]
  },
  {
   "cell_type": "markdown",
   "id": "96405a39",
   "metadata": {},
   "source": [
    "# if you run a 10 km race in 42 min 42 sec, what is your average pace (speed:mile in min and miles in seconds)?"
   ]
  },
  {
   "cell_type": "code",
   "execution_count": 9,
   "id": "0c50b040",
   "metadata": {},
   "outputs": [],
   "source": [
    "in_min = 42 + 42/60\n",
    "s = in_miles/ in_min "
   ]
  },
  {
   "cell_type": "code",
   "execution_count": 10,
   "id": "c25d3c4d",
   "metadata": {},
   "outputs": [
    {
     "data": {
      "text/plain": [
       "0.1455512973714891"
      ]
     },
     "execution_count": 10,
     "metadata": {},
     "output_type": "execute_result"
    }
   ],
   "source": [
    "s"
   ]
  },
  {
   "cell_type": "code",
   "execution_count": 12,
   "id": "aca5b8f4",
   "metadata": {},
   "outputs": [],
   "source": [
    "speed = in_miles/sec"
   ]
  },
  {
   "cell_type": "code",
   "execution_count": 13,
   "id": "dc747f28",
   "metadata": {},
   "outputs": [
    {
     "data": {
      "text/plain": [
       "0.0024258549561914852"
      ]
     },
     "execution_count": 13,
     "metadata": {},
     "output_type": "execute_result"
    }
   ],
   "source": [
    "speed"
   ]
  },
  {
   "cell_type": "code",
   "execution_count": null,
   "id": "57975a5c",
   "metadata": {},
   "outputs": [],
   "source": []
  }
 ],
 "metadata": {
  "kernelspec": {
   "display_name": "Python 3 (ipykernel)",
   "language": "python",
   "name": "python3"
  },
  "language_info": {
   "codemirror_mode": {
    "name": "ipython",
    "version": 3
   },
   "file_extension": ".py",
   "mimetype": "text/x-python",
   "name": "python",
   "nbconvert_exporter": "python",
   "pygments_lexer": "ipython3",
   "version": "3.8.10"
  }
 },
 "nbformat": 4,
 "nbformat_minor": 5
}
