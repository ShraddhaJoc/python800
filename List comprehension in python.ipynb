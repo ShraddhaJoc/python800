{
 "cells": [
  {
   "cell_type": "markdown",
   "id": "71ff1a68",
   "metadata": {},
   "source": [
    "# WAP to find a square of each number in a List"
   ]
  },
  {
   "cell_type": "code",
   "execution_count": 4,
   "id": "32bdd62c",
   "metadata": {},
   "outputs": [
    {
     "name": "stdout",
     "output_type": "stream",
     "text": [
      "4\n",
      "16\n",
      "36\n",
      "64\n",
      "81\n"
     ]
    }
   ],
   "source": [
    "num = [2,4,6,8,9]\n",
    "\n",
    "for item in range(len(num)):\n",
    "    number= num[item]\n",
    "    square = number **2\n",
    "    print(square)\n",
    "    "
   ]
  },
  {
   "cell_type": "code",
   "execution_count": 6,
   "id": "6ebc278f",
   "metadata": {},
   "outputs": [
    {
     "name": "stdout",
     "output_type": "stream",
     "text": [
      "[]\n",
      "[4]\n",
      "[4, 16]\n",
      "[4, 16, 36]\n",
      "[4, 16, 36, 64]\n"
     ]
    }
   ],
   "source": [
    "num = [2,4,6,8,9]\n",
    "sq = list()\n",
    "for item in num:\n",
    "    print(sq)\n",
    "    sq.append(item **2)\n",
    "    "
   ]
  },
  {
   "cell_type": "code",
   "execution_count": 7,
   "id": "dffb2455",
   "metadata": {},
   "outputs": [
    {
     "data": {
      "text/plain": [
       "[4, 16, 36, 64, 81, 4, 16, 36, 64, 81]"
      ]
     },
     "execution_count": 7,
     "metadata": {},
     "output_type": "execute_result"
    }
   ],
   "source": [
    "num = [2,4,6,8,9]\n",
    "for item in num:\n",
    "    sq.append(item **2)\n",
    "sq"
   ]
  },
  {
   "cell_type": "code",
   "execution_count": 8,
   "id": "f73fd3bb",
   "metadata": {},
   "outputs": [
    {
     "data": {
      "text/plain": [
       "[4, 16, 36, 64, 81]"
      ]
     },
     "execution_count": 8,
     "metadata": {},
     "output_type": "execute_result"
    }
   ],
   "source": [
    "[item **2 for item in num]"
   ]
  },
  {
   "cell_type": "code",
   "execution_count": 10,
   "id": "4eaa72fc",
   "metadata": {},
   "outputs": [],
   "source": [
    "num = [-1,4,5,53]\n"
   ]
  },
  {
   "cell_type": "code",
   "execution_count": 12,
   "id": "5d6a0ccd",
   "metadata": {},
   "outputs": [
    {
     "data": {
      "text/plain": [
       "[-1, 64, 125, 148877]"
      ]
     },
     "execution_count": 12,
     "metadata": {},
     "output_type": "execute_result"
    }
   ],
   "source": [
    "\n",
    "cube = [item **3 for item in num]\n",
    "    "
   ]
  },
  {
   "cell_type": "code",
   "execution_count": 16,
   "id": "91ddfcd9",
   "metadata": {},
   "outputs": [
    {
     "data": {
      "text/plain": [
       "['apple', 'banana', 'mango']"
      ]
     },
     "execution_count": 16,
     "metadata": {},
     "output_type": "execute_result"
    }
   ],
   "source": [
    "fruit = ['APPLE','BANANA','MANGO']\n",
    "[item.lower() for item in fruit]"
   ]
  },
  {
   "cell_type": "code",
   "execution_count": 18,
   "id": "c02348db",
   "metadata": {},
   "outputs": [
    {
     "name": "stdout",
     "output_type": "stream",
     "text": [
      "apple\n",
      "banana\n",
      "mango\n"
     ]
    }
   ],
   "source": [
    "for item in fruit:\n",
    "    print(item.lower())"
   ]
  },
  {
   "cell_type": "markdown",
   "id": "6f440312",
   "metadata": {},
   "source": [
    "# List comprehension and if else condition "
   ]
  },
  {
   "cell_type": "code",
   "execution_count": 19,
   "id": "f196e086",
   "metadata": {},
   "outputs": [
    {
     "data": {
      "text/plain": [
       "[-5, -4, -3, -2, -1, 0, 1, 2, 3, 4]"
      ]
     },
     "execution_count": 19,
     "metadata": {},
     "output_type": "execute_result"
    }
   ],
   "source": [
    "[item for item in range(-5, 5 )]"
   ]
  },
  {
   "cell_type": "code",
   "execution_count": 23,
   "id": "2e18ac82",
   "metadata": {},
   "outputs": [
    {
     "data": {
      "text/plain": [
       "[0, 1, 2, 3, 4]"
      ]
     },
     "execution_count": 23,
     "metadata": {},
     "output_type": "execute_result"
    }
   ],
   "source": [
    "[item for item in range(-5, 5 ) if item >=0]"
   ]
  },
  {
   "cell_type": "markdown",
   "id": "e7ce84b1",
   "metadata": {},
   "source": [
    "# extract even number only using list comprehension"
   ]
  },
  {
   "cell_type": "code",
   "execution_count": 21,
   "id": "d587024e",
   "metadata": {},
   "outputs": [],
   "source": [
    "data = [1,2,3,4,5,6,7,8,9] "
   ]
  },
  {
   "cell_type": "code",
   "execution_count": 24,
   "id": "64819d8d",
   "metadata": {},
   "outputs": [
    {
     "data": {
      "text/plain": [
       "[2, 4, 6, 8]"
      ]
     },
     "execution_count": 24,
     "metadata": {},
     "output_type": "execute_result"
    }
   ],
   "source": [
    "[item for item in data if item %2==0]"
   ]
  },
  {
   "cell_type": "code",
   "execution_count": 25,
   "id": "04797718",
   "metadata": {},
   "outputs": [
    {
     "data": {
      "text/plain": [
       "[1, 3, 5, 7, 9]"
      ]
     },
     "execution_count": 25,
     "metadata": {},
     "output_type": "execute_result"
    }
   ],
   "source": [
    "[item for item in data if item %2!=0]"
   ]
  },
  {
   "cell_type": "markdown",
   "id": "9529167f",
   "metadata": {},
   "source": [
    "# List comprehension using if and else"
   ]
  },
  {
   "cell_type": "code",
   "execution_count": 26,
   "id": "f807c9be",
   "metadata": {},
   "outputs": [
    {
     "data": {
      "text/plain": [
       "[-5, -4, -3, -2, -1, 0, 1, 2, 3, 4]"
      ]
     },
     "execution_count": 26,
     "metadata": {},
     "output_type": "execute_result"
    }
   ],
   "source": [
    "[item for item in range(-5,5)]"
   ]
  },
  {
   "cell_type": "code",
   "execution_count": 27,
   "id": "17936843",
   "metadata": {},
   "outputs": [
    {
     "data": {
      "text/plain": [
       "[0, 0, 0, 0, 0, 0, 1, 2, 3, 4]"
      ]
     },
     "execution_count": 27,
     "metadata": {},
     "output_type": "execute_result"
    }
   ],
   "source": [
    "[0 if item <=0 else item for item in range(-5,5)] # relu activation function "
   ]
  },
  {
   "cell_type": "code",
   "execution_count": null,
   "id": "add3124a",
   "metadata": {},
   "outputs": [],
   "source": [
    "[expression for item in iterables]\n",
    "[expression for item in iterables if True]\n",
    "[expression if True else expression  for item in iterables]  # syntax of list comprehension "
   ]
  }
 ],
 "metadata": {
  "kernelspec": {
   "display_name": "Python 3 (ipykernel)",
   "language": "python",
   "name": "python3"
  },
  "language_info": {
   "codemirror_mode": {
    "name": "ipython",
    "version": 3
   },
   "file_extension": ".py",
   "mimetype": "text/x-python",
   "name": "python",
   "nbconvert_exporter": "python",
   "pygments_lexer": "ipython3",
   "version": "3.8.10"
  }
 },
 "nbformat": 4,
 "nbformat_minor": 5
}
