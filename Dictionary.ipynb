{
 "cells": [
  {
   "cell_type": "markdown",
   "id": "aa234160",
   "metadata": {},
   "source": [
    "Syntax:\n",
    "\n",
    "```python\n",
    "{\n",
    "    key: value\n",
    "}\n",
    "\n",
    "```"
   ]
  },
  {
   "cell_type": "markdown",
   "id": "65a5fd8a",
   "metadata": {},
   "source": [
    "```python\n",
    "\n",
    "for item in range(5):\n",
    "    print(item)\n",
    "```"
   ]
  },
  {
   "cell_type": "code",
   "execution_count": 3,
   "id": "d526e547",
   "metadata": {},
   "outputs": [],
   "source": [
    "d = {}"
   ]
  },
  {
   "cell_type": "code",
   "execution_count": 4,
   "id": "eda921af",
   "metadata": {},
   "outputs": [
    {
     "data": {
      "text/plain": [
       "dict"
      ]
     },
     "execution_count": 4,
     "metadata": {},
     "output_type": "execute_result"
    }
   ],
   "source": [
    "type(d)"
   ]
  },
  {
   "cell_type": "code",
   "execution_count": 5,
   "id": "cda8e841",
   "metadata": {},
   "outputs": [],
   "source": [
    "d = dict() # empty dictionary"
   ]
  },
  {
   "cell_type": "code",
   "execution_count": 6,
   "id": "0fab75dc",
   "metadata": {},
   "outputs": [
    {
     "data": {
      "text/plain": [
       "dict"
      ]
     },
     "execution_count": 6,
     "metadata": {},
     "output_type": "execute_result"
    }
   ],
   "source": [
    "type(d)"
   ]
  },
  {
   "cell_type": "code",
   "execution_count": 7,
   "id": "7a63c956",
   "metadata": {},
   "outputs": [
    {
     "data": {
      "text/plain": [
       "{1.2: ' one point two'}"
      ]
     },
     "execution_count": 7,
     "metadata": {},
     "output_type": "execute_result"
    }
   ],
   "source": [
    "{\n",
    "    1.2:\" one point two\"\n",
    "}"
   ]
  },
  {
   "cell_type": "code",
   "execution_count": 8,
   "id": "b84c0279",
   "metadata": {},
   "outputs": [
    {
     "ename": "TypeError",
     "evalue": "unhashable type: 'list'",
     "output_type": "error",
     "traceback": [
      "\u001b[1;31m---------------------------------------------------------------------------\u001b[0m",
      "\u001b[1;31mTypeError\u001b[0m                                 Traceback (most recent call last)",
      "Cell \u001b[1;32mIn[8], line 1\u001b[0m\n\u001b[1;32m----> 1\u001b[0m {\n\u001b[0;32m      2\u001b[0m     [\u001b[38;5;241m1\u001b[39m,\u001b[38;5;241m2\u001b[39m]: \u001b[38;5;241m40\u001b[39m\n\u001b[0;32m      3\u001b[0m }\n",
      "\u001b[1;31mTypeError\u001b[0m: unhashable type: 'list'"
     ]
    }
   ],
   "source": [
    "# list, tuple and set are not allowed \n",
    "\n",
    "{\n",
    "    [1,2]: 40\n",
    "}"
   ]
  },
  {
   "cell_type": "code",
   "execution_count": 17,
   "id": "11801f60",
   "metadata": {},
   "outputs": [
    {
     "data": {
      "text/plain": [
       "{'name': 'shraddha', 'age': '25'}"
      ]
     },
     "execution_count": 17,
     "metadata": {},
     "output_type": "execute_result"
    }
   ],
   "source": [
    "{\n",
    "    'name': 'shraddha',\n",
    "    'age' :'25'\n",
    "}"
   ]
  },
  {
   "cell_type": "markdown",
   "id": "998a2e7e",
   "metadata": {},
   "source": [
    "# assesing dictionary items and add key value pair in dictionary"
   ]
  },
  {
   "cell_type": "code",
   "execution_count": 13,
   "id": "9870b9fd",
   "metadata": {},
   "outputs": [],
   "source": [
    "info = dict()"
   ]
  },
  {
   "cell_type": "code",
   "execution_count": 14,
   "id": "733b7ed4",
   "metadata": {},
   "outputs": [
    {
     "data": {
      "text/plain": [
       "{}"
      ]
     },
     "execution_count": 14,
     "metadata": {},
     "output_type": "execute_result"
    }
   ],
   "source": [
    "info"
   ]
  },
  {
   "cell_type": "code",
   "execution_count": 15,
   "id": "f246182f",
   "metadata": {},
   "outputs": [],
   "source": [
    "info['name']='Shraddha Joshi' # add key value pair in dictionary"
   ]
  },
  {
   "cell_type": "code",
   "execution_count": 16,
   "id": "67826d09",
   "metadata": {},
   "outputs": [
    {
     "data": {
      "text/plain": [
       "{'name': 'Shraddha Joshi'}"
      ]
     },
     "execution_count": 16,
     "metadata": {},
     "output_type": "execute_result"
    }
   ],
   "source": [
    "info"
   ]
  },
  {
   "cell_type": "code",
   "execution_count": 18,
   "id": "7a4159e8",
   "metadata": {},
   "outputs": [],
   "source": [
    "info.update({'teaches':['Python','Data Science','Html']})"
   ]
  },
  {
   "cell_type": "code",
   "execution_count": 19,
   "id": "5fa768b7",
   "metadata": {},
   "outputs": [
    {
     "data": {
      "text/plain": [
       "{'name': 'Shraddha Joshi', 'teaches': ['Python', 'Data Science', 'Html']}"
      ]
     },
     "execution_count": 19,
     "metadata": {},
     "output_type": "execute_result"
    }
   ],
   "source": [
    "info"
   ]
  },
  {
   "cell_type": "code",
   "execution_count": 20,
   "id": "d8d75455",
   "metadata": {},
   "outputs": [
    {
     "data": {
      "text/plain": [
       "['Python', 'Data Science', 'Html']"
      ]
     },
     "execution_count": 20,
     "metadata": {},
     "output_type": "execute_result"
    }
   ],
   "source": [
    "info['teaches']"
   ]
  },
  {
   "cell_type": "code",
   "execution_count": 23,
   "id": "722b2f5b",
   "metadata": {},
   "outputs": [],
   "source": [
    "info.update({'name': \"SHRADDHA JOSHI\"})"
   ]
  },
  {
   "cell_type": "code",
   "execution_count": 24,
   "id": "65b1a49c",
   "metadata": {},
   "outputs": [
    {
     "data": {
      "text/plain": [
       "{'name': 'SHRADDHA JOSHI', 'teaches': ['Python', 'Data Science', 'Html']}"
      ]
     },
     "execution_count": 24,
     "metadata": {},
     "output_type": "execute_result"
    }
   ],
   "source": [
    "info"
   ]
  },
  {
   "cell_type": "code",
   "execution_count": 25,
   "id": "6d17a0d4",
   "metadata": {},
   "outputs": [
    {
     "data": {
      "text/plain": [
       "['Python', 'Data Science', 'Html']"
      ]
     },
     "execution_count": 25,
     "metadata": {},
     "output_type": "execute_result"
    }
   ],
   "source": [
    "info['teaches'] # access value of key teaches"
   ]
  },
  {
   "cell_type": "code",
   "execution_count": 26,
   "id": "2b33bc10",
   "metadata": {},
   "outputs": [
    {
     "data": {
      "text/plain": [
       "['Python', 'Data Science', 'Html']"
      ]
     },
     "execution_count": 26,
     "metadata": {},
     "output_type": "execute_result"
    }
   ],
   "source": [
    "info.get('teaches') #access value"
   ]
  },
  {
   "cell_type": "code",
   "execution_count": 41,
   "id": "9ecafba5",
   "metadata": {},
   "outputs": [],
   "source": [
    "broadway= {\n",
    "    'Location': 'Tinkune'\n",
    "}"
   ]
  },
  {
   "cell_type": "code",
   "execution_count": 42,
   "id": "f6e934c7",
   "metadata": {},
   "outputs": [],
   "source": [
    "broadway.update({'class': 'Python'})"
   ]
  },
  {
   "cell_type": "code",
   "execution_count": 45,
   "id": "82d66c7b",
   "metadata": {},
   "outputs": [
    {
     "data": {
      "text/plain": [
       "'Tinkune'"
      ]
     },
     "execution_count": 45,
     "metadata": {},
     "output_type": "execute_result"
    }
   ],
   "source": [
    "broadway.get('Location')"
   ]
  },
  {
   "cell_type": "code",
   "execution_count": 46,
   "id": "f7d71424",
   "metadata": {},
   "outputs": [
    {
     "data": {
      "text/plain": [
       "{'Location': 'Tinkune', 'class': 'Python'}"
      ]
     },
     "execution_count": 46,
     "metadata": {},
     "output_type": "execute_result"
    }
   ],
   "source": [
    "broadway"
   ]
  },
  {
   "cell_type": "markdown",
   "id": "87003270",
   "metadata": {},
   "source": [
    ".keys() and .values() method in dictionary"
   ]
  },
  {
   "cell_type": "code",
   "execution_count": 37,
   "id": "9a787d47",
   "metadata": {},
   "outputs": [],
   "source": [
    "country={\n",
    "    'Nepal':'Kathmandu',\n",
    "    'India':'New DElhi',\n",
    "    'Bangladesh':'Dhaka',\n",
    "    'Bhutan': 'Thimpu'\n",
    "}"
   ]
  },
  {
   "cell_type": "code",
   "execution_count": 38,
   "id": "df32f77e",
   "metadata": {},
   "outputs": [
    {
     "data": {
      "text/plain": [
       "{'Nepal': 'Kathmandu',\n",
       " 'India': 'New DElhi',\n",
       " 'Bangladesh': 'Dhaka',\n",
       " 'Bhutan': 'Thimpu'}"
      ]
     },
     "execution_count": 38,
     "metadata": {},
     "output_type": "execute_result"
    }
   ],
   "source": [
    "country"
   ]
  },
  {
   "cell_type": "code",
   "execution_count": 39,
   "id": "611d1ff2",
   "metadata": {},
   "outputs": [
    {
     "data": {
      "text/plain": [
       "dict_keys(['Nepal', 'India', 'Bangladesh', 'Bhutan'])"
      ]
     },
     "execution_count": 39,
     "metadata": {},
     "output_type": "execute_result"
    }
   ],
   "source": [
    "country.keys()"
   ]
  },
  {
   "cell_type": "code",
   "execution_count": 40,
   "id": "52125ee0",
   "metadata": {},
   "outputs": [
    {
     "data": {
      "text/plain": [
       "dict_values(['Kathmandu', 'New DElhi', 'Dhaka', 'Thimpu'])"
      ]
     },
     "execution_count": 40,
     "metadata": {},
     "output_type": "execute_result"
    }
   ],
   "source": [
    "country.values()"
   ]
  },
  {
   "cell_type": "code",
   "execution_count": 47,
   "id": "42451aff",
   "metadata": {},
   "outputs": [
    {
     "data": {
      "text/plain": [
       "dict_items([('Nepal', 'Kathmandu'), ('India', 'New DElhi'), ('Bangladesh', 'Dhaka'), ('Bhutan', 'Thimpu')])"
      ]
     },
     "execution_count": 47,
     "metadata": {},
     "output_type": "execute_result"
    }
   ],
   "source": [
    "country.items()"
   ]
  },
  {
   "cell_type": "code",
   "execution_count": 48,
   "id": "8b29e1cf",
   "metadata": {},
   "outputs": [
    {
     "data": {
      "text/plain": [
       "[('Nepal', 'Kathmandu'),\n",
       " ('India', 'New DElhi'),\n",
       " ('Bangladesh', 'Dhaka'),\n",
       " ('Bhutan', 'Thimpu')]"
      ]
     },
     "execution_count": 48,
     "metadata": {},
     "output_type": "execute_result"
    }
   ],
   "source": [
    "list(country.items())"
   ]
  },
  {
   "cell_type": "code",
   "execution_count": 50,
   "id": "38092ec5",
   "metadata": {},
   "outputs": [
    {
     "data": {
      "text/plain": [
       "('Nepal', 'Kathmandu')"
      ]
     },
     "execution_count": 50,
     "metadata": {},
     "output_type": "execute_result"
    }
   ],
   "source": [
    "list(country.items())[0]"
   ]
  },
  {
   "cell_type": "markdown",
   "id": "f61e5c31",
   "metadata": {},
   "source": [
    "# Looping in dictionary"
   ]
  },
  {
   "cell_type": "code",
   "execution_count": 51,
   "id": "599bdd09",
   "metadata": {},
   "outputs": [],
   "source": [
    "country={\n",
    "    'Nepal':'Kathmandu',\n",
    "    'India':'New DElhi',\n",
    "    'Bangladesh':'Dhaka',\n",
    "    'Bhutan': 'Thimpu'\n",
    "}"
   ]
  },
  {
   "cell_type": "code",
   "execution_count": 52,
   "id": "8d977de3",
   "metadata": {},
   "outputs": [
    {
     "name": "stdout",
     "output_type": "stream",
     "text": [
      "Nepal\n",
      "India\n",
      "Bangladesh\n",
      "Bhutan\n"
     ]
    }
   ],
   "source": [
    "for item in country:\n",
    "    print(item)"
   ]
  },
  {
   "cell_type": "code",
   "execution_count": 54,
   "id": "d1a8d1c7",
   "metadata": {},
   "outputs": [
    {
     "name": "stdout",
     "output_type": "stream",
     "text": [
      "Country = Nepal and capital is Kathmandu\n",
      "Country = India and capital is New DElhi\n",
      "Country = Bangladesh and capital is Dhaka\n",
      "Country = Bhutan and capital is Thimpu\n"
     ]
    }
   ],
   "source": [
    "for cou,cap in country.items():\n",
    "    print(f'Country = {cou} and capital is {cap}')"
   ]
  },
  {
   "cell_type": "code",
   "execution_count": 55,
   "id": "a2531dea",
   "metadata": {},
   "outputs": [
    {
     "data": {
      "text/plain": [
       "(1, 5)"
      ]
     },
     "execution_count": 55,
     "metadata": {},
     "output_type": "execute_result"
    }
   ],
   "source": [
    "(1,5)\n"
   ]
  },
  {
   "cell_type": "code",
   "execution_count": 56,
   "id": "7d7193a3",
   "metadata": {},
   "outputs": [],
   "source": [
    "a, b = (1, 5)"
   ]
  },
  {
   "cell_type": "code",
   "execution_count": 58,
   "id": "dd66c12b",
   "metadata": {},
   "outputs": [],
   "source": [
    "car = {'name':'tesla','color':'white'}"
   ]
  },
  {
   "cell_type": "code",
   "execution_count": 61,
   "id": "f4c9f09b",
   "metadata": {},
   "outputs": [
    {
     "name": "stdout",
     "output_type": "stream",
     "text": [
      "name = tesla\n",
      "color = white\n"
     ]
    }
   ],
   "source": [
    "for a, b in car.items():\n",
    "    print(f'{a} = {b}')"
   ]
  },
  {
   "cell_type": "markdown",
   "id": "1c69604f",
   "metadata": {},
   "source": [
    "# .pop()"
   ]
  },
  {
   "cell_type": "code",
   "execution_count": 62,
   "id": "e4792011",
   "metadata": {},
   "outputs": [],
   "source": [
    "country={\n",
    "    'Nepal':'Kathmandu',\n",
    "    'India':'New DElhi',\n",
    "    'Bangladesh':'Dhaka',\n",
    "    'Bhutan': 'Thimpu'\n",
    "}"
   ]
  },
  {
   "cell_type": "code",
   "execution_count": 63,
   "id": "a9478de9",
   "metadata": {},
   "outputs": [
    {
     "data": {
      "text/plain": [
       "'Thimpu'"
      ]
     },
     "execution_count": 63,
     "metadata": {},
     "output_type": "execute_result"
    }
   ],
   "source": [
    "country.pop('Bhutan')"
   ]
  },
  {
   "cell_type": "code",
   "execution_count": 64,
   "id": "431390bd",
   "metadata": {},
   "outputs": [
    {
     "data": {
      "text/plain": [
       "{'Nepal': 'Kathmandu', 'India': 'New DElhi', 'Bangladesh': 'Dhaka'}"
      ]
     },
     "execution_count": 64,
     "metadata": {},
     "output_type": "execute_result"
    }
   ],
   "source": [
    "country"
   ]
  },
  {
   "cell_type": "markdown",
   "id": "1931f138",
   "metadata": {},
   "source": [
    "# dictionary comprehension"
   ]
  },
  {
   "cell_type": "code",
   "execution_count": 65,
   "id": "c80311dc",
   "metadata": {},
   "outputs": [],
   "source": [
    "data = {'one':'1','two':'2','three':'3'}"
   ]
  },
  {
   "cell_type": "code",
   "execution_count": 66,
   "id": "fac0bdf6",
   "metadata": {},
   "outputs": [
    {
     "data": {
      "text/plain": [
       "{'one': '1', 'two': '2', 'three': '3'}"
      ]
     },
     "execution_count": 66,
     "metadata": {},
     "output_type": "execute_result"
    }
   ],
   "source": [
    "data"
   ]
  },
  {
   "cell_type": "code",
   "execution_count": 67,
   "id": "b7f54344",
   "metadata": {},
   "outputs": [
    {
     "data": {
      "text/plain": [
       "{'1': 'one', '2': 'two', '3': 'three'}"
      ]
     },
     "execution_count": 67,
     "metadata": {},
     "output_type": "execute_result"
    }
   ],
   "source": [
    "{val : key for key,val in data.items()}"
   ]
  },
  {
   "cell_type": "markdown",
   "id": "9ed862bf",
   "metadata": {},
   "source": [
    "# nested dictionary"
   ]
  },
  {
   "cell_type": "code",
   "execution_count": 71,
   "id": "96a87c4d",
   "metadata": {},
   "outputs": [],
   "source": [
    "child={\n",
    "    'child1':{'name':'Hari','age':45,'gender':'M'},\n",
    "    'child2':{'name':'Ram','student':True,'age':'18'}\n",
    "}"
   ]
  },
  {
   "cell_type": "code",
   "execution_count": 72,
   "id": "fb44a1ea",
   "metadata": {},
   "outputs": [
    {
     "data": {
      "text/plain": [
       "{'child1': {'name': 'Hari', 'age': 45, 'gender': 'M'},\n",
       " 'child2': {'name': 'Ram', 'student': True, 'age': '18'}}"
      ]
     },
     "execution_count": 72,
     "metadata": {},
     "output_type": "execute_result"
    }
   ],
   "source": [
    "child"
   ]
  },
  {
   "cell_type": "code",
   "execution_count": 74,
   "id": "d6bd9db0",
   "metadata": {},
   "outputs": [
    {
     "data": {
      "text/plain": [
       "{'name': 'Ram', 'student': True, 'age': '18'}"
      ]
     },
     "execution_count": 74,
     "metadata": {},
     "output_type": "execute_result"
    }
   ],
   "source": [
    "child['child2']"
   ]
  },
  {
   "cell_type": "code",
   "execution_count": 75,
   "id": "1c6766c6",
   "metadata": {},
   "outputs": [
    {
     "data": {
      "text/plain": [
       "'Ram'"
      ]
     },
     "execution_count": 75,
     "metadata": {},
     "output_type": "execute_result"
    }
   ],
   "source": [
    "child['child2']['name']"
   ]
  },
  {
   "cell_type": "code",
   "execution_count": 76,
   "id": "6ff1ae4d",
   "metadata": {},
   "outputs": [
    {
     "data": {
      "text/plain": [
       "'18'"
      ]
     },
     "execution_count": 76,
     "metadata": {},
     "output_type": "execute_result"
    }
   ],
   "source": [
    "child['child2']['age']"
   ]
  },
  {
   "cell_type": "code",
   "execution_count": 77,
   "id": "033fba81",
   "metadata": {},
   "outputs": [
    {
     "data": {
      "text/plain": [
       "True"
      ]
     },
     "execution_count": 77,
     "metadata": {},
     "output_type": "execute_result"
    }
   ],
   "source": [
    "child['child2']['student']"
   ]
  },
  {
   "cell_type": "code",
   "execution_count": 78,
   "id": "d24c9ea0",
   "metadata": {},
   "outputs": [
    {
     "data": {
      "text/plain": [
       "True"
      ]
     },
     "execution_count": 78,
     "metadata": {},
     "output_type": "execute_result"
    }
   ],
   "source": [
    "child.get('child2').get('student')"
   ]
  },
  {
   "cell_type": "code",
   "execution_count": null,
   "id": "c3113f80",
   "metadata": {},
   "outputs": [],
   "source": []
  }
 ],
 "metadata": {
  "kernelspec": {
   "display_name": "Python 3 (ipykernel)",
   "language": "python",
   "name": "python3"
  },
  "language_info": {
   "codemirror_mode": {
    "name": "ipython",
    "version": 3
   },
   "file_extension": ".py",
   "mimetype": "text/x-python",
   "name": "python",
   "nbconvert_exporter": "python",
   "pygments_lexer": "ipython3",
   "version": "3.8.10"
  }
 },
 "nbformat": 4,
 "nbformat_minor": 5
}
