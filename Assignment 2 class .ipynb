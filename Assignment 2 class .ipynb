{
 "cells": [
  {
   "cell_type": "code",
   "execution_count": 4,
   "id": "2936aad5",
   "metadata": {},
   "outputs": [
    {
     "name": "stdout",
     "output_type": "stream",
     "text": [
      "Enter radius(r)= 5\n",
      " The volume of sphere is 523.33\n"
     ]
    }
   ],
   "source": [
    "r = float(input(\"Enter radius(r)= \"))\n",
    "PI = 3.14\n",
    "volume = 4/3 * PI * r ** 3\n",
    "print(f\" The volume of sphere is {round(volume, 2)}\")\n"
   ]
  },
  {
   "cell_type": "markdown",
   "id": "37656d39",
   "metadata": {},
   "source": [
    "#Write a program to check if the given input is 10 or not. if it is 10 print the number"
   ]
  },
  {
   "cell_type": "code",
   "execution_count": 5,
   "id": "2db99fd0",
   "metadata": {},
   "outputs": [
    {
     "name": "stdout",
     "output_type": "stream",
     "text": [
      "Enter a number:10\n",
      "The number is 10\n"
     ]
    }
   ],
   "source": [
    "num = int(input(\"Enter a number:\"))\n",
    "if num == 10:\n",
    "    print(\"The number is 10\")\n",
    "else:\n",
    "    print(\"The number is not 10\")"
   ]
  },
  {
   "cell_type": "code",
   "execution_count": 3,
   "id": "0f0f501a",
   "metadata": {},
   "outputs": [
    {
     "name": "stdout",
     "output_type": "stream",
     "text": [
      "Enter your age16\n",
      "Congratulation you can vote\n"
     ]
    }
   ],
   "source": [
    "age = int(input(\"Enter your age\"))\n",
    "if age >= 15:\n",
    "    print(\"Congratulation you can vote\")\n",
    "else:\n",
    "    print(\"Sorry you cant\")"
   ]
  },
  {
   "cell_type": "code",
   "execution_count": null,
   "id": "e367d76a",
   "metadata": {},
   "outputs": [],
   "source": []
  }
 ],
 "metadata": {
  "kernelspec": {
   "display_name": "Python 3 (ipykernel)",
   "language": "python",
   "name": "python3"
  },
  "language_info": {
   "codemirror_mode": {
    "name": "ipython",
    "version": 3
   },
   "file_extension": ".py",
   "mimetype": "text/x-python",
   "name": "python",
   "nbconvert_exporter": "python",
   "pygments_lexer": "ipython3",
   "version": "3.8.10"
  }
 },
 "nbformat": 4,
 "nbformat_minor": 5
}
