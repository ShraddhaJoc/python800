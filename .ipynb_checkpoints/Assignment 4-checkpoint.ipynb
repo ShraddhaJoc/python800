{
 "cells": [
  {
   "cell_type": "markdown",
   "id": "afe9020c",
   "metadata": {},
   "source": [
    "# WAP to count vowel and consonant on the given strings\n"
   ]
  },
  {
   "cell_type": "code",
   "execution_count": null,
   "id": "2e9cb744",
   "metadata": {},
   "outputs": [],
   "source": [
    "txt = input(\"Enter any text to count vowel or consonant :\")\n",
    "\n",
    "vowel = 0\n",
    "\n",
    "consonant = 0\n",
    "\n",
    "for index in range(len(txt)):\n",
    "    letter = txt [index]\n",
    "    if letter ==\"a\" or letter ==\"e\" or letter ==\"i\" or letter ==\"o\" or letter ==\"u\" :\n",
    "        vowel = vowel + 1\n",
    "    elif letter ==\" \":\n",
    "        continue \n",
    "    else :\n",
    "        consonant = consonant + 1\n",
    "    \n",
    "    print(f\" There are {})\n",
    "\n"
   ]
  },
  {
   "cell_type": "code",
   "execution_count": null,
   "id": "d86fcc85",
   "metadata": {},
   "outputs": [],
   "source": [
    "txt = input(\"Enter any text to count vowel or consonant :\")\n",
    "\n",
    "vowel = 0\n",
    "\n",
    "consonant = 0\n",
    "\n",
    "for index in range(len(txt)):\n",
    "    letter = txt [index]\n",
    "    if letter ==\"a\" or letter ==\"e\" or letter ==\"i\" or letter ==\"o\" or letter ==\"u\" :\n",
    "        vowel = vowel + 1\n",
    "    elif letter ==\" \":\n",
    "        break \n",
    "    print( \"Break statement\")\n",
    "    else:\n",
    "    \n",
    "        consonant = consonant + 1\n",
    "    print(vowel)\n",
    "    print(consonant)"
   ]
  },
  {
   "cell_type": "code",
   "execution_count": 1,
   "id": "dc4ca44d",
   "metadata": {},
   "outputs": [],
   "source": [
    " for index in range(5): \n",
    "        if index == 3:\n",
    "            continue\n",
    "            \n",
    "            print(index)"
   ]
  },
  {
   "cell_type": "code",
   "execution_count": 4,
   "id": "58ae799c",
   "metadata": {},
   "outputs": [
    {
     "ename": "IndentationError",
     "evalue": "unexpected indent (3646051205.py, line 6)",
     "output_type": "error",
     "traceback": [
      "\u001b[1;36m  Cell \u001b[1;32mIn[4], line 6\u001b[1;36m\u001b[0m\n\u001b[1;33m    print(index)\u001b[0m\n\u001b[1;37m    ^\u001b[0m\n\u001b[1;31mIndentationError\u001b[0m\u001b[1;31m:\u001b[0m unexpected indent\n"
     ]
    }
   ],
   "source": [
    "for index in range(5): \n",
    "        if index == 3:\n",
    "            \n",
    "            break\n",
    "            \n",
    "             print(index)\n",
    "             print(\"hi\")\n"
   ]
  },
  {
   "cell_type": "code",
   "execution_count": null,
   "id": "d0dc1839",
   "metadata": {},
   "outputs": [],
   "source": []
  },
  {
   "cell_type": "code",
   "execution_count": null,
   "id": "c0db416a",
   "metadata": {},
   "outputs": [],
   "source": []
  }
 ],
 "metadata": {
  "kernelspec": {
   "display_name": "Python 3 (ipykernel)",
   "language": "python",
   "name": "python3"
  },
  "language_info": {
   "codemirror_mode": {
    "name": "ipython",
    "version": 3
   },
   "file_extension": ".py",
   "mimetype": "text/x-python",
   "name": "python",
   "nbconvert_exporter": "python",
   "pygments_lexer": "ipython3",
   "version": "3.8.10"
  }
 },
 "nbformat": 4,
 "nbformat_minor": 5
}
