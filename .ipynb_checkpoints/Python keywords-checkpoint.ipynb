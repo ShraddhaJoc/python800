{
 "cells": [
  {
   "cell_type": "markdown",
   "id": "682469a4",
   "metadata": {},
   "source": [
    "# Keywords in python \n",
    "* Reserverd word in python \n",
    "* used to write syntax\n",
    "* you cannot use keywords as variable/ object name \n",
    "* case sensative: uppercase and lower case name are different \n",
    "* example of keywords: global, True, False, for, if , etc"
   ]
  },
  {
   "cell_type": "code",
   "execution_count": 1,
   "id": "5af435c4",
   "metadata": {},
   "outputs": [
    {
     "ename": "SyntaxError",
     "evalue": "invalid syntax (1404077010.py, line 1)",
     "output_type": "error",
     "traceback": [
      "\u001b[1;36m  Cell \u001b[1;32mIn[1], line 1\u001b[1;36m\u001b[0m\n\u001b[1;33m    global = 5\u001b[0m\n\u001b[1;37m           ^\u001b[0m\n\u001b[1;31mSyntaxError\u001b[0m\u001b[1;31m:\u001b[0m invalid syntax\n"
     ]
    }
   ],
   "source": [
    "global = 5"
   ]
  },
  {
   "cell_type": "code",
   "execution_count": 2,
   "id": "4cf1da9b",
   "metadata": {},
   "outputs": [
    {
     "ename": "SyntaxError",
     "evalue": "cannot assign to False (1836284728.py, line 1)",
     "output_type": "error",
     "traceback": [
      "\u001b[1;36m  Cell \u001b[1;32mIn[2], line 1\u001b[1;36m\u001b[0m\n\u001b[1;33m    False =\"hi\"\u001b[0m\n\u001b[1;37m    ^\u001b[0m\n\u001b[1;31mSyntaxError\u001b[0m\u001b[1;31m:\u001b[0m cannot assign to False\n"
     ]
    }
   ],
   "source": [
    "False =\"hi\""
   ]
  },
  {
   "cell_type": "markdown",
   "id": "d313472e",
   "metadata": {},
   "source": [
    "# Python are case sensitive"
   ]
  },
  {
   "cell_type": "code",
   "execution_count": 3,
   "id": "fa52bbee",
   "metadata": {},
   "outputs": [
    {
     "ename": "SyntaxError",
     "evalue": "cannot assign to False (1836284728.py, line 1)",
     "output_type": "error",
     "traceback": [
      "\u001b[1;36m  Cell \u001b[1;32mIn[3], line 1\u001b[1;36m\u001b[0m\n\u001b[1;33m    False =\"hi\"\u001b[0m\n\u001b[1;37m    ^\u001b[0m\n\u001b[1;31mSyntaxError\u001b[0m\u001b[1;31m:\u001b[0m cannot assign to False\n"
     ]
    }
   ],
   "source": [
    "False =\"hi\" # upper case false is a keyword "
   ]
  },
  {
   "cell_type": "code",
   "execution_count": 5,
   "id": "3daa18fe",
   "metadata": {},
   "outputs": [],
   "source": [
    "false = \"hi\" # lower case false is not a keyword"
   ]
  },
  {
   "cell_type": "markdown",
   "id": "c903715b",
   "metadata": {},
   "source": [
    "We cannot use special symbol like !,@, #, $, %, - in our identifier"
   ]
  },
  {
   "cell_type": "code",
   "execution_count": 6,
   "id": "a0d1be9a",
   "metadata": {},
   "outputs": [
    {
     "ename": "SyntaxError",
     "evalue": "invalid syntax (2138378005.py, line 1)",
     "output_type": "error",
     "traceback": [
      "\u001b[1;36m  Cell \u001b[1;32mIn[6], line 1\u001b[1;36m\u001b[0m\n\u001b[1;33m    @name =\"shraddha\"\u001b[0m\n\u001b[1;37m          ^\u001b[0m\n\u001b[1;31mSyntaxError\u001b[0m\u001b[1;31m:\u001b[0m invalid syntax\n"
     ]
    }
   ],
   "source": [
    "@name = \"shraddha\""
   ]
  },
  {
   "cell_type": "code",
   "execution_count": 7,
   "id": "13a9a632",
   "metadata": {},
   "outputs": [
    {
     "ename": "SyntaxError",
     "evalue": "invalid syntax (3372806459.py, line 1)",
     "output_type": "error",
     "traceback": [
      "\u001b[1;36m  Cell \u001b[1;32mIn[7], line 1\u001b[1;36m\u001b[0m\n\u001b[1;33m    $name=\"shraddha\"\u001b[0m\n\u001b[1;37m    ^\u001b[0m\n\u001b[1;31mSyntaxError\u001b[0m\u001b[1;31m:\u001b[0m invalid syntax\n"
     ]
    }
   ],
   "source": [
    "$name = \"shraddha\""
   ]
  },
  {
   "cell_type": "code",
   "execution_count": 8,
   "id": "ba49a073",
   "metadata": {},
   "outputs": [
    {
     "ename": "SyntaxError",
     "evalue": "cannot assign to operator (2955113262.py, line 1)",
     "output_type": "error",
     "traceback": [
      "\u001b[1;36m  Cell \u001b[1;32mIn[8], line 1\u001b[1;36m\u001b[0m\n\u001b[1;33m    first-name = \"shraddha\"\u001b[0m\n\u001b[1;37m    ^\u001b[0m\n\u001b[1;31mSyntaxError\u001b[0m\u001b[1;31m:\u001b[0m cannot assign to operator\n"
     ]
    }
   ],
   "source": [
    "first-name = \"shraddha\""
   ]
  },
  {
   "cell_type": "code",
   "execution_count": 9,
   "id": "b1267147",
   "metadata": {},
   "outputs": [
    {
     "ename": "SyntaxError",
     "evalue": "invalid syntax (4214545786.py, line 1)",
     "output_type": "error",
     "traceback": [
      "\u001b[1;36m  Cell \u001b[1;32mIn[9], line 1\u001b[1;36m\u001b[0m\n\u001b[1;33m    first name =\"shraddha\"\u001b[0m\n\u001b[1;37m          ^\u001b[0m\n\u001b[1;31mSyntaxError\u001b[0m\u001b[1;31m:\u001b[0m invalid syntax\n"
     ]
    }
   ],
   "source": [
    "first name =\"shraddha\""
   ]
  },
  {
   "cell_type": "code",
   "execution_count": 10,
   "id": "b5317741",
   "metadata": {},
   "outputs": [],
   "source": [
    "first_name = \"shraddha\" # underscores are allowed"
   ]
  },
  {
   "cell_type": "code",
   "execution_count": 11,
   "id": "1adb9cfd",
   "metadata": {},
   "outputs": [
    {
     "ename": "SyntaxError",
     "evalue": "invalid syntax (940346820.py, line 1)",
     "output_type": "error",
     "traceback": [
      "\u001b[1;36m  Cell \u001b[1;32mIn[11], line 1\u001b[1;36m\u001b[0m\n\u001b[1;33m    9name = \"shraddha\" number agadi halna paudaina\u001b[0m\n\u001b[1;37m     ^\u001b[0m\n\u001b[1;31mSyntaxError\u001b[0m\u001b[1;31m:\u001b[0m invalid syntax\n"
     ]
    }
   ],
   "source": [
    "9name = \"shraddha\" number agadi halna paudaina"
   ]
  },
  {
   "cell_type": "code",
   "execution_count": 14,
   "id": "600ca42b",
   "metadata": {},
   "outputs": [],
   "source": [
    "name9 = \"shraddha\" # paxadi no halna paiyo "
   ]
  },
  {
   "cell_type": "code",
   "execution_count": 16,
   "id": "9524e77f",
   "metadata": {},
   "outputs": [],
   "source": [
    "FirstName = 'ram' #uppercase and lower case combination are allowed "
   ]
  },
  {
   "cell_type": "markdown",
   "id": "eacab435",
   "metadata": {},
   "source": [
    "# Python is case sensitive language"
   ]
  },
  {
   "cell_type": "code",
   "execution_count": 21,
   "id": "2b00e07a",
   "metadata": {},
   "outputs": [],
   "source": [
    "a = 5\n",
    "A = 11"
   ]
  },
  {
   "cell_type": "code",
   "execution_count": 24,
   "id": "1d6becaf",
   "metadata": {},
   "outputs": [],
   "source": [
    "a = 55\n",
    "A = 11"
   ]
  },
  {
   "cell_type": "code",
   "execution_count": 26,
   "id": "e518830e",
   "metadata": {},
   "outputs": [
    {
     "name": "stdout",
     "output_type": "stream",
     "text": [
      "The value of a is 55\n"
     ]
    }
   ],
   "source": [
    "print(f\"The value of a is {a}\")"
   ]
  },
  {
   "cell_type": "code",
   "execution_count": 19,
   "id": "1d7c1b30",
   "metadata": {},
   "outputs": [
    {
     "name": "stdout",
     "output_type": "stream",
     "text": [
      "The value of A is 11\n"
     ]
    }
   ],
   "source": [
    "print( \"The value of A is 11\")"
   ]
  },
  {
   "cell_type": "code",
   "execution_count": null,
   "id": "58e9bacf",
   "metadata": {},
   "outputs": [],
   "source": []
  }
 ],
 "metadata": {
  "kernelspec": {
   "display_name": "Python 3 (ipykernel)",
   "language": "python",
   "name": "python3"
  },
  "language_info": {
   "codemirror_mode": {
    "name": "ipython",
    "version": 3
   },
   "file_extension": ".py",
   "mimetype": "text/x-python",
   "name": "python",
   "nbconvert_exporter": "python",
   "pygments_lexer": "ipython3",
   "version": "3.8.10"
  }
 },
 "nbformat": 4,
 "nbformat_minor": 5
}
