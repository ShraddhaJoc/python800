{
 "cells": [
  {
   "cell_type": "code",
   "execution_count": null,
   "id": "da433059",
   "metadata": {},
   "outputs": [],
   "source": [
    "user_input = input(\"Enter your name:\")"
   ]
  },
  {
   "cell_type": "code",
   "execution_count": null,
   "id": "2f609575",
   "metadata": {},
   "outputs": [],
   "source": [
    "type(user_input)"
   ]
  },
  {
   "cell_type": "code",
   "execution_count": null,
   "id": "709b808e",
   "metadata": {},
   "outputs": [],
   "source": [
    "print(type(user_input)) # object of str class"
   ]
  },
  {
   "cell_type": "code",
   "execution_count": null,
   "id": "21c362a3",
   "metadata": {},
   "outputs": [],
   "source": [
    "txt1 = \"Hi my name is ram\"\n",
    "txt2 = \"Hi my name is ram\""
   ]
  },
  {
   "cell_type": "code",
   "execution_count": null,
   "id": "5131d063",
   "metadata": {},
   "outputs": [],
   "source": [
    "txt1 == txt2"
   ]
  },
  {
   "cell_type": "code",
   "execution_count": null,
   "id": "c58b59a1",
   "metadata": {},
   "outputs": [],
   "source": [
    "msg = 'I don't like it ' # we cannot use single quote bhitra single quote"
   ]
  },
  {
   "cell_type": "code",
   "execution_count": null,
   "id": "5774d7e5",
   "metadata": {},
   "outputs": [],
   "source": [
    "msg = \"I don't like it\""
   ]
  },
  {
   "cell_type": "code",
   "execution_count": null,
   "id": "b9a384f6",
   "metadata": {},
   "outputs": [],
   "source": [
    "print (msg)"
   ]
  },
  {
   "cell_type": "code",
   "execution_count": null,
   "id": "fe33412b",
   "metadata": {},
   "outputs": [],
   "source": [
    "msg = \"He said, I like this.\"\""
   ]
  },
  {
   "cell_type": "markdown",
   "id": "779f24e4",
   "metadata": {},
   "source": [
    "# Single line and Multi line String"
   ]
  },
  {
   "cell_type": "code",
   "execution_count": null,
   "id": "61b72424",
   "metadata": {},
   "outputs": [],
   "source": [
    "# you cannot use one quote or double quote to write multi line string\n",
    "\n",
    "txt = \"Hi my\n",
    "name \n",
    "is\n",
    "\""
   ]
  },
  {
   "cell_type": "code",
   "execution_count": null,
   "id": "9f71a806",
   "metadata": {},
   "outputs": [],
   "source": [
    "# use triple quotes to write multi line string"
   ]
  },
  {
   "cell_type": "code",
   "execution_count": null,
   "id": "cbce4f30",
   "metadata": {},
   "outputs": [],
   "source": [
    "msg = \"\"\" Hi my \n",
    "name is shraddha \n",
    "\"\"\""
   ]
  },
  {
   "cell_type": "code",
   "execution_count": null,
   "id": "9204246b",
   "metadata": {},
   "outputs": [],
   "source": [
    "msg"
   ]
  },
  {
   "cell_type": "code",
   "execution_count": null,
   "id": "60e3db8d",
   "metadata": {},
   "outputs": [],
   "source": [
    "greet ='''Hello\n",
    "good morning.\n",
    "'''"
   ]
  },
  {
   "cell_type": "code",
   "execution_count": null,
   "id": "2b06569e",
   "metadata": {},
   "outputs": [],
   "source": [
    "greet"
   ]
  },
  {
   "cell_type": "markdown",
   "id": "179b5545",
   "metadata": {},
   "source": [
    "# assert "
   ]
  },
  {
   "cell_type": "code",
   "execution_count": null,
   "id": "887660a3",
   "metadata": {},
   "outputs": [],
   "source": [
    "assert \"nepal\" == 'nepal' # True nothing happens "
   ]
  },
  {
   "cell_type": "code",
   "execution_count": null,
   "id": "ece58f33",
   "metadata": {},
   "outputs": [],
   "source": [
    "assert\"Nepal\" == \"nepal\" #assert is used to debug"
   ]
  },
  {
   "cell_type": "markdown",
   "id": "388345cd",
   "metadata": {},
   "source": [
    "# Indexing aand slicing of string"
   ]
  },
  {
   "cell_type": "code",
   "execution_count": null,
   "id": "4e25bcfb",
   "metadata": {},
   "outputs": [],
   "source": [
    "s = \"Hello World\""
   ]
  },
  {
   "cell_type": "code",
   "execution_count": null,
   "id": "9a1ab1fd",
   "metadata": {},
   "outputs": [],
   "source": [
    "s[1]"
   ]
  },
  {
   "cell_type": "code",
   "execution_count": null,
   "id": "73b6c1ec",
   "metadata": {},
   "outputs": [],
   "source": [
    "s[0]"
   ]
  },
  {
   "cell_type": "code",
   "execution_count": null,
   "id": "411cbebf",
   "metadata": {},
   "outputs": [],
   "source": [
    "s[2]"
   ]
  },
  {
   "cell_type": "code",
   "execution_count": null,
   "id": "16be8ef2",
   "metadata": {},
   "outputs": [],
   "source": [
    "s[3]"
   ]
  },
  {
   "cell_type": "code",
   "execution_count": null,
   "id": "e4a77033",
   "metadata": {},
   "outputs": [],
   "source": [
    "s[4]"
   ]
  },
  {
   "cell_type": "code",
   "execution_count": null,
   "id": "180c790e",
   "metadata": {},
   "outputs": [],
   "source": [
    "s[5]"
   ]
  },
  {
   "cell_type": "code",
   "execution_count": null,
   "id": "bf3ae063",
   "metadata": {},
   "outputs": [],
   "source": [
    "s[6]"
   ]
  },
  {
   "cell_type": "code",
   "execution_count": null,
   "id": "7335e412",
   "metadata": {},
   "outputs": [],
   "source": [
    "s[7]"
   ]
  },
  {
   "cell_type": "code",
   "execution_count": null,
   "id": "4b03f0a2",
   "metadata": {},
   "outputs": [],
   "source": [
    "s[8]"
   ]
  },
  {
   "cell_type": "code",
   "execution_count": null,
   "id": "9a70ef94",
   "metadata": {},
   "outputs": [],
   "source": [
    "s[9]\n"
   ]
  },
  {
   "cell_type": "code",
   "execution_count": null,
   "id": "a319d747",
   "metadata": {},
   "outputs": [],
   "source": [
    "s[10]"
   ]
  },
  {
   "cell_type": "code",
   "execution_count": null,
   "id": "64387b04",
   "metadata": {},
   "outputs": [],
   "source": [
    "s[11]"
   ]
  },
  {
   "cell_type": "code",
   "execution_count": null,
   "id": "fbc89a19",
   "metadata": {},
   "outputs": [],
   "source": [
    "len(s)"
   ]
  },
  {
   "cell_type": "code",
   "execution_count": null,
   "id": "c71a86aa",
   "metadata": {},
   "outputs": [],
   "source": [
    "s[1.2] # invalid index cannot be float \n"
   ]
  },
  {
   "cell_type": "code",
   "execution_count": null,
   "id": "90153817",
   "metadata": {},
   "outputs": [],
   "source": [
    "# range(start,stop,step)\n",
    "\n",
    "finds values bettween start to stop with given step\n",
    "\n",
    "* stop value is excluded"
   ]
  },
  {
   "cell_type": "code",
   "execution_count": null,
   "id": "159888d9",
   "metadata": {},
   "outputs": [],
   "source": [
    "s =\"hello world\"\n",
    "length = len(s)"
   ]
  },
  {
   "cell_type": "code",
   "execution_count": null,
   "id": "7f4b5be0",
   "metadata": {},
   "outputs": [],
   "source": [
    "length"
   ]
  },
  {
   "cell_type": "code",
   "execution_count": null,
   "id": "0d96ce22",
   "metadata": {},
   "outputs": [],
   "source": [
    "range(0,length,1) # zero to length with step 1"
   ]
  },
  {
   "cell_type": "code",
   "execution_count": null,
   "id": "5c83efe3",
   "metadata": {},
   "outputs": [],
   "source": [
    "list(range(0,length, 1))"
   ]
  },
  {
   "cell_type": "code",
   "execution_count": null,
   "id": "a3608241",
   "metadata": {},
   "outputs": [],
   "source": [
    "for index in range(0, len(s), 1):\n",
    "    print(index)"
   ]
  },
  {
   "cell_type": "code",
   "execution_count": null,
   "id": "f40e5bdf",
   "metadata": {},
   "outputs": [],
   "source": [
    "s =\"hello world\"\n",
    "for index in range(0, len(s), 1):\n",
    "    letter =s[index]\n",
    "    print(f\"The index is {index}and the letteris {letter}\")"
   ]
  },
  {
   "cell_type": "markdown",
   "id": "e4d48d4c",
   "metadata": {},
   "source": [
    "# Print string in reverse order"
   ]
  },
  {
   "cell_type": "code",
   "execution_count": 4,
   "id": "69d1947f",
   "metadata": {},
   "outputs": [],
   "source": [
    "s =\"hello world\"\n",
    "for index in range(10, len(s), -1):\n",
    "    letter =s[index]\n",
    "    print(f\"The index is {index}and the letteris {letter}\")\n",
    "    \n"
   ]
  },
  {
   "cell_type": "code",
   "execution_count": 5,
   "id": "57492a3f",
   "metadata": {},
   "outputs": [],
   "source": [
    "s =\"hello world\""
   ]
  },
  {
   "cell_type": "code",
   "execution_count": 6,
   "id": "c21873d0",
   "metadata": {},
   "outputs": [
    {
     "data": {
      "text/plain": [
       "range(10, -1, -1)"
      ]
     },
     "execution_count": 6,
     "metadata": {},
     "output_type": "execute_result"
    }
   ],
   "source": [
    "range(len(s) -1, -1, -1)"
   ]
  },
  {
   "cell_type": "code",
   "execution_count": 7,
   "id": "3c62c36b",
   "metadata": {},
   "outputs": [
    {
     "data": {
      "text/plain": [
       "[10, 9, 8, 7, 6, 5, 4, 3, 2, 1, 0]"
      ]
     },
     "execution_count": 7,
     "metadata": {},
     "output_type": "execute_result"
    }
   ],
   "source": [
    "list(range(len(s) -1, -1, -1))"
   ]
  },
  {
   "cell_type": "code",
   "execution_count": 8,
   "id": "a6807b92",
   "metadata": {},
   "outputs": [
    {
     "name": "stdout",
     "output_type": "stream",
     "text": [
      "The index is 10and the letteris d\n",
      "The index is 9and the letteris l\n",
      "The index is 8and the letteris r\n",
      "The index is 7and the letteris o\n",
      "The index is 6and the letteris w\n",
      "The index is 5and the letteris  \n",
      "The index is 4and the letteris o\n",
      "The index is 3and the letteris l\n",
      "The index is 2and the letteris l\n",
      "The index is 1and the letteris e\n",
      "The index is 0and the letteris h\n"
     ]
    }
   ],
   "source": [
    "for index in range(len(s) -1, -1, -1):\n",
    "    letter =s[index]\n",
    "    print(f\"The index is {index}and the letteris {letter}\")"
   ]
  },
  {
   "cell_type": "markdown",
   "id": "0e2bcc66",
   "metadata": {},
   "source": [
    "# WAP to print vowels and consonant in given word"
   ]
  },
  {
   "cell_type": "code",
   "execution_count": 11,
   "id": "cbb777d4",
   "metadata": {},
   "outputs": [],
   "source": [
    "s = \"aeyi\"\n"
   ]
  },
  {
   "cell_type": "code",
   "execution_count": 16,
   "id": "7ed857db",
   "metadata": {},
   "outputs": [],
   "source": [
    "length = len(s)"
   ]
  },
  {
   "cell_type": "code",
   "execution_count": 18,
   "id": "40210639",
   "metadata": {},
   "outputs": [
    {
     "name": "stdout",
     "output_type": "stream",
     "text": [
      "vowel = a\n",
      "Consonant = e\n",
      "Consonant = y\n",
      "vowel = i\n"
     ]
    }
   ],
   "source": [
    "text = \"aeyi\"\n",
    "for index in range(0,len(text), 1):\n",
    "    \n",
    "    letter = text[index]\n",
    "    if letter ==\"a\" or letter ==\"i\" or letter ==\"0\" or letter ==\"u\":\n",
    "        print(f\"vowel = {letter}\")\n",
    "    else:\n",
    "        print(f\"Consonant = {letter}\")"
   ]
  },
  {
   "cell_type": "markdown",
   "id": "689fa22a",
   "metadata": {},
   "source": [
    "# Slicing of string"
   ]
  },
  {
   "cell_type": "code",
   "execution_count": 19,
   "id": "a7ee2dec",
   "metadata": {},
   "outputs": [],
   "source": [
    "s=\"I love python.\""
   ]
  },
  {
   "cell_type": "code",
   "execution_count": 20,
   "id": "5b7be6cc",
   "metadata": {},
   "outputs": [
    {
     "data": {
      "text/plain": [
       "'I'"
      ]
     },
     "execution_count": 20,
     "metadata": {},
     "output_type": "execute_result"
    }
   ],
   "source": [
    "s[0]"
   ]
  },
  {
   "cell_type": "code",
   "execution_count": 21,
   "id": "c4d92357",
   "metadata": {},
   "outputs": [
    {
     "data": {
      "text/plain": [
       "'lov'"
      ]
     },
     "execution_count": 21,
     "metadata": {},
     "output_type": "execute_result"
    }
   ],
   "source": [
    "s[2:5]"
   ]
  },
  {
   "cell_type": "code",
   "execution_count": 22,
   "id": "b7bf21cb",
   "metadata": {},
   "outputs": [
    {
     "data": {
      "text/plain": [
       "'love'"
      ]
     },
     "execution_count": 22,
     "metadata": {},
     "output_type": "execute_result"
    }
   ],
   "source": [
    "s[2:6]"
   ]
  },
  {
   "cell_type": "code",
   "execution_count": 23,
   "id": "fdd021f2",
   "metadata": {},
   "outputs": [
    {
     "data": {
      "text/plain": [
       "'py'"
      ]
     },
     "execution_count": 23,
     "metadata": {},
     "output_type": "execute_result"
    }
   ],
   "source": [
    "s[7:9]"
   ]
  },
  {
   "cell_type": "code",
   "execution_count": null,
   "id": "649178ff",
   "metadata": {},
   "outputs": [],
   "source": []
  }
 ],
 "metadata": {
  "kernelspec": {
   "display_name": "Python 3 (ipykernel)",
   "language": "python",
   "name": "python3"
  },
  "language_info": {
   "codemirror_mode": {
    "name": "ipython",
    "version": 3
   },
   "file_extension": ".py",
   "mimetype": "text/x-python",
   "name": "python",
   "nbconvert_exporter": "python",
   "pygments_lexer": "ipython3",
   "version": "3.8.10"
  }
 },
 "nbformat": 4,
 "nbformat_minor": 5
}
