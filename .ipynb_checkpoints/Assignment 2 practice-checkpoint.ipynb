{
 "cells": [
  {
   "cell_type": "markdown",
   "id": "8ee4d9d7",
   "metadata": {},
   "source": [
    "# The volume of a sphere with radius r is 4/3 π × r³. What is the volume of a sphere with radius 5?"
   ]
  },
  {
   "cell_type": "code",
   "execution_count": 6,
   "id": "dbe84de4",
   "metadata": {},
   "outputs": [
    {
     "name": "stdout",
     "output_type": "stream",
     "text": [
      "Enter the radius= 5\n",
      " The volume of sphere is 523.33\n"
     ]
    }
   ],
   "source": [
    "r = float(input(\"Enter the radius= \"))\n",
    "\n",
    "PI = 3.14\n",
    "\n",
    "volume = 4/3 * PI *r ** 3 \n",
    "\n",
    "print(f\" The volume of sphere is {round(volume, 2)}\")\n",
    "\n",
    "             "
   ]
  },
  {
   "cell_type": "markdown",
   "id": "d53baad1",
   "metadata": {},
   "source": [
    "# Write a program to check if the given input is 10 or not. if it is 10 print the number"
   ]
  },
  {
   "cell_type": "code",
   "execution_count": 10,
   "id": "76250511",
   "metadata": {},
   "outputs": [
    {
     "name": "stdout",
     "output_type": "stream",
     "text": [
      "Enter a number:9\n",
      "The number is not 10\n"
     ]
    }
   ],
   "source": [
    "num = input(\"Enter a number:\")\n",
    "\n",
    "if num == 10:\n",
    "    \n",
    "    print(\"The number is 10\")\n",
    "    \n",
    "else:\n",
    "    \n",
    "    print(\"The number is not 10\")"
   ]
  },
  {
   "cell_type": "markdown",
   "id": "242fc63b",
   "metadata": {},
   "source": [
    "# Write a program to check wether a person is eligible for voting or not (accept age from user)"
   ]
  },
  {
   "cell_type": "code",
   "execution_count": 9,
   "id": "a6f80a14",
   "metadata": {},
   "outputs": [
    {
     "name": "stdout",
     "output_type": "stream",
     "text": [
      "Enter your age:15\n",
      " congratulation you can vote\n"
     ]
    }
   ],
   "source": [
    "age = int(input(\"Enter your age:\"))\n",
    "\n",
    "if age >= 15:\n",
    "    \n",
    "    print(\" congratulation you can vote\")\n",
    "    \n",
    "else:\n",
    "    \n",
    "    print(\"Sorry You cannot vote\")"
   ]
  },
  {
   "cell_type": "markdown",
   "id": "68765234",
   "metadata": {},
   "source": [
    "# Write a program to display \"Hello\" if a number entered by user is a multiple of five, otherwise print \"Bye\""
   ]
  },
  {
   "cell_type": "code",
   "execution_count": 5,
   "id": "2bb33492",
   "metadata": {},
   "outputs": [
    {
     "name": "stdout",
     "output_type": "stream",
     "text": [
      "Enter a number:25\n",
      "Hello\n"
     ]
    }
   ],
   "source": [
    "a = int(input(\"Enter a number:\"))\n",
    "\n",
    "if a %5 == 0:\n",
    "    \n",
    "    print(\"Hello\")\n",
    "    \n",
    "else:\n",
    "    \n",
    "    print(\"Bye\")"
   ]
  },
  {
   "cell_type": "code",
   "execution_count": null,
   "id": "fe8427cf",
   "metadata": {},
   "outputs": [],
   "source": []
  }
 ],
 "metadata": {
  "kernelspec": {
   "display_name": "Python 3 (ipykernel)",
   "language": "python",
   "name": "python3"
  },
  "language_info": {
   "codemirror_mode": {
    "name": "ipython",
    "version": 3
   },
   "file_extension": ".py",
   "mimetype": "text/x-python",
   "name": "python",
   "nbconvert_exporter": "python",
   "pygments_lexer": "ipython3",
   "version": "3.8.10"
  }
 },
 "nbformat": 4,
 "nbformat_minor": 5
}
