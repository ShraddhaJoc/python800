{
 "cells": [
  {
   "cell_type": "markdown",
   "id": "626ede4b",
   "metadata": {},
   "source": [
    "# Sets are used to store multiple items in a single variable with no duplication. Mutable --add or remove possible"
   ]
  },
  {
   "cell_type": "code",
   "execution_count": 1,
   "id": "ccddcec7",
   "metadata": {},
   "outputs": [],
   "source": [
    "A = {\"Papaya\",'Ball', 'Cat'}\n"
   ]
  },
  {
   "cell_type": "code",
   "execution_count": 2,
   "id": "6b1d795b",
   "metadata": {},
   "outputs": [
    {
     "data": {
      "text/plain": [
       "{'Ball', 'Cat', 'Papaya'}"
      ]
     },
     "execution_count": 2,
     "metadata": {},
     "output_type": "execute_result"
    }
   ],
   "source": [
    "A"
   ]
  },
  {
   "cell_type": "code",
   "execution_count": 3,
   "id": "8a18918f",
   "metadata": {},
   "outputs": [
    {
     "ename": "TypeError",
     "evalue": "'set' object is not subscriptable",
     "output_type": "error",
     "traceback": [
      "\u001b[1;31m---------------------------------------------------------------------------\u001b[0m",
      "\u001b[1;31mTypeError\u001b[0m                                 Traceback (most recent call last)",
      "Cell \u001b[1;32mIn[3], line 1\u001b[0m\n\u001b[1;32m----> 1\u001b[0m \u001b[43mA\u001b[49m\u001b[43m[\u001b[49m\u001b[38;5;241;43m0\u001b[39;49m\u001b[43m]\u001b[49m\n",
      "\u001b[1;31mTypeError\u001b[0m: 'set' object is not subscriptable"
     ]
    }
   ],
   "source": [
    "A[0] # cannot index set "
   ]
  },
  {
   "cell_type": "markdown",
   "id": "d6e0a49a",
   "metadata": {},
   "source": [
    "# remove() to remove items : if the item to remove does not exist, remove() will raise error"
   ]
  },
  {
   "cell_type": "code",
   "execution_count": 4,
   "id": "fde8999b",
   "metadata": {},
   "outputs": [],
   "source": [
    "A = {\"Papaya\",'Ball', 'Cat'}"
   ]
  },
  {
   "cell_type": "code",
   "execution_count": 5,
   "id": "fe2b16a3",
   "metadata": {},
   "outputs": [],
   "source": [
    "A.remove(\"Cat\")"
   ]
  },
  {
   "cell_type": "code",
   "execution_count": 6,
   "id": "b6953840",
   "metadata": {},
   "outputs": [
    {
     "data": {
      "text/plain": [
       "{'Ball', 'Papaya'}"
      ]
     },
     "execution_count": 6,
     "metadata": {},
     "output_type": "execute_result"
    }
   ],
   "source": [
    "A"
   ]
  },
  {
   "cell_type": "code",
   "execution_count": 7,
   "id": "8fe71064",
   "metadata": {},
   "outputs": [
    {
     "ename": "KeyError",
     "evalue": "'Orange'",
     "output_type": "error",
     "traceback": [
      "\u001b[1;31m---------------------------------------------------------------------------\u001b[0m",
      "\u001b[1;31mKeyError\u001b[0m                                  Traceback (most recent call last)",
      "Cell \u001b[1;32mIn[7], line 1\u001b[0m\n\u001b[1;32m----> 1\u001b[0m \u001b[43mA\u001b[49m\u001b[38;5;241;43m.\u001b[39;49m\u001b[43mremove\u001b[49m\u001b[43m(\u001b[49m\u001b[38;5;124;43m'\u001b[39;49m\u001b[38;5;124;43mOrange\u001b[39;49m\u001b[38;5;124;43m'\u001b[39;49m\u001b[43m)\u001b[49m\n",
      "\u001b[1;31mKeyError\u001b[0m: 'Orange'"
     ]
    }
   ],
   "source": [
    "A.remove('Orange') # nabhako item falna paidaina "
   ]
  },
  {
   "cell_type": "markdown",
   "id": "357ac00e",
   "metadata": {},
   "source": [
    "# use add() method to add item "
   ]
  },
  {
   "cell_type": "code",
   "execution_count": 10,
   "id": "881b2645",
   "metadata": {},
   "outputs": [],
   "source": [
    "fruits = {'orange','mango','banana'}"
   ]
  },
  {
   "cell_type": "code",
   "execution_count": 11,
   "id": "c626d9e2",
   "metadata": {},
   "outputs": [
    {
     "data": {
      "text/plain": [
       "{'banana', 'mango', 'orange'}"
      ]
     },
     "execution_count": 11,
     "metadata": {},
     "output_type": "execute_result"
    }
   ],
   "source": [
    "fruits"
   ]
  },
  {
   "cell_type": "code",
   "execution_count": 12,
   "id": "222341a8",
   "metadata": {},
   "outputs": [],
   "source": [
    "fruits.add('kiwi')"
   ]
  },
  {
   "cell_type": "code",
   "execution_count": 13,
   "id": "fa3d1abd",
   "metadata": {},
   "outputs": [
    {
     "data": {
      "text/plain": [
       "{'banana', 'kiwi', 'mango', 'orange'}"
      ]
     },
     "execution_count": 13,
     "metadata": {},
     "output_type": "execute_result"
    }
   ],
   "source": [
    "fruits"
   ]
  },
  {
   "cell_type": "code",
   "execution_count": 14,
   "id": "61a89ad7",
   "metadata": {},
   "outputs": [],
   "source": [
    "fruits.add('papaya')"
   ]
  },
  {
   "cell_type": "code",
   "execution_count": 15,
   "id": "77a4c02d",
   "metadata": {},
   "outputs": [
    {
     "data": {
      "text/plain": [
       "{'banana', 'kiwi', 'mango', 'orange', 'papaya'}"
      ]
     },
     "execution_count": 15,
     "metadata": {},
     "output_type": "execute_result"
    }
   ],
   "source": [
    "fruits"
   ]
  },
  {
   "cell_type": "code",
   "execution_count": 16,
   "id": "ccf32e63",
   "metadata": {},
   "outputs": [
    {
     "data": {
      "text/plain": [
       "['mango', 'orange', 'papaya', 'banana', 'kiwi']"
      ]
     },
     "execution_count": 16,
     "metadata": {},
     "output_type": "execute_result"
    }
   ],
   "source": [
    "fruits = {'banana', 'kiwi', 'mango', 'orange', 'papaya'}\n",
    "list_fruits =list(fruits)\n",
    "list_fruits"
   ]
  },
  {
   "cell_type": "code",
   "execution_count": 17,
   "id": "00bbdc80",
   "metadata": {},
   "outputs": [],
   "source": [
    "f=['mango', 'orange', 'papaya', 'banana', 'kiwi', 'mango']\n"
   ]
  },
  {
   "cell_type": "code",
   "execution_count": 18,
   "id": "00cab5e0",
   "metadata": {},
   "outputs": [
    {
     "data": {
      "text/plain": [
       "{'banana', 'kiwi', 'mango', 'orange', 'papaya'}"
      ]
     },
     "execution_count": 18,
     "metadata": {},
     "output_type": "execute_result"
    }
   ],
   "source": [
    "set(f) # removes duplicate"
   ]
  },
  {
   "cell_type": "markdown",
   "id": "8f826374",
   "metadata": {},
   "source": [
    "# loops in set "
   ]
  },
  {
   "cell_type": "code",
   "execution_count": 19,
   "id": "2711a063",
   "metadata": {},
   "outputs": [
    {
     "name": "stdout",
     "output_type": "stream",
     "text": [
      "mango\n",
      "orange\n",
      "papaya\n",
      "banana\n",
      "kiwi\n"
     ]
    }
   ],
   "source": [
    "fruits = {'banana', 'kiwi', 'mango', 'orange', 'papaya'}\n",
    "for item in fruits:\n",
    "    print(item)"
   ]
  },
  {
   "cell_type": "markdown",
   "id": "81986a3a",
   "metadata": {},
   "source": [
    "# set  methods"
   ]
  },
  {
   "cell_type": "code",
   "execution_count": 20,
   "id": "d221a911",
   "metadata": {},
   "outputs": [],
   "source": [
    "A = {\"apple\",'banana','cherry'}\n",
    "B = {'google','microsoft','apple'}"
   ]
  },
  {
   "cell_type": "code",
   "execution_count": 21,
   "id": "53a2e651",
   "metadata": {},
   "outputs": [
    {
     "data": {
      "text/plain": [
       "{'apple'}"
      ]
     },
     "execution_count": 21,
     "metadata": {},
     "output_type": "execute_result"
    }
   ],
   "source": [
    "A.intersection(B)"
   ]
  },
  {
   "cell_type": "code",
   "execution_count": 22,
   "id": "4dc8b8de",
   "metadata": {},
   "outputs": [
    {
     "data": {
      "text/plain": [
       "{'apple', 'banana', 'cherry', 'google', 'microsoft'}"
      ]
     },
     "execution_count": 22,
     "metadata": {},
     "output_type": "execute_result"
    }
   ],
   "source": [
    "A.union(B)"
   ]
  },
  {
   "cell_type": "code",
   "execution_count": 23,
   "id": "98086531",
   "metadata": {},
   "outputs": [
    {
     "data": {
      "text/plain": [
       "{'apple', 'banana', 'cherry', 'google', 'microsoft'}"
      ]
     },
     "execution_count": 23,
     "metadata": {},
     "output_type": "execute_result"
    }
   ],
   "source": [
    "B.union(A)"
   ]
  },
  {
   "cell_type": "code",
   "execution_count": 24,
   "id": "8c019f23",
   "metadata": {},
   "outputs": [
    {
     "data": {
      "text/plain": [
       "{'banana', 'cherry'}"
      ]
     },
     "execution_count": 24,
     "metadata": {},
     "output_type": "execute_result"
    }
   ],
   "source": [
    "A - B "
   ]
  },
  {
   "cell_type": "code",
   "execution_count": 25,
   "id": "8a820c40",
   "metadata": {},
   "outputs": [
    {
     "data": {
      "text/plain": [
       "{'google', 'microsoft'}"
      ]
     },
     "execution_count": 25,
     "metadata": {},
     "output_type": "execute_result"
    }
   ],
   "source": [
    "B - A "
   ]
  },
  {
   "cell_type": "code",
   "execution_count": 26,
   "id": "b8e4f46e",
   "metadata": {},
   "outputs": [
    {
     "data": {
      "text/plain": [
       "{'banana', 'cherry'}"
      ]
     },
     "execution_count": 26,
     "metadata": {},
     "output_type": "execute_result"
    }
   ],
   "source": [
    "A.difference(B)"
   ]
  },
  {
   "cell_type": "code",
   "execution_count": 27,
   "id": "7c2b5a03",
   "metadata": {},
   "outputs": [
    {
     "data": {
      "text/plain": [
       "{'google', 'microsoft'}"
      ]
     },
     "execution_count": 27,
     "metadata": {},
     "output_type": "execute_result"
    }
   ],
   "source": [
    "B.difference(A)"
   ]
  },
  {
   "cell_type": "markdown",
   "id": "4d31f117",
   "metadata": {},
   "source": [
    "# Frozenset -- immutable version of python set"
   ]
  },
  {
   "cell_type": "code",
   "execution_count": 28,
   "id": "c56a5ec6",
   "metadata": {},
   "outputs": [],
   "source": [
    "a= frozenset({'google', 'microsoft'})"
   ]
  },
  {
   "cell_type": "code",
   "execution_count": 29,
   "id": "4c190764",
   "metadata": {},
   "outputs": [
    {
     "data": {
      "text/plain": [
       "frozenset({'google', 'microsoft'})"
      ]
     },
     "execution_count": 29,
     "metadata": {},
     "output_type": "execute_result"
    }
   ],
   "source": [
    "a"
   ]
  },
  {
   "cell_type": "code",
   "execution_count": 30,
   "id": "e47a3208",
   "metadata": {},
   "outputs": [
    {
     "data": {
      "text/plain": [
       "frozenset"
      ]
     },
     "execution_count": 30,
     "metadata": {},
     "output_type": "execute_result"
    }
   ],
   "source": [
    "type(a)"
   ]
  },
  {
   "cell_type": "code",
   "execution_count": 31,
   "id": "d9fa17a5",
   "metadata": {},
   "outputs": [
    {
     "ename": "AttributeError",
     "evalue": "'frozenset' object has no attribute 'add'",
     "output_type": "error",
     "traceback": [
      "\u001b[1;31m---------------------------------------------------------------------------\u001b[0m",
      "\u001b[1;31mAttributeError\u001b[0m                            Traceback (most recent call last)",
      "Cell \u001b[1;32mIn[31], line 1\u001b[0m\n\u001b[1;32m----> 1\u001b[0m \u001b[43ma\u001b[49m\u001b[38;5;241;43m.\u001b[39;49m\u001b[43madd\u001b[49m(\u001b[38;5;124m\"\u001b[39m\u001b[38;5;124mspacex\u001b[39m\u001b[38;5;124m\"\u001b[39m)\n",
      "\u001b[1;31mAttributeError\u001b[0m: 'frozenset' object has no attribute 'add'"
     ]
    }
   ],
   "source": [
    "a.add(\"spacex\")"
   ]
  },
  {
   "cell_type": "code",
   "execution_count": null,
   "id": "68bd6b7f",
   "metadata": {},
   "outputs": [],
   "source": []
  }
 ],
 "metadata": {
  "kernelspec": {
   "display_name": "Python 3 (ipykernel)",
   "language": "python",
   "name": "python3"
  },
  "language_info": {
   "codemirror_mode": {
    "name": "ipython",
    "version": 3
   },
   "file_extension": ".py",
   "mimetype": "text/x-python",
   "name": "python",
   "nbconvert_exporter": "python",
   "pygments_lexer": "ipython3",
   "version": "3.8.10"
  }
 },
 "nbformat": 4,
 "nbformat_minor": 5
}
