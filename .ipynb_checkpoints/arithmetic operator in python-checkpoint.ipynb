{
 "cells": [
  {
   "cell_type": "markdown",
   "id": "e8a3b231",
   "metadata": {},
   "source": [
    "# Addition operator"
   ]
  },
  {
   "cell_type": "code",
   "execution_count": 1,
   "id": "5bf6d404",
   "metadata": {},
   "outputs": [
    {
     "data": {
      "text/plain": [
       "8"
      ]
     },
     "execution_count": 1,
     "metadata": {},
     "output_type": "execute_result"
    }
   ],
   "source": [
    "2+6"
   ]
  },
  {
   "cell_type": "markdown",
   "id": "ec80853f",
   "metadata": {},
   "source": [
    "Substraction\n"
   ]
  },
  {
   "cell_type": "code",
   "execution_count": 2,
   "id": "d2f38843",
   "metadata": {},
   "outputs": [
    {
     "data": {
      "text/plain": [
       "2"
      ]
     },
     "execution_count": 2,
     "metadata": {},
     "output_type": "execute_result"
    }
   ],
   "source": [
    "7-5"
   ]
  },
  {
   "cell_type": "markdown",
   "id": "dd2d6e8b",
   "metadata": {},
   "source": [
    "multiply"
   ]
  },
  {
   "cell_type": "code",
   "execution_count": 3,
   "id": "f70cb48f",
   "metadata": {},
   "outputs": [
    {
     "data": {
      "text/plain": [
       "10"
      ]
     },
     "execution_count": 3,
     "metadata": {},
     "output_type": "execute_result"
    }
   ],
   "source": [
    "2*5"
   ]
  },
  {
   "cell_type": "markdown",
   "id": "1046e065",
   "metadata": {},
   "source": [
    "Exponential operator"
   ]
  },
  {
   "cell_type": "code",
   "execution_count": 4,
   "id": "eee45376",
   "metadata": {},
   "outputs": [
    {
     "data": {
      "text/plain": [
       "8"
      ]
     },
     "execution_count": 4,
     "metadata": {},
     "output_type": "execute_result"
    }
   ],
   "source": [
    "2**3 # 2 ko power 3 ho -- 2 to the power 3"
   ]
  },
  {
   "cell_type": "code",
   "execution_count": 5,
   "id": "af2990b5",
   "metadata": {},
   "outputs": [
    {
     "data": {
      "text/plain": [
       "81"
      ]
     },
     "execution_count": 5,
     "metadata": {},
     "output_type": "execute_result"
    }
   ],
   "source": [
    "9**2 # 9 ko pwer 2"
   ]
  },
  {
   "cell_type": "code",
   "execution_count": 6,
   "id": "313eb032",
   "metadata": {},
   "outputs": [
    {
     "data": {
      "text/plain": [
       "343"
      ]
     },
     "execution_count": 6,
     "metadata": {},
     "output_type": "execute_result"
    }
   ],
   "source": [
    "7**3 # 7 ko cube "
   ]
  },
  {
   "cell_type": "markdown",
   "id": "d84ba2cd",
   "metadata": {},
   "source": [
    "# floor division(//)"
   ]
  },
  {
   "cell_type": "code",
   "execution_count": 8,
   "id": "1384c5a0",
   "metadata": {},
   "outputs": [
    {
     "data": {
      "text/plain": [
       "7"
      ]
     },
     "execution_count": 8,
     "metadata": {},
     "output_type": "execute_result"
    }
   ],
   "source": [
    "15//2"
   ]
  },
  {
   "cell_type": "code",
   "execution_count": 9,
   "id": "88041bc4",
   "metadata": {},
   "outputs": [
    {
     "data": {
      "text/plain": [
       "2"
      ]
     },
     "execution_count": 9,
     "metadata": {},
     "output_type": "execute_result"
    }
   ],
   "source": [
    "19//8"
   ]
  },
  {
   "cell_type": "markdown",
   "id": "6b4114cd",
   "metadata": {},
   "source": [
    "Modulus (%)"
   ]
  },
  {
   "cell_type": "code",
   "execution_count": 11,
   "id": "baa2489f",
   "metadata": {},
   "outputs": [
    {
     "data": {
      "text/plain": [
       "1"
      ]
     },
     "execution_count": 11,
     "metadata": {},
     "output_type": "execute_result"
    }
   ],
   "source": [
    "7 % 2 # modulus operator le reminder dinxa "
   ]
  },
  {
   "cell_type": "code",
   "execution_count": 12,
   "id": "bfe3393b",
   "metadata": {},
   "outputs": [
    {
     "data": {
      "text/plain": [
       "0"
      ]
     },
     "execution_count": 12,
     "metadata": {},
     "output_type": "execute_result"
    }
   ],
   "source": [
    "9 % 3"
   ]
  },
  {
   "cell_type": "code",
   "execution_count": 13,
   "id": "5bbb7e70",
   "metadata": {},
   "outputs": [
    {
     "data": {
      "text/plain": [
       "2"
      ]
     },
     "execution_count": 13,
     "metadata": {},
     "output_type": "execute_result"
    }
   ],
   "source": [
    "18 % 4"
   ]
  },
  {
   "cell_type": "code",
   "execution_count": null,
   "id": "52e49861",
   "metadata": {},
   "outputs": [],
   "source": []
  }
 ],
 "metadata": {
  "kernelspec": {
   "display_name": "Python 3 (ipykernel)",
   "language": "python",
   "name": "python3"
  },
  "language_info": {
   "codemirror_mode": {
    "name": "ipython",
    "version": 3
   },
   "file_extension": ".py",
   "mimetype": "text/x-python",
   "name": "python",
   "nbconvert_exporter": "python",
   "pygments_lexer": "ipython3",
   "version": "3.8.10"
  }
 },
 "nbformat": 4,
 "nbformat_minor": 5
}
