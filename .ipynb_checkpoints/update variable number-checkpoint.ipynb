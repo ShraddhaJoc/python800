{
 "cells": [
  {
   "cell_type": "code",
   "execution_count": 1,
   "id": "ecfb5429",
   "metadata": {},
   "outputs": [
    {
     "name": "stdout",
     "output_type": "stream",
     "text": [
      "Before update\n",
      "5\n",
      "After update\n",
      "60\n"
     ]
    }
   ],
   "source": [
    "a = 5 \n",
    "print(\"Before update\")\n",
    "print(a)\n",
    "print(\"After update\")\n",
    "a = 60\n",
    "print(a)"
   ]
  },
  {
   "cell_type": "code",
   "execution_count": 2,
   "id": "6efdff3f",
   "metadata": {},
   "outputs": [
    {
     "name": "stdout",
     "output_type": "stream",
     "text": [
      "61.0\n"
     ]
    }
   ],
   "source": [
    "a = 60.5\n",
    "\n",
    "a = a + 0.5\n",
    "\n",
    "print(a)"
   ]
  },
  {
   "cell_type": "markdown",
   "id": "b6b22276",
   "metadata": {},
   "source": [
    "# Assigning multiple value to multiple variables"
   ]
  },
  {
   "cell_type": "code",
   "execution_count": 3,
   "id": "12ffdf60",
   "metadata": {},
   "outputs": [],
   "source": [
    "a = 0.2         # float\n",
    "b = 1           # integer number\n",
    "c = 0.1 + 3j    # complex number"
   ]
  },
  {
   "cell_type": "code",
   "execution_count": 4,
   "id": "76edbcdb",
   "metadata": {},
   "outputs": [
    {
     "data": {
      "text/plain": [
       "0.2"
      ]
     },
     "execution_count": 4,
     "metadata": {},
     "output_type": "execute_result"
    }
   ],
   "source": [
    "a"
   ]
  },
  {
   "cell_type": "code",
   "execution_count": 5,
   "id": "028cbab8",
   "metadata": {},
   "outputs": [
    {
     "data": {
      "text/plain": [
       "1"
      ]
     },
     "execution_count": 5,
     "metadata": {},
     "output_type": "execute_result"
    }
   ],
   "source": [
    "b"
   ]
  },
  {
   "cell_type": "code",
   "execution_count": 6,
   "id": "aa7666fb",
   "metadata": {},
   "outputs": [
    {
     "data": {
      "text/plain": [
       "(0.1+3j)"
      ]
     },
     "execution_count": 6,
     "metadata": {},
     "output_type": "execute_result"
    }
   ],
   "source": [
    "c"
   ]
  },
  {
   "cell_type": "code",
   "execution_count": 7,
   "id": "9d3930f3",
   "metadata": {},
   "outputs": [],
   "source": [
    "a, b, c = 0.2, 1, 0.1+3j\n"
   ]
  },
  {
   "cell_type": "code",
   "execution_count": 8,
   "id": "584fc2e1",
   "metadata": {},
   "outputs": [
    {
     "data": {
      "text/plain": [
       "0.2"
      ]
     },
     "execution_count": 8,
     "metadata": {},
     "output_type": "execute_result"
    }
   ],
   "source": [
    "a"
   ]
  },
  {
   "cell_type": "code",
   "execution_count": 9,
   "id": "f40e28c5",
   "metadata": {},
   "outputs": [
    {
     "data": {
      "text/plain": [
       "1"
      ]
     },
     "execution_count": 9,
     "metadata": {},
     "output_type": "execute_result"
    }
   ],
   "source": [
    "b"
   ]
  },
  {
   "cell_type": "code",
   "execution_count": 10,
   "id": "a8231881",
   "metadata": {},
   "outputs": [
    {
     "data": {
      "text/plain": [
       "(0.1+3j)"
      ]
     },
     "execution_count": 10,
     "metadata": {},
     "output_type": "execute_result"
    }
   ],
   "source": [
    "c"
   ]
  },
  {
   "cell_type": "code",
   "execution_count": null,
   "id": "9f0ef6ff",
   "metadata": {},
   "outputs": [],
   "source": [
    "num1"
   ]
  }
 ],
 "metadata": {
  "kernelspec": {
   "display_name": "Python 3 (ipykernel)",
   "language": "python",
   "name": "python3"
  },
  "language_info": {
   "codemirror_mode": {
    "name": "ipython",
    "version": 3
   },
   "file_extension": ".py",
   "mimetype": "text/x-python",
   "name": "python",
   "nbconvert_exporter": "python",
   "pygments_lexer": "ipython3",
   "version": "3.8.10"
  }
 },
 "nbformat": 4,
 "nbformat_minor": 5
}
