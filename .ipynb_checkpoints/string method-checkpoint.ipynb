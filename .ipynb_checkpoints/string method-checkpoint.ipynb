{
 "cells": [
  {
   "cell_type": "code",
   "execution_count": 2,
   "id": "eba36a6c",
   "metadata": {},
   "outputs": [],
   "source": [
    "text = \"Leonel Messi is a Goat\""
   ]
  },
  {
   "cell_type": "code",
   "execution_count": 3,
   "id": "e4705ded",
   "metadata": {},
   "outputs": [
    {
     "data": {
      "text/plain": [
       "'Leonel '"
      ]
     },
     "execution_count": 3,
     "metadata": {},
     "output_type": "execute_result"
    }
   ],
   "source": [
    "text[0:7]"
   ]
  },
  {
   "cell_type": "code",
   "execution_count": 4,
   "id": "bd02ff3a",
   "metadata": {},
   "outputs": [
    {
     "data": {
      "text/plain": [
       "'onel Messi is a Goat'"
      ]
     },
     "execution_count": 4,
     "metadata": {},
     "output_type": "execute_result"
    }
   ],
   "source": [
    "text[2:]"
   ]
  },
  {
   "cell_type": "code",
   "execution_count": 5,
   "id": "d0e8061c",
   "metadata": {},
   "outputs": [
    {
     "data": {
      "text/plain": [
       "'Le'"
      ]
     },
     "execution_count": 5,
     "metadata": {},
     "output_type": "execute_result"
    }
   ],
   "source": [
    "text[:2]"
   ]
  },
  {
   "cell_type": "code",
   "execution_count": 6,
   "id": "535f3e6c",
   "metadata": {},
   "outputs": [
    {
     "data": {
      "text/plain": [
       "'Me'"
      ]
     },
     "execution_count": 6,
     "metadata": {},
     "output_type": "execute_result"
    }
   ],
   "source": [
    "text[7:9]"
   ]
  },
  {
   "cell_type": "code",
   "execution_count": 7,
   "id": "a49a5238",
   "metadata": {},
   "outputs": [
    {
     "data": {
      "text/plain": [
       "'Loe '"
      ]
     },
     "execution_count": 7,
     "metadata": {},
     "output_type": "execute_result"
    }
   ],
   "source": [
    "text[0:7:2]"
   ]
  },
  {
   "cell_type": "code",
   "execution_count": 8,
   "id": "39d562c2",
   "metadata": {},
   "outputs": [],
   "source": [
    "name = \"shraddha\""
   ]
  },
  {
   "cell_type": "code",
   "execution_count": 9,
   "id": "dc90cfda",
   "metadata": {},
   "outputs": [
    {
     "data": {
      "text/plain": [
       "'shraddha'"
      ]
     },
     "execution_count": 9,
     "metadata": {},
     "output_type": "execute_result"
    }
   ],
   "source": [
    "name"
   ]
  },
  {
   "cell_type": "code",
   "execution_count": 10,
   "id": "71a531c9",
   "metadata": {},
   "outputs": [
    {
     "data": {
      "text/plain": [
       "'shraddhashraddha'"
      ]
     },
     "execution_count": 10,
     "metadata": {},
     "output_type": "execute_result"
    }
   ],
   "source": [
    "name + name # concat"
   ]
  },
  {
   "cell_type": "code",
   "execution_count": 11,
   "id": "0c11573b",
   "metadata": {},
   "outputs": [
    {
     "data": {
      "text/plain": [
       "'shraddhashraddha'"
      ]
     },
     "execution_count": 11,
     "metadata": {},
     "output_type": "execute_result"
    }
   ],
   "source": [
    "name *2"
   ]
  },
  {
   "cell_type": "code",
   "execution_count": null,
   "id": "89ba0a5d",
   "metadata": {},
   "outputs": [],
   "source": []
  }
 ],
 "metadata": {
  "kernelspec": {
   "display_name": "Python 3 (ipykernel)",
   "language": "python",
   "name": "python3"
  },
  "language_info": {
   "codemirror_mode": {
    "name": "ipython",
    "version": 3
   },
   "file_extension": ".py",
   "mimetype": "text/x-python",
   "name": "python",
   "nbconvert_exporter": "python",
   "pygments_lexer": "ipython3",
   "version": "3.8.10"
  }
 },
 "nbformat": 4,
 "nbformat_minor": 5
}
