{
 "cells": [
  {
   "cell_type": "markdown",
   "id": "33ccfd02",
   "metadata": {},
   "source": [
    "# Write a functionto check if the given input number prime or not if prime return true else return false"
   ]
  },
  {
   "cell_type": "code",
   "execution_count": 4,
   "id": "8bd6dec2",
   "metadata": {},
   "outputs": [
    {
     "name": "stdout",
     "output_type": "stream",
     "text": [
      "Enter a number:2\n",
      "it is a prime number\n"
     ]
    }
   ],
   "source": [
    "def check_prime(a):\n",
    "    if a % 1 ==0:\n",
    "        return True\n",
    "    else:\n",
    "        return False\n",
    "\n",
    "a = int(input('Enter a number:'))\n",
    "status = check_prime(a)\n",
    "\n",
    "if status:\n",
    "    print('it is a prime number')\n",
    "else:\n",
    "    print('it is not a prime number')\n",
    "\n",
    "\n",
    "\n"
   ]
  },
  {
   "cell_type": "code",
   "execution_count": 27,
   "id": "abcce99a",
   "metadata": {},
   "outputs": [
    {
     "data": {
      "text/plain": [
       "True"
      ]
     },
     "execution_count": 27,
     "metadata": {},
     "output_type": "execute_result"
    }
   ],
   "source": [
    "def is_prime(num):\n",
    "    for index in range(2,num):\n",
    "        if num % index == 0:\n",
    "            return False\n",
    "      \n",
    "    return True\n",
    "is_prime(11)\n",
    "        "
   ]
  },
  {
   "cell_type": "markdown",
   "id": "a233c446",
   "metadata": {},
   "source": [
    "# Write a python function to calculate the factorial of a non-negative integer"
   ]
  },
  {
   "cell_type": "code",
   "execution_count": 28,
   "id": "2685a25e",
   "metadata": {},
   "outputs": [],
   "source": [
    "\n",
    "def fact(num):\n",
    "    factorial = 1\n",
    "    for numbers in range(1 ,num + 1):\n",
    "        factorial = factorial * numbers\n",
    "        \n",
    "    \n",
    "    return factorial\n",
    "\n"
   ]
  },
  {
   "cell_type": "code",
   "execution_count": 29,
   "id": "96531d4d",
   "metadata": {},
   "outputs": [
    {
     "data": {
      "text/plain": [
       "120"
      ]
     },
     "execution_count": 29,
     "metadata": {},
     "output_type": "execute_result"
    }
   ],
   "source": [
    "fact(5)"
   ]
  },
  {
   "cell_type": "markdown",
   "id": "a335216a",
   "metadata": {},
   "source": [
    "# Write a python program that accepts hyphen seperated sequenceof words as input and prints the words in a hyphen seperated sequenceafter sorting them alphabetically"
   ]
  },
  {
   "cell_type": "code",
   "execution_count": 10,
   "id": "414630f0",
   "metadata": {},
   "outputs": [
    {
     "ename": "NameError",
     "evalue": "name 'green' is not defined",
     "output_type": "error",
     "traceback": [
      "\u001b[1;31m---------------------------------------------------------------------------\u001b[0m",
      "\u001b[1;31mNameError\u001b[0m                                 Traceback (most recent call last)",
      "Cell \u001b[1;32mIn[10], line 1\u001b[0m\n\u001b[1;32m----> 1\u001b[0m items : [\u001b[43mgreen\u001b[49m\u001b[38;5;241m-\u001b[39mred\u001b[38;5;241m-\u001b[39myellow\u001b[38;5;241m-\u001b[39mblack\u001b[38;5;241m-\u001b[39mwhite]\n\u001b[0;32m      2\u001b[0m items\u001b[38;5;241m.\u001b[39msort()\n",
      "\u001b[1;31mNameError\u001b[0m: name 'green' is not defined"
     ]
    }
   ],
   "source": [
    "\n",
    "items : [green-red-yellow-black-white]\n",
    "items.sort()"
   ]
  },
  {
   "cell_type": "markdown",
   "id": "f8612bbe",
   "metadata": {},
   "source": [
    "# Write a python function that accepts a string and calculate the number of upper case letters and lower case letters"
   ]
  },
  {
   "cell_type": "code",
   "execution_count": 19,
   "id": "202d38cc",
   "metadata": {},
   "outputs": [
    {
     "name": "stdout",
     "output_type": "stream",
     "text": [
      "1\n",
      "4\n"
     ]
    }
   ],
   "source": [
    "txt = 'Hello'\n",
    "up = 0\n",
    "lo = 0\n",
    "for item in txt:\n",
    "    status = item.isupper()\n",
    "    if status:\n",
    "        up = up + 1\n",
    "    else:\n",
    "        lo = lo + 1\n",
    "print(up)\n",
    "print(lo)\n",
    "    \n",
    "\n"
   ]
  },
  {
   "cell_type": "code",
   "execution_count": 22,
   "id": "de85ebd0",
   "metadata": {},
   "outputs": [
    {
     "data": {
      "text/plain": [
       "(1, 4)"
      ]
     },
     "execution_count": 22,
     "metadata": {},
     "output_type": "execute_result"
    }
   ],
   "source": [
    "def count_up_lo(txt):\n",
    "    up = 0\n",
    "    lo = 0\n",
    "    for item in txt:\n",
    "        status = item.isupper()\n",
    "        if status:\n",
    "            up = up + 1\n",
    "        else:\n",
    "            lo = lo + 1\n",
    "    return(up,lo)\n",
    "count_up_lo(txt)\n",
    "    "
   ]
  },
  {
   "cell_type": "markdown",
   "id": "4e176eba",
   "metadata": {},
   "source": [
    "# Write a python function that takes a list and returns a new list with unique elements of the first list"
   ]
  },
  {
   "cell_type": "code",
   "execution_count": null,
   "id": "7754dc53",
   "metadata": {},
   "outputs": [],
   "source": []
  },
  {
   "cell_type": "code",
   "execution_count": 15,
   "id": "e8ccac7e",
   "metadata": {},
   "outputs": [],
   "source": [
    "def find_unique(some_list):\n",
    "    unique = set(some_list)\n",
    "    unique_value_list = list(unique)\n",
    "    return unique_value_list\n",
    "    "
   ]
  },
  {
   "cell_type": "code",
   "execution_count": 16,
   "id": "31712931",
   "metadata": {},
   "outputs": [],
   "source": [
    "x =[2,2,1,4,5,4]"
   ]
  },
  {
   "cell_type": "code",
   "execution_count": 17,
   "id": "ce36cece",
   "metadata": {},
   "outputs": [
    {
     "data": {
      "text/plain": [
       "[1, 2, 4, 5]"
      ]
     },
     "execution_count": 17,
     "metadata": {},
     "output_type": "execute_result"
    }
   ],
   "source": [
    "find_unique(x)"
   ]
  },
  {
   "cell_type": "code",
   "execution_count": null,
   "id": "87f933d5",
   "metadata": {},
   "outputs": [],
   "source": []
  }
 ],
 "metadata": {
  "kernelspec": {
   "display_name": "Python 3 (ipykernel)",
   "language": "python",
   "name": "python3"
  },
  "language_info": {
   "codemirror_mode": {
    "name": "ipython",
    "version": 3
   },
   "file_extension": ".py",
   "mimetype": "text/x-python",
   "name": "python",
   "nbconvert_exporter": "python",
   "pygments_lexer": "ipython3",
   "version": "3.8.10"
  }
 },
 "nbformat": 4,
 "nbformat_minor": 5
}
