{
 "cells": [
  {
   "cell_type": "code",
   "execution_count": null,
   "id": "591eb7f5",
   "metadata": {},
   "outputs": [],
   "source": [
    "w = \"Welcome {} to {} Nepal\".format('my','country');\n",
    "    "
   ]
  },
  {
   "cell_type": "code",
   "execution_count": null,
   "id": "b8e40a7b",
   "metadata": {},
   "outputs": [],
   "source": [
    "w"
   ]
  },
  {
   "cell_type": "code",
   "execution_count": null,
   "id": "1efcd36a",
   "metadata": {},
   "outputs": [],
   "source": [
    "first_num = 60.5\n",
    "print('first_num before update = {}'.format(first_num))\n",
    "first_num = first_num + 1\n",
    "print ('first_num after update = {}'.format(first_num))"
   ]
  },
  {
   "cell_type": "code",
   "execution_count": null,
   "id": "f47ee1aa",
   "metadata": {},
   "outputs": [],
   "source": [
    "a ,b, c = 2,0.4, 2-3j"
   ]
  },
  {
   "cell_type": "code",
   "execution_count": null,
   "id": "816df44f",
   "metadata": {},
   "outputs": [],
   "source": [
    "a"
   ]
  },
  {
   "cell_type": "code",
   "execution_count": null,
   "id": "21a7b91a",
   "metadata": {},
   "outputs": [],
   "source": [
    "b"
   ]
  },
  {
   "cell_type": "code",
   "execution_count": null,
   "id": "4dde6cab",
   "metadata": {},
   "outputs": [],
   "source": [
    "c"
   ]
  },
  {
   "cell_type": "code",
   "execution_count": null,
   "id": "0b7aa22b",
   "metadata": {},
   "outputs": [],
   "source": [
    "num1 = 3\n",
    "num2 = 5\n",
    "\n",
    " "
   ]
  },
  {
   "cell_type": "code",
   "execution_count": null,
   "id": "8577f389",
   "metadata": {},
   "outputs": [],
   "source": [
    "num1 , num2 = num2, num1"
   ]
  },
  {
   "cell_type": "code",
   "execution_count": null,
   "id": "7494b51a",
   "metadata": {},
   "outputs": [],
   "source": [
    "num1"
   ]
  },
  {
   "cell_type": "code",
   "execution_count": null,
   "id": "64c2392a",
   "metadata": {},
   "outputs": [],
   "source": [
    "num2"
   ]
  },
  {
   "cell_type": "code",
   "execution_count": null,
   "id": "57565f98",
   "metadata": {},
   "outputs": [],
   "source": [
    "type(num1)"
   ]
  },
  {
   "cell_type": "code",
   "execution_count": 1,
   "id": "6131d74b",
   "metadata": {},
   "outputs": [
    {
     "name": "stdout",
     "output_type": "stream",
     "text": [
      "enter a number: 12\n",
      "even\n"
     ]
    }
   ],
   "source": [
    "num = int(input(\"enter a number: \"))\n",
    "\n",
    "if num%2 == 0:\n",
    "    \n",
    "    print(\"even\")\n",
    "    \n",
    "else:\n",
    "    \n",
    "    print(\"odd\")"
   ]
  },
  {
   "cell_type": "code",
   "execution_count": 6,
   "id": "79ea5bd3",
   "metadata": {},
   "outputs": [
    {
     "name": "stdout",
     "output_type": "stream",
     "text": [
      "Enter a number:25\n",
      "wecome 25\n"
     ]
    }
   ],
   "source": [
    "num = int(input('Enter a number:'))\n",
    "print(\"wecome {}\".format(num))"
   ]
  },
  {
   "cell_type": "code",
   "execution_count": 7,
   "id": "ff47531b",
   "metadata": {},
   "outputs": [
    {
     "name": "stdout",
     "output_type": "stream",
     "text": [
      "enter your name:shraddha\n",
      "wecome shraddha\n"
     ]
    }
   ],
   "source": [
    "a = input(\"enter your name:\")\n",
    "print(\"wecome {}\".format(a))\n",
    "\n"
   ]
  },
  {
   "cell_type": "code",
   "execution_count": 12,
   "id": "2022e388",
   "metadata": {},
   "outputs": [
    {
     "name": "stdout",
     "output_type": "stream",
     "text": [
      "enter a number:5\n",
      "The number 5 is odd\n"
     ]
    }
   ],
   "source": [
    "input_num = int(input('enter a number:'))\n",
    "\n",
    "if input_num %2 == 0:\n",
    "    print('The number{} is even'.format(input_num))\n",
    "else:\n",
    "    print('The number {} is odd'.format(input_num))"
   ]
  },
  {
   "cell_type": "code",
   "execution_count": 11,
   "id": "13c28843",
   "metadata": {},
   "outputs": [
    {
     "name": "stdout",
     "output_type": "stream",
     "text": [
      "enter a number:5\n",
      "enter a number:3\n",
      "The sun is 53\n"
     ]
    }
   ],
   "source": [
    "num1 = input(\"enter a number:\")\n",
    "num2 = input(\"enter a number:\")\n",
    "total = num1 + num2\n",
    "print(f'The sun is {total}')"
   ]
  },
  {
   "cell_type": "code",
   "execution_count": 16,
   "id": "bc654b27",
   "metadata": {},
   "outputs": [
    {
     "name": "stdout",
     "output_type": "stream",
     "text": [
      "ener a number:5\n",
      "positive\n"
     ]
    }
   ],
   "source": [
    "num =int(input(\"ener a number:\"))\n",
    "\n",
    "if num >=0:\n",
    "    print(\"positive\")\n",
    "else:\n",
    "    print(\"negstive\")"
   ]
  },
  {
   "cell_type": "code",
   "execution_count": 18,
   "id": "c0c8a085",
   "metadata": {},
   "outputs": [
    {
     "name": "stdout",
     "output_type": "stream",
     "text": [
      "Enter a number:5\n",
      "Hello\n"
     ]
    }
   ],
   "source": [
    "num = int(input(\"Enter a number:\"))\n",
    "\n",
    "if num%5 == 0:\n",
    "    print(\"Hello\")\n",
    "else:\n",
    "    print(\"Bye\")\n",
    "    "
   ]
  },
  {
   "cell_type": "markdown",
   "id": "409603fd",
   "metadata": {},
   "source": [
    "# Electricity bill\n"
   ]
  },
  {
   "cell_type": "code",
   "execution_count": 42,
   "id": "f0162ca9",
   "metadata": {},
   "outputs": [
    {
     "name": "stdout",
     "output_type": "stream",
     "text": [
      "enter the unit:100\n",
      "no charge\n"
     ]
    }
   ],
   "source": [
    "num = int(input(\"enter the unit:\"))\n",
    "if num == 100:\n",
    "    print(\"no charge\")\n",
    "elif num >100:\n",
    "    charge = num*5\n",
    "else num >200:\n",
    "    charge = num *10\n",
    "    \n",
    "         \n",
    "    \n",
    "    \n",
    "            \n",
    "            \n",
    "        "
   ]
  },
  {
   "cell_type": "code",
   "execution_count": 38,
   "id": "69a2e5d9",
   "metadata": {},
   "outputs": [
    {
     "data": {
      "text/plain": [
       "1750"
      ]
     },
     "execution_count": 38,
     "metadata": {},
     "output_type": "execute_result"
    }
   ],
   "source": [
    "charge"
   ]
  },
  {
   "cell_type": "code",
   "execution_count": 44,
   "id": "fcb73c73",
   "metadata": {},
   "outputs": [
    {
     "name": "stdout",
     "output_type": "stream",
     "text": [
      "enter a number:25\n",
      "positive\n",
      "odd\n"
     ]
    }
   ],
   "source": [
    "num =int(input(\"enter a number:\"))\n",
    "\n",
    "if num <0:\n",
    "    print(\"negative\")\n",
    "\n",
    "elif num>0:\n",
    "    print(\"positive\")\n",
    "    if num % 2==0:\n",
    "        Print(\"even\")\n",
    "    else:\n",
    "        print(\"odd\")\n",
    "     "
   ]
  },
  {
   "cell_type": "code",
   "execution_count": 46,
   "id": "7fdf6c0d",
   "metadata": {},
   "outputs": [],
   "source": [
    "s = 'shraddha'"
   ]
  },
  {
   "cell_type": "code",
   "execution_count": 47,
   "id": "1ec8ad75",
   "metadata": {},
   "outputs": [
    {
     "data": {
      "text/plain": [
       "'a'"
      ]
     },
     "execution_count": 47,
     "metadata": {},
     "output_type": "execute_result"
    }
   ],
   "source": [
    "s[-1]"
   ]
  },
  {
   "cell_type": "code",
   "execution_count": 48,
   "id": "7b059762",
   "metadata": {},
   "outputs": [
    {
     "data": {
      "text/plain": [
       "'h'"
      ]
     },
     "execution_count": 48,
     "metadata": {},
     "output_type": "execute_result"
    }
   ],
   "source": [
    "s[1]"
   ]
  },
  {
   "cell_type": "code",
   "execution_count": 49,
   "id": "0eadcdb8",
   "metadata": {},
   "outputs": [
    {
     "data": {
      "text/plain": [
       "range(0, 8)"
      ]
     },
     "execution_count": 49,
     "metadata": {},
     "output_type": "execute_result"
    }
   ],
   "source": [
    "range(0,len(s),1)"
   ]
  },
  {
   "cell_type": "code",
   "execution_count": 56,
   "id": "1bf645f6",
   "metadata": {},
   "outputs": [
    {
     "name": "stdout",
     "output_type": "stream",
     "text": [
      "The index is 0and the letteris s\n",
      "The index is 1and the letteris h\n",
      "The index is 2and the letteris r\n",
      "The index is 3and the letteris a\n",
      "The index is 4and the letteris d\n",
      "The index is 5and the letteris d\n",
      "The index is 6and the letteris h\n",
      "The index is 7and the letteris a\n"
     ]
    }
   ],
   "source": [
    "s = 'shraddha'\n",
    "for index in range(0,len(s),1):\n",
    "    letter = s[index]\n",
    "    print(f\"The index is {index}and the letteris {letter}\")"
   ]
  },
  {
   "cell_type": "code",
   "execution_count": 55,
   "id": "12111e53",
   "metadata": {},
   "outputs": [
    {
     "data": {
      "text/plain": [
       "'a'"
      ]
     },
     "execution_count": 55,
     "metadata": {},
     "output_type": "execute_result"
    }
   ],
   "source": [
    "letter"
   ]
  },
  {
   "cell_type": "code",
   "execution_count": 57,
   "id": "a7538983",
   "metadata": {},
   "outputs": [],
   "source": [
    "s = 'shraddha'\n",
    "for index in range(-1,len(s),-1):\n",
    "    letter = s[index]\n",
    "    print(f\"The index is {index}and the letter is {letter}\")"
   ]
  },
  {
   "cell_type": "code",
   "execution_count": null,
   "id": "cc613f5d",
   "metadata": {},
   "outputs": [],
   "source": []
  }
 ],
 "metadata": {
  "kernelspec": {
   "display_name": "Python 3 (ipykernel)",
   "language": "python",
   "name": "python3"
  },
  "language_info": {
   "codemirror_mode": {
    "name": "ipython",
    "version": 3
   },
   "file_extension": ".py",
   "mimetype": "text/x-python",
   "name": "python",
   "nbconvert_exporter": "python",
   "pygments_lexer": "ipython3",
   "version": "3.8.10"
  }
 },
 "nbformat": 4,
 "nbformat_minor": 5
}
