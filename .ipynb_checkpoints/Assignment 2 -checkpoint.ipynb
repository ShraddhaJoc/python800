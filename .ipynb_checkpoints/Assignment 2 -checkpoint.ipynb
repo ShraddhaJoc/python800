{
 "cells": [
  {
   "cell_type": "markdown",
   "id": "887cc773",
   "metadata": {},
   "source": [
    "# The volume of a sphere with radius r is 4/3 π × r³. What is the volume of a sphere with radius 57"
   ]
  },
  {
   "cell_type": "code",
   "execution_count": 4,
   "id": "cdd66aa8",
   "metadata": {},
   "outputs": [],
   "source": [
    "radius = 57"
   ]
  },
  {
   "cell_type": "code",
   "execution_count": 5,
   "id": "efe4c50f",
   "metadata": {},
   "outputs": [],
   "source": [
    "volume = 4/3 * 3.14159 * 57**3\n"
   ]
  },
  {
   "cell_type": "code",
   "execution_count": 6,
   "id": "05f60abd",
   "metadata": {},
   "outputs": [
    {
     "data": {
      "text/plain": [
       "775733.9691599999"
      ]
     },
     "execution_count": 6,
     "metadata": {},
     "output_type": "execute_result"
    }
   ],
   "source": [
    "volume"
   ]
  },
  {
   "cell_type": "markdown",
   "id": "b5970813",
   "metadata": {},
   "source": [
    "# Write a program to check if the given input is 10 or not. if it is 10 print the number"
   ]
  },
  {
   "cell_type": "code",
   "execution_count": 4,
   "id": "a8da66b4",
   "metadata": {},
   "outputs": [
    {
     "name": "stdout",
     "output_type": "stream",
     "text": [
      "Enter a number:10\n"
     ]
    }
   ],
   "source": [
    "a = int(input(\"Enter a number:\"))\n"
   ]
  },
  {
   "cell_type": "code",
   "execution_count": 5,
   "id": "0610d658",
   "metadata": {},
   "outputs": [
    {
     "name": "stdout",
     "output_type": "stream",
     "text": [
      "10\n"
     ]
    }
   ],
   "source": [
    "if a == 10:\n",
    "    print(a)"
   ]
  },
  {
   "cell_type": "markdown",
   "id": "688ea837",
   "metadata": {},
   "source": [
    "# Write a program to check wether a person is eligible for voting or not (accept age from user) "
   ]
  },
  {
   "cell_type": "code",
   "execution_count": 9,
   "id": "2b9177dc",
   "metadata": {},
   "outputs": [
    {
     "name": "stdout",
     "output_type": "stream",
     "text": [
      "Enter your age18\n",
      "not eligible\n"
     ]
    }
   ],
   "source": [
    "a = int(input(\"Enter your age\"))\n",
    "if a > 18:\n",
    "    print(\"Eligible\")\n",
    "else:\n",
    "    print(\"not eligible\")\n",
    "    \n",
    "        "
   ]
  },
  {
   "cell_type": "markdown",
   "id": "9d8c9534",
   "metadata": {},
   "source": [
    "# Write a program to display \"Hello\" if a number entered by user is a multiple of five, otherwise print \"Bye\""
   ]
  },
  {
   "cell_type": "code",
   "execution_count": 1,
   "id": "bcc85931",
   "metadata": {},
   "outputs": [
    {
     "name": "stdout",
     "output_type": "stream",
     "text": [
      "Enter a number25\n",
      "Hello\n"
     ]
    }
   ],
   "source": [
    "a = int(input(\"Enter a number\"))\n",
    "if a %5 == 0:\n",
    "    print(\"Hello\")\n",
    "else:\n",
    "    print(\"Bye\")"
   ]
  },
  {
   "cell_type": "code",
   "execution_count": 2,
   "id": "c966341e",
   "metadata": {},
   "outputs": [
    {
     "name": "stdout",
     "output_type": "stream",
     "text": [
      "Enter a number21\n",
      "Bye\n"
     ]
    }
   ],
   "source": [
    "a = int(input(\"Enter a number\"))\n",
    "if a %5 == 0:\n",
    "    print(\"Hello\")\n",
    "else:\n",
    "    print(\"Bye\")"
   ]
  },
  {
   "cell_type": "code",
   "execution_count": null,
   "id": "53ab9d4a",
   "metadata": {},
   "outputs": [],
   "source": []
  }
 ],
 "metadata": {
  "kernelspec": {
   "display_name": "Python 3 (ipykernel)",
   "language": "python",
   "name": "python3"
  },
  "language_info": {
   "codemirror_mode": {
    "name": "ipython",
    "version": 3
   },
   "file_extension": ".py",
   "mimetype": "text/x-python",
   "name": "python",
   "nbconvert_exporter": "python",
   "pygments_lexer": "ipython3",
   "version": "3.8.10"
  }
 },
 "nbformat": 4,
 "nbformat_minor": 5
}
