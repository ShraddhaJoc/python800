{
 "cells": [
  {
   "cell_type": "markdown",
   "id": "350f7582",
   "metadata": {},
   "source": [
    "# Given a list WAP that replaces everything with oranges if item is not banana. If it is banana keep it as it is"
   ]
  },
  {
   "cell_type": "code",
   "execution_count": 1,
   "id": "c708946f",
   "metadata": {},
   "outputs": [],
   "source": [
    "fruits = ['apple','banana','cherry','kiwi','mango']"
   ]
  },
  {
   "cell_type": "code",
   "execution_count": 2,
   "id": "f2f0ab6f",
   "metadata": {},
   "outputs": [
    {
     "name": "stdout",
     "output_type": "stream",
     "text": [
      "['orange', 'banana', 'orange', 'orange', 'orange']\n"
     ]
    }
   ],
   "source": [
    "newlist =[x if x == 'banana' else 'orange' for x in fruits]\n",
    "print(newlist)"
   ]
  },
  {
   "cell_type": "markdown",
   "id": "a9b26d82",
   "metadata": {},
   "source": [
    "# Only accept the item that are not apple from the list"
   ]
  },
  {
   "cell_type": "code",
   "execution_count": 5,
   "id": "f75e6df9",
   "metadata": {},
   "outputs": [],
   "source": [
    "fruits =['apple','banana','cherry','kiwi','mango']\n",
    "fruits.remove(\"apple\")\n"
   ]
  },
  {
   "cell_type": "code",
   "execution_count": 6,
   "id": "9b1c3a69",
   "metadata": {},
   "outputs": [
    {
     "data": {
      "text/plain": [
       "['banana', 'cherry', 'kiwi', 'mango']"
      ]
     },
     "execution_count": 6,
     "metadata": {},
     "output_type": "execute_result"
    }
   ],
   "source": [
    "fruits"
   ]
  },
  {
   "cell_type": "code",
   "execution_count": null,
   "id": "c2280c0b",
   "metadata": {},
   "outputs": [],
   "source": []
  }
 ],
 "metadata": {
  "kernelspec": {
   "display_name": "Python 3 (ipykernel)",
   "language": "python",
   "name": "python3"
  },
  "language_info": {
   "codemirror_mode": {
    "name": "ipython",
    "version": 3
   },
   "file_extension": ".py",
   "mimetype": "text/x-python",
   "name": "python",
   "nbconvert_exporter": "python",
   "pygments_lexer": "ipython3",
   "version": "3.8.10"
  }
 },
 "nbformat": 4,
 "nbformat_minor": 5
}
