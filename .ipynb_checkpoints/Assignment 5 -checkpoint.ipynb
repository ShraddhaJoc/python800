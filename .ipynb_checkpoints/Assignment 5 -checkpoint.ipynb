{
 "cells": [
  {
   "cell_type": "markdown",
   "id": "05ed3df2",
   "metadata": {},
   "source": [
    "# Using string manipulation techniques extract fruits name from txt"
   ]
  },
  {
   "cell_type": "code",
   "execution_count": null,
   "id": "8f66d54f",
   "metadata": {},
   "outputs": [],
   "source": [
    "txt = \"I Like Orange Apple Banana and Kiwi\""
   ]
  },
  {
   "cell_type": "code",
   "execution_count": null,
   "id": "e195e997",
   "metadata": {},
   "outputs": [],
   "source": [
    "txt[7:]"
   ]
  },
  {
   "cell_type": "markdown",
   "id": "9809816e",
   "metadata": {},
   "source": [
    "# WAP to check if string 2 is the rotation of string 1 or not"
   ]
  },
  {
   "cell_type": "code",
   "execution_count": 1,
   "id": "f31f3218",
   "metadata": {},
   "outputs": [],
   "source": [
    "string1 =\"NEPALINDIACHINA\"\n",
    "string2 =\"indiachinanepal\""
   ]
  },
  {
   "cell_type": "code",
   "execution_count": 2,
   "id": "c82013ac",
   "metadata": {},
   "outputs": [],
   "source": [
    "Length_string1 = len(string1)\n",
    "Length_string2 = len(string2)"
   ]
  },
  {
   "cell_type": "code",
   "execution_count": null,
   "id": "ca8f9324",
   "metadata": {},
   "outputs": [],
   "source": [
    "if len(string1) == len(string2)"
   ]
  }
 ],
 "metadata": {
  "kernelspec": {
   "display_name": "Python 3 (ipykernel)",
   "language": "python",
   "name": "python3"
  },
  "language_info": {
   "codemirror_mode": {
    "name": "ipython",
    "version": 3
   },
   "file_extension": ".py",
   "mimetype": "text/x-python",
   "name": "python",
   "nbconvert_exporter": "python",
   "pygments_lexer": "ipython3",
   "version": "3.8.10"
  }
 },
 "nbformat": 4,
 "nbformat_minor": 5
}
