{
 "cells": [
  {
   "cell_type": "markdown",
   "id": "ce2fd957",
   "metadata": {},
   "source": [
    "# List : collection of item under one variable name "
   ]
  },
  {
   "cell_type": "code",
   "execution_count": 1,
   "id": "b3a8c422",
   "metadata": {},
   "outputs": [],
   "source": [
    "cars = ['Mercedes' , 'BMW' , 'Audi']"
   ]
  },
  {
   "cell_type": "code",
   "execution_count": 2,
   "id": "d3702f46",
   "metadata": {},
   "outputs": [
    {
     "data": {
      "text/plain": [
       "['Mercedes', 'BMW', 'Audi']"
      ]
     },
     "execution_count": 2,
     "metadata": {},
     "output_type": "execute_result"
    }
   ],
   "source": [
    "cars"
   ]
  },
  {
   "cell_type": "code",
   "execution_count": 3,
   "id": "3f3d00d1",
   "metadata": {},
   "outputs": [
    {
     "data": {
      "text/plain": [
       "list"
      ]
     },
     "execution_count": 3,
     "metadata": {},
     "output_type": "execute_result"
    }
   ],
   "source": [
    "type(cars)"
   ]
  },
  {
   "cell_type": "markdown",
   "id": "fe617e63",
   "metadata": {},
   "source": [
    "# Creating empty list in python "
   ]
  },
  {
   "cell_type": "code",
   "execution_count": 4,
   "id": "63b736c6",
   "metadata": {},
   "outputs": [],
   "source": [
    "empty_list = []"
   ]
  },
  {
   "cell_type": "code",
   "execution_count": 5,
   "id": "06b3dfbd",
   "metadata": {},
   "outputs": [
    {
     "data": {
      "text/plain": [
       "[]"
      ]
     },
     "execution_count": 5,
     "metadata": {},
     "output_type": "execute_result"
    }
   ],
   "source": [
    "empty_list"
   ]
  },
  {
   "cell_type": "code",
   "execution_count": 6,
   "id": "e928fd2a",
   "metadata": {},
   "outputs": [
    {
     "data": {
      "text/plain": [
       "list"
      ]
     },
     "execution_count": 6,
     "metadata": {},
     "output_type": "execute_result"
    }
   ],
   "source": [
    "type(empty_list)"
   ]
  },
  {
   "cell_type": "code",
   "execution_count": 7,
   "id": "52c30df5",
   "metadata": {},
   "outputs": [],
   "source": [
    "new_empty_list = list()  # create empty list using list() constructor"
   ]
  },
  {
   "cell_type": "code",
   "execution_count": 8,
   "id": "89914465",
   "metadata": {},
   "outputs": [
    {
     "data": {
      "text/plain": [
       "list"
      ]
     },
     "execution_count": 8,
     "metadata": {},
     "output_type": "execute_result"
    }
   ],
   "source": [
    "type(new_empty_list)"
   ]
  },
  {
   "cell_type": "code",
   "execution_count": 9,
   "id": "3ba03816",
   "metadata": {},
   "outputs": [
    {
     "data": {
      "text/plain": [
       "[]"
      ]
     },
     "execution_count": 9,
     "metadata": {},
     "output_type": "execute_result"
    }
   ],
   "source": [
    "new_empty_list"
   ]
  },
  {
   "cell_type": "markdown",
   "id": "049a4937",
   "metadata": {},
   "source": [
    "# list can store multiple data type\n"
   ]
  },
  {
   "cell_type": "code",
   "execution_count": 10,
   "id": "258e07f0",
   "metadata": {},
   "outputs": [],
   "source": [
    "list = [1,1.6 , True ,\"computer\"]"
   ]
  },
  {
   "cell_type": "code",
   "execution_count": 11,
   "id": "281ca21e",
   "metadata": {},
   "outputs": [
    {
     "data": {
      "text/plain": [
       "[1, 1.6, True, 'computer']"
      ]
     },
     "execution_count": 11,
     "metadata": {},
     "output_type": "execute_result"
    }
   ],
   "source": [
    "list"
   ]
  },
  {
   "cell_type": "markdown",
   "id": "a8bbc3bf",
   "metadata": {},
   "source": [
    "# indexing and slicing in list"
   ]
  },
  {
   "cell_type": "code",
   "execution_count": 12,
   "id": "d33e3166",
   "metadata": {},
   "outputs": [],
   "source": [
    "cars = ['BMW', 'Mercedes', 'Audi', 'Nissan', 'TATA', 'Tesla']"
   ]
  },
  {
   "cell_type": "code",
   "execution_count": 13,
   "id": "a25cd6f7",
   "metadata": {},
   "outputs": [
    {
     "data": {
      "text/plain": [
       "['BMW', 'Mercedes', 'Audi', 'Nissan', 'TATA', 'Tesla']"
      ]
     },
     "execution_count": 13,
     "metadata": {},
     "output_type": "execute_result"
    }
   ],
   "source": [
    "cars"
   ]
  },
  {
   "cell_type": "code",
   "execution_count": 14,
   "id": "1975b28e",
   "metadata": {},
   "outputs": [
    {
     "data": {
      "text/plain": [
       "'BMW'"
      ]
     },
     "execution_count": 14,
     "metadata": {},
     "output_type": "execute_result"
    }
   ],
   "source": [
    "cars[0]"
   ]
  },
  {
   "cell_type": "code",
   "execution_count": 15,
   "id": "264e5d1c",
   "metadata": {},
   "outputs": [
    {
     "data": {
      "text/plain": [
       "'Tesla'"
      ]
     },
     "execution_count": 15,
     "metadata": {},
     "output_type": "execute_result"
    }
   ],
   "source": [
    "cars[5] # indexing"
   ]
  },
  {
   "cell_type": "code",
   "execution_count": 17,
   "id": "cd8aa5a1",
   "metadata": {},
   "outputs": [
    {
     "data": {
      "text/plain": [
       "['Audi', 'Nissan', 'TATA']"
      ]
     },
     "execution_count": 17,
     "metadata": {},
     "output_type": "execute_result"
    }
   ],
   "source": [
    "cars[2:5] # slicing"
   ]
  },
  {
   "cell_type": "code",
   "execution_count": 18,
   "id": "ba31ac92",
   "metadata": {},
   "outputs": [
    {
     "data": {
      "text/plain": [
       "['Audi', 'Nissan', 'TATA', 'Tesla']"
      ]
     },
     "execution_count": 18,
     "metadata": {},
     "output_type": "execute_result"
    }
   ],
   "source": [
    "cars[2:] # slicing"
   ]
  },
  {
   "cell_type": "code",
   "execution_count": 19,
   "id": "419b6243",
   "metadata": {},
   "outputs": [
    {
     "data": {
      "text/plain": [
       "str"
      ]
     },
     "execution_count": 19,
     "metadata": {},
     "output_type": "execute_result"
    }
   ],
   "source": [
    "type(cars[0])"
   ]
  },
  {
   "cell_type": "markdown",
   "id": "bd6efe74",
   "metadata": {},
   "source": [
    "# Negative indexing "
   ]
  },
  {
   "cell_type": "code",
   "execution_count": 20,
   "id": "7022a148",
   "metadata": {},
   "outputs": [],
   "source": [
    "cars = ['BMW', 'Mercedes', 'Audi', 'Nissan', 'TATA', 'Tesla']"
   ]
  },
  {
   "cell_type": "code",
   "execution_count": 21,
   "id": "085b505e",
   "metadata": {},
   "outputs": [
    {
     "data": {
      "text/plain": [
       "'Tesla'"
      ]
     },
     "execution_count": 21,
     "metadata": {},
     "output_type": "execute_result"
    }
   ],
   "source": [
    "cars[-1] "
   ]
  },
  {
   "cell_type": "code",
   "execution_count": 22,
   "id": "bf0d7f8f",
   "metadata": {},
   "outputs": [
    {
     "data": {
      "text/plain": [
       "'TATA'"
      ]
     },
     "execution_count": 22,
     "metadata": {},
     "output_type": "execute_result"
    }
   ],
   "source": [
    "cars[-2]"
   ]
  },
  {
   "cell_type": "code",
   "execution_count": 23,
   "id": "56dad8dd",
   "metadata": {},
   "outputs": [
    {
     "data": {
      "text/plain": [
       "'BMW'"
      ]
     },
     "execution_count": 23,
     "metadata": {},
     "output_type": "execute_result"
    }
   ],
   "source": [
    "cars[-6]"
   ]
  },
  {
   "cell_type": "markdown",
   "id": "9c4dde7f",
   "metadata": {},
   "source": [
    "# Loops in python list "
   ]
  },
  {
   "cell_type": "code",
   "execution_count": 30,
   "id": "bb54d9c7",
   "metadata": {},
   "outputs": [
    {
     "ename": "SyntaxError",
     "evalue": "invalid syntax (4182600353.py, line 3)",
     "output_type": "error",
     "traceback": [
      "\u001b[1;36m  Cell \u001b[1;32mIn[30], line 3\u001b[1;36m\u001b[0m\n\u001b[1;33m    print(cars[index])\u001b[0m\n\u001b[1;37m    ^\u001b[0m\n\u001b[1;31mSyntaxError\u001b[0m\u001b[1;31m:\u001b[0m invalid syntax\n"
     ]
    }
   ],
   "source": [
    "cars = ['BMW', 'Mercedes', 'Audi', 'Nissan', 'TATA', 'Tesla']\n",
    "for index in range(0,len(cars)\n",
    "    print(cars[index])\n",
    "    \n",
    "                   "
   ]
  },
  {
   "cell_type": "code",
   "execution_count": 34,
   "id": "0b0ecb15",
   "metadata": {},
   "outputs": [
    {
     "name": "stdout",
     "output_type": "stream",
     "text": [
      "the index 0 in car  BMW\n",
      "the index 1 in car  Mercedes\n",
      "the index 2 in car  Audi\n",
      "the index 3 in car  Nissan\n",
      "the index 4 in car  TATA\n",
      "the index 5 in car  Tesla\n"
     ]
    }
   ],
   "source": [
    "cars = ['BMW', 'Mercedes', 'Audi', 'Nissan', 'TATA', 'Tesla']\n",
    "for i in range(0,6):\n",
    "    print(f'the index {i} in car ',cars[i])"
   ]
  },
  {
   "cell_type": "code",
   "execution_count": 32,
   "id": "b5e7428e",
   "metadata": {},
   "outputs": [
    {
     "data": {
      "text/plain": [
       "'BMW'"
      ]
     },
     "execution_count": 32,
     "metadata": {},
     "output_type": "execute_result"
    }
   ],
   "source": [
    "cars[0]"
   ]
  },
  {
   "cell_type": "code",
   "execution_count": null,
   "id": "41761b85",
   "metadata": {},
   "outputs": [],
   "source": [
    "cars = ['BMW', 'Mercedes', 'Audi', 'Nissan', 'TATA', 'Tesla']\n",
    "for index in range(len(cars)):\n",
    "    car_name = cars[index]\n",
    "    print\n"
   ]
  },
  {
   "cell_type": "markdown",
   "id": "96c6fe04",
   "metadata": {},
   "source": [
    "# alternative loop"
   ]
  },
  {
   "cell_type": "code",
   "execution_count": 36,
   "id": "c529b5e6",
   "metadata": {},
   "outputs": [
    {
     "name": "stdout",
     "output_type": "stream",
     "text": [
      "BMW\n",
      "Mercedes\n",
      "Audi\n",
      "Nissan\n",
      "TATA\n",
      "Tesla\n"
     ]
    }
   ],
   "source": [
    "cars = ['BMW', 'Mercedes', 'Audi', 'Nissan', 'TATA', 'Tesla']\n",
    "for items in cars:\n",
    "    print(items)"
   ]
  },
  {
   "cell_type": "markdown",
   "id": "93bb15d1",
   "metadata": {},
   "source": [
    "# WAP to find mean of given list "
   ]
  },
  {
   "cell_type": "code",
   "execution_count": 58,
   "id": "91417a9d",
   "metadata": {},
   "outputs": [],
   "source": [
    "num = [1,22, 1,6,2,3,11,0,9]\n",
    "total = 0\n",
    "for index in range(len(num)):\n",
    "    \n",
    "    total = total + num[index]\n",
    "mean = total/len(num)\n",
    "    \n"
   ]
  },
  {
   "cell_type": "code",
   "execution_count": 59,
   "id": "9b108460",
   "metadata": {},
   "outputs": [
    {
     "data": {
      "text/plain": [
       "6.111111111111111"
      ]
     },
     "execution_count": 59,
     "metadata": {},
     "output_type": "execute_result"
    }
   ],
   "source": [
    "mean"
   ]
  },
  {
   "cell_type": "code",
   "execution_count": 60,
   "id": "32992006",
   "metadata": {},
   "outputs": [
    {
     "data": {
      "text/plain": [
       "6.111111111111111"
      ]
     },
     "execution_count": 60,
     "metadata": {},
     "output_type": "execute_result"
    }
   ],
   "source": [
    "sum(num)/len(num)"
   ]
  },
  {
   "cell_type": "code",
   "execution_count": 63,
   "id": "3fc3ac7a",
   "metadata": {},
   "outputs": [],
   "source": [
    "total = 0\n",
    "for items in num:\n",
    "    total= total + items\n",
    "mean= total/len(num)"
   ]
  },
  {
   "cell_type": "code",
   "execution_count": 64,
   "id": "7c4d2075",
   "metadata": {},
   "outputs": [
    {
     "data": {
      "text/plain": [
       "6.111111111111111"
      ]
     },
     "execution_count": 64,
     "metadata": {},
     "output_type": "execute_result"
    }
   ],
   "source": [
    "mean"
   ]
  },
  {
   "cell_type": "code",
   "execution_count": null,
   "id": "84cfe40f",
   "metadata": {},
   "outputs": [],
   "source": [
    "total = 0\n",
    "for items in num:\n",
    "    total= total + items\n",
    "mean= total/len(num)"
   ]
  },
  {
   "cell_type": "markdown",
   "id": "23143648",
   "metadata": {},
   "source": [
    "# Membership operator in python (in and not in are membership operators)"
   ]
  },
  {
   "cell_type": "code",
   "execution_count": 65,
   "id": "a73cdc19",
   "metadata": {},
   "outputs": [],
   "source": [
    "cars = ['BMW', 'Mercedes', 'Audi', 'Nissan', 'TATA', 'Tesla']"
   ]
  },
  {
   "cell_type": "code",
   "execution_count": 66,
   "id": "05111b35",
   "metadata": {},
   "outputs": [
    {
     "data": {
      "text/plain": [
       "True"
      ]
     },
     "execution_count": 66,
     "metadata": {},
     "output_type": "execute_result"
    }
   ],
   "source": [
    "\"TATA\" in cars"
   ]
  },
  {
   "cell_type": "code",
   "execution_count": 67,
   "id": "0ae899bf",
   "metadata": {},
   "outputs": [
    {
     "data": {
      "text/plain": [
       "False"
      ]
     },
     "execution_count": 67,
     "metadata": {},
     "output_type": "execute_result"
    }
   ],
   "source": [
    "\"Fortuner\"in cars"
   ]
  },
  {
   "cell_type": "code",
   "execution_count": 68,
   "id": "bb1266f8",
   "metadata": {},
   "outputs": [
    {
     "data": {
      "text/plain": [
       "True"
      ]
     },
     "execution_count": 68,
     "metadata": {},
     "output_type": "execute_result"
    }
   ],
   "source": [
    "\"Fortuner\" not in cars"
   ]
  },
  {
   "cell_type": "code",
   "execution_count": null,
   "id": "fa32c3df",
   "metadata": {},
   "outputs": [],
   "source": []
  }
 ],
 "metadata": {
  "kernelspec": {
   "display_name": "Python 3 (ipykernel)",
   "language": "python",
   "name": "python3"
  },
  "language_info": {
   "codemirror_mode": {
    "name": "ipython",
    "version": 3
   },
   "file_extension": ".py",
   "mimetype": "text/x-python",
   "name": "python",
   "nbconvert_exporter": "python",
   "pygments_lexer": "ipython3",
   "version": "3.8.10"
  }
 },
 "nbformat": 4,
 "nbformat_minor": 5
}
