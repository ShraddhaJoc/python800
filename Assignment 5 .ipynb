{
 "cells": [
  {
   "cell_type": "markdown",
   "id": "d6da53ec",
   "metadata": {},
   "source": [
    "# Using string manipulation techniques extract fruits name from txt"
   ]
  },
  {
   "cell_type": "code",
   "execution_count": 4,
   "id": "f8d042c5",
   "metadata": {},
   "outputs": [],
   "source": [
    "txt = \"I Like Orange Apple Banana and Kiwi\""
   ]
  },
  {
   "cell_type": "code",
   "execution_count": 5,
   "id": "266aeb9f",
   "metadata": {},
   "outputs": [
    {
     "data": {
      "text/plain": [
       "'Orange Apple Banana and Kiwi'"
      ]
     },
     "execution_count": 5,
     "metadata": {},
     "output_type": "execute_result"
    }
   ],
   "source": [
    "txt[7:]"
   ]
  },
  {
   "cell_type": "markdown",
   "id": "4c46e60e",
   "metadata": {},
   "source": [
    "# WAP to check if string 2 is the rotation of string 1 or not"
   ]
  },
  {
   "cell_type": "code",
   "execution_count": 1,
   "id": "a753c40d",
   "metadata": {},
   "outputs": [],
   "source": [
    "string1 =\"NEPALINDIACHINA\"\n",
    "string2 =\"indiachinanepal\""
   ]
  },
  {
   "cell_type": "code",
   "execution_count": 2,
   "id": "2f85834a",
   "metadata": {},
   "outputs": [],
   "source": [
    "Length_string1 = len(string1)\n",
    "Length_string2 = len(string2)"
   ]
  },
  {
   "cell_type": "code",
   "execution_count": null,
   "id": "c5899884",
   "metadata": {},
   "outputs": [],
   "source": [
    "if len(string1) == len(string2)"
   ]
  }
 ],
 "metadata": {
  "kernelspec": {
   "display_name": "Python 3 (ipykernel)",
   "language": "python",
   "name": "python3"
  },
  "language_info": {
   "codemirror_mode": {
    "name": "ipython",
    "version": 3
   },
   "file_extension": ".py",
   "mimetype": "text/x-python",
   "name": "python",
   "nbconvert_exporter": "python",
   "pygments_lexer": "ipython3",
   "version": "3.8.10"
  }
 },
 "nbformat": 4,
 "nbformat_minor": 5
}
