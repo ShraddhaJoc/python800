{
 "cells": [
  {
   "cell_type": "markdown",
   "id": "95738e6e",
   "metadata": {},
   "source": [
    "# functions\n",
    "syntax:\n",
    "\n",
    "```python\n",
    "\n",
    "def function_name(argument):\n",
    "    # function body\n",
    "    return expression\n",
    "\n",
    "```"
   ]
  },
  {
   "cell_type": "code",
   "execution_count": 1,
   "id": "7ff5c0f1",
   "metadata": {},
   "outputs": [
    {
     "name": "stdout",
     "output_type": "stream",
     "text": [
      "8\n"
     ]
    }
   ],
   "source": [
    "a= 5 \n",
    "b= 3\n",
    "c= a+b\n",
    "print(c)"
   ]
  },
  {
   "cell_type": "code",
   "execution_count": 2,
   "id": "555f378b",
   "metadata": {},
   "outputs": [],
   "source": [
    "def add_num():\n",
    "    a= 5 \n",
    "    b= 3\n",
    "    c= a+b\n",
    "    print(c)\n",
    "    "
   ]
  },
  {
   "cell_type": "code",
   "execution_count": 3,
   "id": "49a8798b",
   "metadata": {},
   "outputs": [
    {
     "name": "stdout",
     "output_type": "stream",
     "text": [
      "8\n"
     ]
    }
   ],
   "source": [
    "add_num()"
   ]
  },
  {
   "cell_type": "code",
   "execution_count": 4,
   "id": "cb246c8b",
   "metadata": {},
   "outputs": [],
   "source": [
    "def add_num(a,b): # a, b are arguments or parameters passed by user to a function\n",
    "    c= a+b\n",
    "    \n",
    "    print(c)\n",
    "    "
   ]
  },
  {
   "cell_type": "code",
   "execution_count": 5,
   "id": "d360f9f6",
   "metadata": {},
   "outputs": [
    {
     "name": "stdout",
     "output_type": "stream",
     "text": [
      "17\n"
     ]
    }
   ],
   "source": [
    "add_num(a=8 , b = 9)"
   ]
  },
  {
   "cell_type": "code",
   "execution_count": 6,
   "id": "37346ca6",
   "metadata": {},
   "outputs": [
    {
     "name": "stdout",
     "output_type": "stream",
     "text": [
      "18\n"
     ]
    }
   ],
   "source": [
    "num = add_num(a= 9 , b = 9)"
   ]
  },
  {
   "cell_type": "code",
   "execution_count": 7,
   "id": "28f3e436",
   "metadata": {},
   "outputs": [],
   "source": [
    "num # not returned anything -- function return nothing"
   ]
  },
  {
   "cell_type": "markdown",
   "id": "ccf182f5",
   "metadata": {},
   "source": [
    "# return statement in function "
   ]
  },
  {
   "cell_type": "code",
   "execution_count": 9,
   "id": "e018b5c0",
   "metadata": {},
   "outputs": [],
   "source": [
    "def add_num(a,b): # a, b are arguments or parameters passed by user to a function\n",
    "    c= a+b\n",
    "    \n",
    "    return c # return statement returns a expression"
   ]
  },
  {
   "cell_type": "code",
   "execution_count": 10,
   "id": "d764d9fc",
   "metadata": {},
   "outputs": [],
   "source": [
    "total = add_num (a= 9 , b = 9)"
   ]
  },
  {
   "cell_type": "code",
   "execution_count": 11,
   "id": "74999be9",
   "metadata": {},
   "outputs": [
    {
     "data": {
      "text/plain": [
       "18"
      ]
     },
     "execution_count": 11,
     "metadata": {},
     "output_type": "execute_result"
    }
   ],
   "source": [
    "total"
   ]
  },
  {
   "cell_type": "code",
   "execution_count": 12,
   "id": "8d363a9d",
   "metadata": {},
   "outputs": [
    {
     "data": {
      "text/plain": [
       "90"
      ]
     },
     "execution_count": 12,
     "metadata": {},
     "output_type": "execute_result"
    }
   ],
   "source": [
    "total* 5"
   ]
  },
  {
   "cell_type": "markdown",
   "id": "e588610d",
   "metadata": {},
   "source": [
    "Calculate the volume of sphere  v= 4/3 pi r**3\n",
    "\n",
    "$$volume = \\frac{4}{3} \\pi r^3$$"
   ]
  },
  {
   "cell_type": "code",
   "execution_count": 14,
   "id": "33d171dc",
   "metadata": {},
   "outputs": [],
   "source": [
    "def find_volume(r):\n",
    "    volume = 4/3 * 3.14 * r**3\n",
    "    return volume"
   ]
  },
  {
   "cell_type": "code",
   "execution_count": 15,
   "id": "69fea857",
   "metadata": {},
   "outputs": [
    {
     "name": "stdout",
     "output_type": "stream",
     "text": [
      "enter radius:5\n",
      "523.3333333333334\n"
     ]
    }
   ],
   "source": [
    "r = float(input(\"enter radius:\"))\n",
    "volume = find_volume(r)\n",
    "print(volume)"
   ]
  },
  {
   "cell_type": "code",
   "execution_count": 16,
   "id": "25701b19",
   "metadata": {},
   "outputs": [
    {
     "data": {
      "text/plain": [
       "3.141592653589793"
      ]
     },
     "execution_count": 16,
     "metadata": {},
     "output_type": "execute_result"
    }
   ],
   "source": [
    "import math\n",
    "math.pi"
   ]
  },
  {
   "cell_type": "markdown",
   "id": "54be8083",
   "metadata": {},
   "source": [
    "# eligibility to vote \n"
   ]
  },
  {
   "cell_type": "code",
   "execution_count": 17,
   "id": "02faffa2",
   "metadata": {},
   "outputs": [
    {
     "name": "stdout",
     "output_type": "stream",
     "text": [
      "Enter your age:12\n",
      "you are not eligible to vote\n"
     ]
    }
   ],
   "source": [
    "def check_eligibility(age):\n",
    "    if age>= 18:\n",
    "        return True\n",
    "    else:\n",
    "        return False\n",
    "\n",
    "age = int(input('Enter your age:'))\n",
    "\n",
    "status = check_eligibility(age)\n",
    "\n",
    "if status:\n",
    "    print('you are eligible to vote')\n",
    "else:\n",
    "    print('you are not eligible to vote')\n",
    "\n",
    "\n"
   ]
  },
  {
   "cell_type": "code",
   "execution_count": 19,
   "id": "204ec445",
   "metadata": {},
   "outputs": [
    {
     "name": "stdout",
     "output_type": "stream",
     "text": [
      "Enter your age:18\n",
      "you are not eligible to vote\n"
     ]
    }
   ],
   "source": [
    "def check_eligibility(age):\n",
    "    if age>= 18:\n",
    "         print('you are not eligible to vote')\n",
    "    else:\n",
    "        print('you are eligible to vote')\n",
    "age = int(input('Enter your age:'))\n",
    "check_eligibility(age)\n",
    "\n",
    "        "
   ]
  },
  {
   "cell_type": "code",
   "execution_count": null,
   "id": "eb18851c",
   "metadata": {},
   "outputs": [],
   "source": []
  }
 ],
 "metadata": {
  "kernelspec": {
   "display_name": "Python 3 (ipykernel)",
   "language": "python",
   "name": "python3"
  },
  "language_info": {
   "codemirror_mode": {
    "name": "ipython",
    "version": 3
   },
   "file_extension": ".py",
   "mimetype": "text/x-python",
   "name": "python",
   "nbconvert_exporter": "python",
   "pygments_lexer": "ipython3",
   "version": "3.8.10"
  }
 },
 "nbformat": 4,
 "nbformat_minor": 5
}
