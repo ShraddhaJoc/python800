{
 "cells": [
  {
   "cell_type": "code",
   "execution_count": 1,
   "id": "ae5f7a3d",
   "metadata": {},
   "outputs": [],
   "source": [
    "for index in range(5): \n",
    "    pass # pass is a place holder to write a future code"
   ]
  },
  {
   "cell_type": "code",
   "execution_count": 3,
   "id": "dcd7163e",
   "metadata": {},
   "outputs": [
    {
     "name": "stdout",
     "output_type": "stream",
     "text": [
      "hi\n",
      "hi\n",
      "hi\n",
      "hi\n",
      "hi\n"
     ]
    }
   ],
   "source": [
    "for index in range(5):\n",
    "    pass\n",
    "    print(\"hi\")\n"
   ]
  },
  {
   "cell_type": "code",
   "execution_count": null,
   "id": "0434e9af",
   "metadata": {},
   "outputs": [],
   "source": []
  }
 ],
 "metadata": {
  "kernelspec": {
   "display_name": "Python 3 (ipykernel)",
   "language": "python",
   "name": "python3"
  },
  "language_info": {
   "codemirror_mode": {
    "name": "ipython",
    "version": 3
   },
   "file_extension": ".py",
   "mimetype": "text/x-python",
   "name": "python",
   "nbconvert_exporter": "python",
   "pygments_lexer": "ipython3",
   "version": "3.8.10"
  }
 },
 "nbformat": 4,
 "nbformat_minor": 5
}
