{
 "cells": [
  {
   "cell_type": "code",
   "execution_count": null,
   "id": "8752cc17",
   "metadata": {},
   "outputs": [],
   "source": [
    "text = \"Leonel Messi is a Goat\""
   ]
  },
  {
   "cell_type": "code",
   "execution_count": 29,
   "id": "2a095fed",
   "metadata": {},
   "outputs": [
    {
     "data": {
      "text/plain": [
       "' This i'"
      ]
     },
     "execution_count": 29,
     "metadata": {},
     "output_type": "execute_result"
    }
   ],
   "source": [
    "text[0:7]"
   ]
  },
  {
   "cell_type": "code",
   "execution_count": 30,
   "id": "e3e99738",
   "metadata": {},
   "outputs": [
    {
     "data": {
      "text/plain": [
       "'his is fun '"
      ]
     },
     "execution_count": 30,
     "metadata": {},
     "output_type": "execute_result"
    }
   ],
   "source": [
    "text[2:]"
   ]
  },
  {
   "cell_type": "code",
   "execution_count": 31,
   "id": "d1f9fd75",
   "metadata": {},
   "outputs": [
    {
     "data": {
      "text/plain": [
       "' T'"
      ]
     },
     "execution_count": 31,
     "metadata": {},
     "output_type": "execute_result"
    }
   ],
   "source": [
    "text[:2]"
   ]
  },
  {
   "cell_type": "code",
   "execution_count": 32,
   "id": "867a0e63",
   "metadata": {},
   "outputs": [
    {
     "data": {
      "text/plain": [
       "'s '"
      ]
     },
     "execution_count": 32,
     "metadata": {},
     "output_type": "execute_result"
    }
   ],
   "source": [
    "text[7:9]"
   ]
  },
  {
   "cell_type": "code",
   "execution_count": 33,
   "id": "442f34a3",
   "metadata": {},
   "outputs": [
    {
     "data": {
      "text/plain": [
       "' hsi'"
      ]
     },
     "execution_count": 33,
     "metadata": {},
     "output_type": "execute_result"
    }
   ],
   "source": [
    "text[0:7:2]"
   ]
  },
  {
   "cell_type": "code",
   "execution_count": 34,
   "id": "81b97273",
   "metadata": {},
   "outputs": [],
   "source": [
    "name = \"shraddha\""
   ]
  },
  {
   "cell_type": "code",
   "execution_count": 35,
   "id": "f8fc96dc",
   "metadata": {},
   "outputs": [
    {
     "data": {
      "text/plain": [
       "'shraddha'"
      ]
     },
     "execution_count": 35,
     "metadata": {},
     "output_type": "execute_result"
    }
   ],
   "source": [
    "name"
   ]
  },
  {
   "cell_type": "code",
   "execution_count": 36,
   "id": "a7146e28",
   "metadata": {},
   "outputs": [
    {
     "data": {
      "text/plain": [
       "'shraddhashraddha'"
      ]
     },
     "execution_count": 36,
     "metadata": {},
     "output_type": "execute_result"
    }
   ],
   "source": [
    "name + name # concat"
   ]
  },
  {
   "cell_type": "code",
   "execution_count": 37,
   "id": "c7d64f7a",
   "metadata": {},
   "outputs": [
    {
     "data": {
      "text/plain": [
       "'shraddhashraddha'"
      ]
     },
     "execution_count": 37,
     "metadata": {},
     "output_type": "execute_result"
    }
   ],
   "source": [
    "name *2"
   ]
  },
  {
   "cell_type": "markdown",
   "id": "66d74963",
   "metadata": {},
   "source": [
    "# string methods"
   ]
  },
  {
   "cell_type": "code",
   "execution_count": null,
   "id": "0ed49147",
   "metadata": {},
   "outputs": [],
   "source": [
    "name = \"k$hitiz\""
   ]
  },
  {
   "cell_type": "code",
   "execution_count": null,
   "id": "035b4fef",
   "metadata": {},
   "outputs": [],
   "source": [
    "name"
   ]
  },
  {
   "cell_type": "code",
   "execution_count": null,
   "id": "2d6962f6",
   "metadata": {},
   "outputs": [],
   "source": [
    "name[1]"
   ]
  },
  {
   "cell_type": "code",
   "execution_count": null,
   "id": "a8852cfb",
   "metadata": {},
   "outputs": [],
   "source": [
    "name[1] ='s' # python strings are immutable"
   ]
  },
  {
   "cell_type": "markdown",
   "id": "f71d20b6",
   "metadata": {},
   "source": [
    "Immutable : same memory location ma udate garna mildaina "
   ]
  },
  {
   "cell_type": "markdown",
   "id": "95197aa9",
   "metadata": {},
   "source": [
    "# .replace() method in strings "
   ]
  },
  {
   "cell_type": "code",
   "execution_count": null,
   "id": "a74398b4",
   "metadata": {},
   "outputs": [],
   "source": [
    "name"
   ]
  },
  {
   "cell_type": "code",
   "execution_count": null,
   "id": "dd3f822a",
   "metadata": {},
   "outputs": [],
   "source": [
    "name.replace(\"$\",\"s\")"
   ]
  },
  {
   "cell_type": "code",
   "execution_count": null,
   "id": "e3d7df8b",
   "metadata": {},
   "outputs": [],
   "source": [
    "name = name.replace(\"$\",\"s\")"
   ]
  },
  {
   "cell_type": "code",
   "execution_count": null,
   "id": "9187b24a",
   "metadata": {},
   "outputs": [],
   "source": [
    "name"
   ]
  },
  {
   "cell_type": "code",
   "execution_count": null,
   "id": "6e9a0d9c",
   "metadata": {},
   "outputs": [],
   "source": [
    "name = 'k$hitiz $'"
   ]
  },
  {
   "cell_type": "code",
   "execution_count": null,
   "id": "3e0f12f0",
   "metadata": {},
   "outputs": [],
   "source": [
    "name = name.replace(\"$\",\"s\") # sabaai occurence lai replaace garxa "
   ]
  },
  {
   "cell_type": "code",
   "execution_count": null,
   "id": "cb0dd387",
   "metadata": {},
   "outputs": [],
   "source": [
    "name"
   ]
  },
  {
   "cell_type": "markdown",
   "id": "271e87b2",
   "metadata": {},
   "source": [
    "# .upper() and .lower()"
   ]
  },
  {
   "cell_type": "code",
   "execution_count": null,
   "id": "f810455b",
   "metadata": {},
   "outputs": [],
   "source": [
    "msg = input(\"Enter a msg:\")\n",
    "msg.lower()"
   ]
  },
  {
   "cell_type": "code",
   "execution_count": 1,
   "id": "8d22c442",
   "metadata": {},
   "outputs": [
    {
     "name": "stdout",
     "output_type": "stream",
     "text": [
      "enter a msg: hi everyone\n",
      "hi everyone\n"
     ]
    }
   ],
   "source": [
    "msg = input(\"enter a msg: \")\n",
    "msg = msg.lower()\n",
    "print(msg)"
   ]
  },
  {
   "cell_type": "code",
   "execution_count": 2,
   "id": "831aa7c5",
   "metadata": {},
   "outputs": [
    {
     "name": "stdout",
     "output_type": "stream",
     "text": [
      "enter a msg: hi everyone\n",
      "HI EVERYONE\n"
     ]
    }
   ],
   "source": [
    "msg = input(\"enter a msg: \")\n",
    "msg = msg.upper()\n",
    "print(msg)"
   ]
  },
  {
   "cell_type": "markdown",
   "id": "fc0b4ddb",
   "metadata": {},
   "source": [
    "# .split() method in string"
   ]
  },
  {
   "cell_type": "code",
   "execution_count": 3,
   "id": "62419a0d",
   "metadata": {},
   "outputs": [],
   "source": [
    "txt = \"Mbappe is a legend. \"\n"
   ]
  },
  {
   "cell_type": "code",
   "execution_count": 4,
   "id": "81b78829",
   "metadata": {},
   "outputs": [],
   "source": [
    "words = txt.split(\" \")"
   ]
  },
  {
   "cell_type": "code",
   "execution_count": 5,
   "id": "b0d4ce46",
   "metadata": {},
   "outputs": [
    {
     "data": {
      "text/plain": [
       "['Mbappe', 'is', 'a', 'legend.', '']"
      ]
     },
     "execution_count": 5,
     "metadata": {},
     "output_type": "execute_result"
    }
   ],
   "source": [
    "words"
   ]
  },
  {
   "cell_type": "code",
   "execution_count": 6,
   "id": "c7b54755",
   "metadata": {},
   "outputs": [
    {
     "data": {
      "text/plain": [
       "list"
      ]
     },
     "execution_count": 6,
     "metadata": {},
     "output_type": "execute_result"
    }
   ],
   "source": [
    "type(words)"
   ]
  },
  {
   "cell_type": "markdown",
   "id": "a72548ae",
   "metadata": {},
   "source": [
    "# .strip(), . stripe(), rstripe()"
   ]
  },
  {
   "cell_type": "code",
   "execution_count": 7,
   "id": "6c2171f3",
   "metadata": {},
   "outputs": [],
   "source": [
    "text = \" This is fun \""
   ]
  },
  {
   "cell_type": "code",
   "execution_count": 9,
   "id": "72b1f2ca",
   "metadata": {},
   "outputs": [
    {
     "data": {
      "text/plain": [
       "'This is fun'"
      ]
     },
     "execution_count": 9,
     "metadata": {},
     "output_type": "execute_result"
    }
   ],
   "source": [
    "text.strip() # removes extra spaces before and end of the text"
   ]
  },
  {
   "cell_type": "code",
   "execution_count": 10,
   "id": "dead7627",
   "metadata": {},
   "outputs": [
    {
     "data": {
      "text/plain": [
       "'This is fun '"
      ]
     },
     "execution_count": 10,
     "metadata": {},
     "output_type": "execute_result"
    }
   ],
   "source": [
    "text.lstrip() # removes all spaces at the left"
   ]
  },
  {
   "cell_type": "code",
   "execution_count": 11,
   "id": "790f20d5",
   "metadata": {},
   "outputs": [
    {
     "data": {
      "text/plain": [
       "' This is fun'"
      ]
     },
     "execution_count": 11,
     "metadata": {},
     "output_type": "execute_result"
    }
   ],
   "source": [
    "text.rstrip()  # removes all spaces at the right"
   ]
  },
  {
   "cell_type": "markdown",
   "id": "7359c4cc",
   "metadata": {},
   "source": [
    "# .join() method in string"
   ]
  },
  {
   "cell_type": "code",
   "execution_count": 24,
   "id": "179c6678",
   "metadata": {},
   "outputs": [],
   "source": [
    "txt = \"I love football.\""
   ]
  },
  {
   "cell_type": "code",
   "execution_count": 25,
   "id": "f024cffc",
   "metadata": {},
   "outputs": [
    {
     "data": {
      "text/plain": [
       "'I love football.'"
      ]
     },
     "execution_count": 25,
     "metadata": {},
     "output_type": "execute_result"
    }
   ],
   "source": [
    "txt"
   ]
  },
  {
   "cell_type": "code",
   "execution_count": 26,
   "id": "ecc2f38a",
   "metadata": {},
   "outputs": [],
   "source": [
    "txt= txt.split()"
   ]
  },
  {
   "cell_type": "code",
   "execution_count": 27,
   "id": "49595f0b",
   "metadata": {},
   "outputs": [
    {
     "data": {
      "text/plain": [
       "['I', 'love', 'football.']"
      ]
     },
     "execution_count": 27,
     "metadata": {},
     "output_type": "execute_result"
    }
   ],
   "source": [
    "txt"
   ]
  },
  {
   "cell_type": "code",
   "execution_count": 28,
   "id": "1fe225bd",
   "metadata": {},
   "outputs": [
    {
     "data": {
      "text/plain": [
       "'I love football.'"
      ]
     },
     "execution_count": 28,
     "metadata": {},
     "output_type": "execute_result"
    }
   ],
   "source": [
    "\" \".join(txt)"
   ]
  },
  {
   "cell_type": "code",
   "execution_count": null,
   "id": "dade256a",
   "metadata": {},
   "outputs": [],
   "source": []
  }
 ],
 "metadata": {
  "kernelspec": {
   "display_name": "Python 3 (ipykernel)",
   "language": "python",
   "name": "python3"
  },
  "language_info": {
   "codemirror_mode": {
    "name": "ipython",
    "version": 3
   },
   "file_extension": ".py",
   "mimetype": "text/x-python",
   "name": "python",
   "nbconvert_exporter": "python",
   "pygments_lexer": "ipython3",
   "version": "3.8.10"
  }
 },
 "nbformat": 4,
 "nbformat_minor": 5
}
